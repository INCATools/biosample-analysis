{
 "cells": [
  {
   "cell_type": "markdown",
   "id": "moved-intranet",
   "metadata": {},
   "source": [
    "# MIxS Triad Classification\n",
    "#### Goal: Classify a GOLD biosample's `env_broad_scale`, `env_local_scale`, and `env_medium`."
   ]
  },
  {
   "cell_type": "code",
   "execution_count": 1,
   "id": "trying-cannon",
   "metadata": {},
   "outputs": [],
   "source": [
    "import pandas as pd\n",
    "from catboost import *\n",
    "from catboost.utils import get_confusion_matrix, get_roc_curve\n",
    "from sklearn.model_selection import train_test_split"
   ]
  },
  {
   "cell_type": "markdown",
   "id": "enclosed-revision",
   "metadata": {},
   "source": [
    "## load biosample data before NER"
   ]
  },
  {
   "cell_type": "code",
   "execution_count": 2,
   "id": "suspended-dining",
   "metadata": {},
   "outputs": [
    {
     "data": {
      "text/plain": [
       "32236"
      ]
     },
     "execution_count": 2,
     "metadata": {},
     "output_type": "execute_result"
    }
   ],
   "source": [
    "biosampleDf = pd.read_csv('../../downloads/nmdc-gold-path-ner/nmdc-biosample-table-for-ner-20201016.tsv', sep='\\t')\n",
    "biosampleDf.rename(columns={\"GOLD_ID\": \"gold_id\"}, inplace=True) # lower case gold id\n",
    "biosampleDf.drop_duplicates(inplace=True)\n",
    "len(biosampleDf)"
   ]
  },
  {
   "cell_type": "markdown",
   "id": "wicked-delta",
   "metadata": {},
   "source": [
    "#### drop rows where either env_broad_scale, env_local_scale, or env_medium are null"
   ]
  },
  {
   "cell_type": "code",
   "execution_count": 3,
   "id": "permanent-decimal",
   "metadata": {},
   "outputs": [],
   "source": [
    "biosampleDf = biosampleDf[biosampleDf[\"ENV_BROAD_SCALE\"].notnull()]\n",
    "biosampleDf = biosampleDf[biosampleDf[\"ENV_LOCAL_SCALE\"].notnull()]\n",
    "biosampleDf = biosampleDf[biosampleDf[\"ENV_MEDIUM\"].notnull()]"
   ]
  },
  {
   "cell_type": "code",
   "execution_count": 4,
   "id": "unlike-copying",
   "metadata": {},
   "outputs": [
    {
     "data": {
      "text/plain": [
       "26846"
      ]
     },
     "execution_count": 4,
     "metadata": {},
     "output_type": "execute_result"
    }
   ],
   "source": [
    "len(biosampleDf)"
   ]
  },
  {
   "cell_type": "code",
   "execution_count": 5,
   "id": "flying-monkey",
   "metadata": {},
   "outputs": [
    {
     "data": {
      "text/html": [
       "<div>\n",
       "<style scoped>\n",
       "    .dataframe tbody tr th:only-of-type {\n",
       "        vertical-align: middle;\n",
       "    }\n",
       "\n",
       "    .dataframe tbody tr th {\n",
       "        vertical-align: top;\n",
       "    }\n",
       "\n",
       "    .dataframe thead th {\n",
       "        text-align: right;\n",
       "    }\n",
       "</style>\n",
       "<table border=\"1\" class=\"dataframe\">\n",
       "  <thead>\n",
       "    <tr style=\"text-align: right;\">\n",
       "      <th></th>\n",
       "      <th>gold_id</th>\n",
       "      <th>BIOSAMPLE_NAME</th>\n",
       "      <th>DESCRIPTION</th>\n",
       "      <th>HABITAT</th>\n",
       "      <th>IDENTIFIER</th>\n",
       "      <th>SAMPLE_COLLECTION_SITE</th>\n",
       "      <th>ECOSYSTEM</th>\n",
       "      <th>ECOSYSTEM_CATEGORY</th>\n",
       "      <th>ECOSYSTEM_TYPE</th>\n",
       "      <th>ECOSYSTEM_SUBTYPE</th>\n",
       "      <th>SPECIFIC_ECOSYSTEM</th>\n",
       "      <th>BROAD_SCALE_LABEL</th>\n",
       "      <th>LOCAL_SCALE_LABEL</th>\n",
       "      <th>MEDIUM_LABEL</th>\n",
       "      <th>ENV_BROAD_SCALE</th>\n",
       "      <th>ENV_LOCAL_SCALE</th>\n",
       "      <th>ENV_MEDIUM</th>\n",
       "    </tr>\n",
       "  </thead>\n",
       "  <tbody>\n",
       "    <tr>\n",
       "      <th>0</th>\n",
       "      <td>Gb0173867</td>\n",
       "      <td>Freshwater microbial communities from Amazon R...</td>\n",
       "      <td>Freshwater microbial communities from Amazon R...</td>\n",
       "      <td>Freshwater</td>\n",
       "      <td>RCJ6</td>\n",
       "      <td>river water</td>\n",
       "      <td>Environmental</td>\n",
       "      <td>Aquatic</td>\n",
       "      <td>Freshwater</td>\n",
       "      <td>River</td>\n",
       "      <td>Unclassified</td>\n",
       "      <td>freshwater river biome</td>\n",
       "      <td>river</td>\n",
       "      <td>river water</td>\n",
       "      <td>ENVO_01000253</td>\n",
       "      <td>ENVO_00000022</td>\n",
       "      <td>ENVO_01000599</td>\n",
       "    </tr>\n",
       "    <tr>\n",
       "      <th>1</th>\n",
       "      <td>Gb0173872</td>\n",
       "      <td>Freshwater microbial communities from Amazon R...</td>\n",
       "      <td>Freshwater microbial communities from Amazon R...</td>\n",
       "      <td>Freshwater</td>\n",
       "      <td>RCJ3</td>\n",
       "      <td>river water</td>\n",
       "      <td>Environmental</td>\n",
       "      <td>Aquatic</td>\n",
       "      <td>Freshwater</td>\n",
       "      <td>River</td>\n",
       "      <td>Unclassified</td>\n",
       "      <td>freshwater river biome</td>\n",
       "      <td>river</td>\n",
       "      <td>river water</td>\n",
       "      <td>ENVO_01000253</td>\n",
       "      <td>ENVO_00000022</td>\n",
       "      <td>ENVO_01000599</td>\n",
       "    </tr>\n",
       "    <tr>\n",
       "      <th>2</th>\n",
       "      <td>Gb0173903</td>\n",
       "      <td>Lake sediment microbial communtites from St. P...</td>\n",
       "      <td>Lake sediment microbial communtites from St. P...</td>\n",
       "      <td>Lake sediment</td>\n",
       "      <td>PH082_579</td>\n",
       "      <td>Lake sediment</td>\n",
       "      <td>Environmental</td>\n",
       "      <td>Aquatic</td>\n",
       "      <td>Freshwater</td>\n",
       "      <td>Lake</td>\n",
       "      <td>Sediment</td>\n",
       "      <td>freshwater lake biome</td>\n",
       "      <td>freshwater lake</td>\n",
       "      <td>lake sediment</td>\n",
       "      <td>ENVO_01000252</td>\n",
       "      <td>ENVO_00000021</td>\n",
       "      <td>ENVO_00000546</td>\n",
       "    </tr>\n",
       "    <tr>\n",
       "      <th>3</th>\n",
       "      <td>Gb0173935</td>\n",
       "      <td>Lake sediment microbial communtites from St. P...</td>\n",
       "      <td>Lake sediment microbial communtites from St. P...</td>\n",
       "      <td>Lake sediment</td>\n",
       "      <td>PH-EC31_na</td>\n",
       "      <td>Lake sediment</td>\n",
       "      <td>Environmental</td>\n",
       "      <td>Aquatic</td>\n",
       "      <td>Freshwater</td>\n",
       "      <td>Lake</td>\n",
       "      <td>Sediment</td>\n",
       "      <td>freshwater lake biome</td>\n",
       "      <td>freshwater lake</td>\n",
       "      <td>lake sediment</td>\n",
       "      <td>ENVO_01000252</td>\n",
       "      <td>ENVO_00000021</td>\n",
       "      <td>ENVO_00000546</td>\n",
       "    </tr>\n",
       "    <tr>\n",
       "      <th>4</th>\n",
       "      <td>Gb0173942</td>\n",
       "      <td>Freshwater microbial communities from thermoka...</td>\n",
       "      <td>Freshwater microbial communities from thermoka...</td>\n",
       "      <td>Freshwater</td>\n",
       "      <td>NaN</td>\n",
       "      <td>Thermokarst lake</td>\n",
       "      <td>Environmental</td>\n",
       "      <td>Aquatic</td>\n",
       "      <td>Freshwater</td>\n",
       "      <td>Lake</td>\n",
       "      <td>Unclassified</td>\n",
       "      <td>freshwater lake biome</td>\n",
       "      <td>thermokarst lake</td>\n",
       "      <td>lake water</td>\n",
       "      <td>ENVO_01000252</td>\n",
       "      <td>ENVO_03000082</td>\n",
       "      <td>ENVO_04000007</td>\n",
       "    </tr>\n",
       "  </tbody>\n",
       "</table>\n",
       "</div>"
      ],
      "text/plain": [
       "     gold_id                                     BIOSAMPLE_NAME  \\\n",
       "0  Gb0173867  Freshwater microbial communities from Amazon R...   \n",
       "1  Gb0173872  Freshwater microbial communities from Amazon R...   \n",
       "2  Gb0173903  Lake sediment microbial communtites from St. P...   \n",
       "3  Gb0173935  Lake sediment microbial communtites from St. P...   \n",
       "4  Gb0173942  Freshwater microbial communities from thermoka...   \n",
       "\n",
       "                                         DESCRIPTION        HABITAT  \\\n",
       "0  Freshwater microbial communities from Amazon R...     Freshwater   \n",
       "1  Freshwater microbial communities from Amazon R...     Freshwater   \n",
       "2  Lake sediment microbial communtites from St. P...  Lake sediment   \n",
       "3  Lake sediment microbial communtites from St. P...  Lake sediment   \n",
       "4  Freshwater microbial communities from thermoka...     Freshwater   \n",
       "\n",
       "   IDENTIFIER SAMPLE_COLLECTION_SITE      ECOSYSTEM ECOSYSTEM_CATEGORY  \\\n",
       "0        RCJ6            river water  Environmental            Aquatic   \n",
       "1        RCJ3            river water  Environmental            Aquatic   \n",
       "2   PH082_579          Lake sediment  Environmental            Aquatic   \n",
       "3  PH-EC31_na          Lake sediment  Environmental            Aquatic   \n",
       "4         NaN       Thermokarst lake  Environmental            Aquatic   \n",
       "\n",
       "  ECOSYSTEM_TYPE ECOSYSTEM_SUBTYPE SPECIFIC_ECOSYSTEM       BROAD_SCALE_LABEL  \\\n",
       "0     Freshwater             River       Unclassified  freshwater river biome   \n",
       "1     Freshwater             River       Unclassified  freshwater river biome   \n",
       "2     Freshwater              Lake           Sediment   freshwater lake biome   \n",
       "3     Freshwater              Lake           Sediment   freshwater lake biome   \n",
       "4     Freshwater              Lake       Unclassified   freshwater lake biome   \n",
       "\n",
       "  LOCAL_SCALE_LABEL   MEDIUM_LABEL ENV_BROAD_SCALE ENV_LOCAL_SCALE  \\\n",
       "0             river    river water   ENVO_01000253   ENVO_00000022   \n",
       "1             river    river water   ENVO_01000253   ENVO_00000022   \n",
       "2   freshwater lake  lake sediment   ENVO_01000252   ENVO_00000021   \n",
       "3   freshwater lake  lake sediment   ENVO_01000252   ENVO_00000021   \n",
       "4  thermokarst lake     lake water   ENVO_01000252   ENVO_03000082   \n",
       "\n",
       "      ENV_MEDIUM  \n",
       "0  ENVO_01000599  \n",
       "1  ENVO_01000599  \n",
       "2  ENVO_00000546  \n",
       "3  ENVO_00000546  \n",
       "4  ENVO_04000007  "
      ]
     },
     "execution_count": 5,
     "metadata": {},
     "output_type": "execute_result"
    }
   ],
   "source": [
    "biosampleDf.head()"
   ]
  },
  {
   "cell_type": "markdown",
   "id": "close-scholar",
   "metadata": {},
   "source": [
    "## load runNER output\n",
    "`runNER` was used to perform NER on biosample_name, decription, habitat, and sample_selection_site fields  \n",
    "cf. biosample-analysis issue [#47](https://github.com/INCATools/biosample-analysis/issues/47)"
   ]
  },
  {
   "cell_type": "code",
   "execution_count": 6,
   "id": "mighty-chance",
   "metadata": {},
   "outputs": [],
   "source": [
    "nerDf = pd.read_csv('../../downloads/nmdc-gold-path-ner/runner/runNER_Output.tsv', sep='\\t')"
   ]
  },
  {
   "cell_type": "code",
   "execution_count": 7,
   "id": "complimentary-advertiser",
   "metadata": {},
   "outputs": [
    {
     "data": {
      "text/html": [
       "<div>\n",
       "<style scoped>\n",
       "    .dataframe tbody tr th:only-of-type {\n",
       "        vertical-align: middle;\n",
       "    }\n",
       "\n",
       "    .dataframe tbody tr th {\n",
       "        vertical-align: top;\n",
       "    }\n",
       "\n",
       "    .dataframe thead th {\n",
       "        text-align: right;\n",
       "    }\n",
       "</style>\n",
       "<table border=\"1\" class=\"dataframe\">\n",
       "  <thead>\n",
       "    <tr style=\"text-align: right;\">\n",
       "      <th></th>\n",
       "      <th>DOCUMENT ID</th>\n",
       "      <th>TYPE</th>\n",
       "      <th>START POSITION</th>\n",
       "      <th>END POSITION</th>\n",
       "      <th>MATCHED TERM</th>\n",
       "      <th>PREFERRED FORM</th>\n",
       "      <th>ENTITY ID</th>\n",
       "      <th>ZONE</th>\n",
       "      <th>SENTENCE ID</th>\n",
       "      <th>ORIGIN</th>\n",
       "      <th>UMLS CUI</th>\n",
       "      <th>SENTENCE</th>\n",
       "    </tr>\n",
       "  </thead>\n",
       "  <tbody>\n",
       "    <tr>\n",
       "      <th>0</th>\n",
       "      <td>Gb0173867</td>\n",
       "      <td>biolink:OntologyClass</td>\n",
       "      <td>0</td>\n",
       "      <td>10</td>\n",
       "      <td>Freshwater</td>\n",
       "      <td>fresh water</td>\n",
       "      <td>ENVO:00002011_SYNONYM</td>\n",
       "      <td>NaN</td>\n",
       "      <td>S1</td>\n",
       "      <td>envo.json</td>\n",
       "      <td>CUI-less</td>\n",
       "      <td>Freshwater microbial communities from Amazon R...</td>\n",
       "    </tr>\n",
       "    <tr>\n",
       "      <th>1</th>\n",
       "      <td>Gb0173867</td>\n",
       "      <td>biolink:OntologyClass</td>\n",
       "      <td>45</td>\n",
       "      <td>50</td>\n",
       "      <td>River</td>\n",
       "      <td>river</td>\n",
       "      <td>ENVO:00000022</td>\n",
       "      <td>NaN</td>\n",
       "      <td>S1</td>\n",
       "      <td>envo.json</td>\n",
       "      <td>CUI-less</td>\n",
       "      <td>Freshwater microbial communities from Amazon R...</td>\n",
       "    </tr>\n",
       "    <tr>\n",
       "      <th>2</th>\n",
       "      <td>Gb0173867</td>\n",
       "      <td>biolink:OntologyClass</td>\n",
       "      <td>67</td>\n",
       "      <td>77</td>\n",
       "      <td>Freshwater</td>\n",
       "      <td>fresh water</td>\n",
       "      <td>ENVO:00002011_SYNONYM</td>\n",
       "      <td>NaN</td>\n",
       "      <td>S2</td>\n",
       "      <td>envo.json</td>\n",
       "      <td>CUI-less</td>\n",
       "      <td>Freshwater microbial communities from Amazon R...</td>\n",
       "    </tr>\n",
       "    <tr>\n",
       "      <th>3</th>\n",
       "      <td>Gb0173867</td>\n",
       "      <td>biolink:OntologyClass</td>\n",
       "      <td>112</td>\n",
       "      <td>117</td>\n",
       "      <td>River</td>\n",
       "      <td>river</td>\n",
       "      <td>ENVO:00000022</td>\n",
       "      <td>NaN</td>\n",
       "      <td>S2</td>\n",
       "      <td>envo.json</td>\n",
       "      <td>CUI-less</td>\n",
       "      <td>Freshwater microbial communities from Amazon R...</td>\n",
       "    </tr>\n",
       "    <tr>\n",
       "      <th>4</th>\n",
       "      <td>Gb0173867</td>\n",
       "      <td>biolink:OntologyClass</td>\n",
       "      <td>127</td>\n",
       "      <td>137</td>\n",
       "      <td>Freshwater</td>\n",
       "      <td>fresh water</td>\n",
       "      <td>ENVO:00002011_SYNONYM</td>\n",
       "      <td>NaN</td>\n",
       "      <td>S3</td>\n",
       "      <td>envo.json</td>\n",
       "      <td>CUI-less</td>\n",
       "      <td>Freshwater.</td>\n",
       "    </tr>\n",
       "  </tbody>\n",
       "</table>\n",
       "</div>"
      ],
      "text/plain": [
       "  DOCUMENT ID                   TYPE  START POSITION  END POSITION  \\\n",
       "0   Gb0173867  biolink:OntologyClass               0            10   \n",
       "1   Gb0173867  biolink:OntologyClass              45            50   \n",
       "2   Gb0173867  biolink:OntologyClass              67            77   \n",
       "3   Gb0173867  biolink:OntologyClass             112           117   \n",
       "4   Gb0173867  biolink:OntologyClass             127           137   \n",
       "\n",
       "  MATCHED TERM PREFERRED FORM              ENTITY ID  ZONE SENTENCE ID  \\\n",
       "0   Freshwater    fresh water  ENVO:00002011_SYNONYM   NaN          S1   \n",
       "1        River          river          ENVO:00000022   NaN          S1   \n",
       "2   Freshwater    fresh water  ENVO:00002011_SYNONYM   NaN          S2   \n",
       "3        River          river          ENVO:00000022   NaN          S2   \n",
       "4   Freshwater    fresh water  ENVO:00002011_SYNONYM   NaN          S3   \n",
       "\n",
       "      ORIGIN  UMLS CUI                                           SENTENCE  \n",
       "0  envo.json  CUI-less  Freshwater microbial communities from Amazon R...  \n",
       "1  envo.json  CUI-less  Freshwater microbial communities from Amazon R...  \n",
       "2  envo.json  CUI-less  Freshwater microbial communities from Amazon R...  \n",
       "3  envo.json  CUI-less  Freshwater microbial communities from Amazon R...  \n",
       "4  envo.json  CUI-less                                        Freshwater.  "
      ]
     },
     "execution_count": 7,
     "metadata": {},
     "output_type": "execute_result"
    }
   ],
   "source": [
    "nerDf.head()"
   ]
  },
  {
   "cell_type": "markdown",
   "id": "under-springer",
   "metadata": {},
   "source": [
    "## load one-hot-encoded runNER output"
   ]
  },
  {
   "cell_type": "code",
   "execution_count": 8,
   "id": "accepted-confusion",
   "metadata": {},
   "outputs": [
    {
     "data": {
      "text/plain": [
       "25015"
      ]
     },
     "execution_count": 8,
     "metadata": {},
     "output_type": "execute_result"
    }
   ],
   "source": [
    "onehotDf = pd.read_csv('../../target/nmdc-biosample-one-hot.tsv', sep='\\t')\n",
    "onehotDf.drop_duplicates(inplace=True)\n",
    "len(onehotDf)"
   ]
  },
  {
   "cell_type": "code",
   "execution_count": 9,
   "id": "modern-hudson",
   "metadata": {},
   "outputs": [
    {
     "data": {
      "text/html": [
       "<div>\n",
       "<style scoped>\n",
       "    .dataframe tbody tr th:only-of-type {\n",
       "        vertical-align: middle;\n",
       "    }\n",
       "\n",
       "    .dataframe tbody tr th {\n",
       "        vertical-align: top;\n",
       "    }\n",
       "\n",
       "    .dataframe thead th {\n",
       "        text-align: right;\n",
       "    }\n",
       "</style>\n",
       "<table border=\"1\" class=\"dataframe\">\n",
       "  <thead>\n",
       "    <tr style=\"text-align: right;\">\n",
       "      <th></th>\n",
       "      <th>gold_id</th>\n",
       "      <th>fresh water</th>\n",
       "      <th>river</th>\n",
       "      <th>river water</th>\n",
       "      <th>water</th>\n",
       "      <th>liquid water</th>\n",
       "      <th>saline evaporation pond</th>\n",
       "      <th>lake bed</th>\n",
       "      <th>container of an intermittent saline lake</th>\n",
       "      <th>bayou</th>\n",
       "      <th>...</th>\n",
       "      <th>cave entrance</th>\n",
       "      <th>house</th>\n",
       "      <th>flume</th>\n",
       "      <th>irrigation canal</th>\n",
       "      <th>canalized stream</th>\n",
       "      <th>drainage canal</th>\n",
       "      <th>irrigation ditch</th>\n",
       "      <th>canal</th>\n",
       "      <th>chernozem</th>\n",
       "      <th>Earth</th>\n",
       "    </tr>\n",
       "  </thead>\n",
       "  <tbody>\n",
       "    <tr>\n",
       "      <th>0</th>\n",
       "      <td>Gb0173867</td>\n",
       "      <td>1</td>\n",
       "      <td>1</td>\n",
       "      <td>1</td>\n",
       "      <td>1</td>\n",
       "      <td>1</td>\n",
       "      <td>0</td>\n",
       "      <td>0</td>\n",
       "      <td>0</td>\n",
       "      <td>0</td>\n",
       "      <td>...</td>\n",
       "      <td>0</td>\n",
       "      <td>0</td>\n",
       "      <td>0</td>\n",
       "      <td>0</td>\n",
       "      <td>0</td>\n",
       "      <td>0</td>\n",
       "      <td>0</td>\n",
       "      <td>0</td>\n",
       "      <td>0</td>\n",
       "      <td>0</td>\n",
       "    </tr>\n",
       "    <tr>\n",
       "      <th>1</th>\n",
       "      <td>Gb0173872</td>\n",
       "      <td>1</td>\n",
       "      <td>1</td>\n",
       "      <td>1</td>\n",
       "      <td>1</td>\n",
       "      <td>1</td>\n",
       "      <td>0</td>\n",
       "      <td>0</td>\n",
       "      <td>0</td>\n",
       "      <td>0</td>\n",
       "      <td>...</td>\n",
       "      <td>0</td>\n",
       "      <td>0</td>\n",
       "      <td>0</td>\n",
       "      <td>0</td>\n",
       "      <td>0</td>\n",
       "      <td>0</td>\n",
       "      <td>0</td>\n",
       "      <td>0</td>\n",
       "      <td>0</td>\n",
       "      <td>0</td>\n",
       "    </tr>\n",
       "    <tr>\n",
       "      <th>2</th>\n",
       "      <td>Gb0173903</td>\n",
       "      <td>0</td>\n",
       "      <td>0</td>\n",
       "      <td>0</td>\n",
       "      <td>0</td>\n",
       "      <td>0</td>\n",
       "      <td>1</td>\n",
       "      <td>1</td>\n",
       "      <td>1</td>\n",
       "      <td>1</td>\n",
       "      <td>...</td>\n",
       "      <td>0</td>\n",
       "      <td>0</td>\n",
       "      <td>0</td>\n",
       "      <td>0</td>\n",
       "      <td>0</td>\n",
       "      <td>0</td>\n",
       "      <td>0</td>\n",
       "      <td>0</td>\n",
       "      <td>0</td>\n",
       "      <td>0</td>\n",
       "    </tr>\n",
       "    <tr>\n",
       "      <th>3</th>\n",
       "      <td>Gb0173935</td>\n",
       "      <td>0</td>\n",
       "      <td>0</td>\n",
       "      <td>0</td>\n",
       "      <td>0</td>\n",
       "      <td>0</td>\n",
       "      <td>1</td>\n",
       "      <td>1</td>\n",
       "      <td>1</td>\n",
       "      <td>1</td>\n",
       "      <td>...</td>\n",
       "      <td>0</td>\n",
       "      <td>0</td>\n",
       "      <td>0</td>\n",
       "      <td>0</td>\n",
       "      <td>0</td>\n",
       "      <td>0</td>\n",
       "      <td>0</td>\n",
       "      <td>0</td>\n",
       "      <td>0</td>\n",
       "      <td>0</td>\n",
       "    </tr>\n",
       "    <tr>\n",
       "      <th>4</th>\n",
       "      <td>Gb0173942</td>\n",
       "      <td>1</td>\n",
       "      <td>0</td>\n",
       "      <td>0</td>\n",
       "      <td>0</td>\n",
       "      <td>0</td>\n",
       "      <td>1</td>\n",
       "      <td>1</td>\n",
       "      <td>1</td>\n",
       "      <td>1</td>\n",
       "      <td>...</td>\n",
       "      <td>0</td>\n",
       "      <td>0</td>\n",
       "      <td>0</td>\n",
       "      <td>0</td>\n",
       "      <td>0</td>\n",
       "      <td>0</td>\n",
       "      <td>0</td>\n",
       "      <td>0</td>\n",
       "      <td>0</td>\n",
       "      <td>0</td>\n",
       "    </tr>\n",
       "  </tbody>\n",
       "</table>\n",
       "<p>5 rows × 814 columns</p>\n",
       "</div>"
      ],
      "text/plain": [
       "     gold_id  fresh water  river  river water  water  liquid water  \\\n",
       "0  Gb0173867            1      1            1      1             1   \n",
       "1  Gb0173872            1      1            1      1             1   \n",
       "2  Gb0173903            0      0            0      0             0   \n",
       "3  Gb0173935            0      0            0      0             0   \n",
       "4  Gb0173942            1      0            0      0             0   \n",
       "\n",
       "   saline evaporation pond  lake bed  \\\n",
       "0                        0         0   \n",
       "1                        0         0   \n",
       "2                        1         1   \n",
       "3                        1         1   \n",
       "4                        1         1   \n",
       "\n",
       "   container of an intermittent saline lake  bayou  ...  cave entrance  house  \\\n",
       "0                                         0      0  ...              0      0   \n",
       "1                                         0      0  ...              0      0   \n",
       "2                                         1      1  ...              0      0   \n",
       "3                                         1      1  ...              0      0   \n",
       "4                                         1      1  ...              0      0   \n",
       "\n",
       "   flume  irrigation canal  canalized stream  drainage canal  \\\n",
       "0      0                 0                 0               0   \n",
       "1      0                 0                 0               0   \n",
       "2      0                 0                 0               0   \n",
       "3      0                 0                 0               0   \n",
       "4      0                 0                 0               0   \n",
       "\n",
       "   irrigation ditch  canal  chernozem  Earth  \n",
       "0                 0      0          0      0  \n",
       "1                 0      0          0      0  \n",
       "2                 0      0          0      0  \n",
       "3                 0      0          0      0  \n",
       "4                 0      0          0      0  \n",
       "\n",
       "[5 rows x 814 columns]"
      ]
     },
     "execution_count": 9,
     "metadata": {},
     "output_type": "execute_result"
    }
   ],
   "source": [
    "onehotDf.head()"
   ]
  },
  {
   "cell_type": "markdown",
   "id": "crazy-activation",
   "metadata": {},
   "source": [
    "## There are fewer rows in the one-hot output than in the biosample data. So, subset the biosample data.\n",
    "note: We end up with less rows than the one-hot-encoded data b/c we dropped null values from biosample data above."
   ]
  },
  {
   "cell_type": "code",
   "execution_count": 10,
   "id": "skilled-nightlife",
   "metadata": {},
   "outputs": [
    {
     "data": {
      "text/plain": [
       "25015"
      ]
     },
     "execution_count": 10,
     "metadata": {},
     "output_type": "execute_result"
    }
   ],
   "source": [
    "onehotIds = list(onehotDf[\"gold_id\"])\n",
    "len(onehotIds)"
   ]
  },
  {
   "cell_type": "code",
   "execution_count": 11,
   "id": "uniform-evidence",
   "metadata": {},
   "outputs": [
    {
     "name": "stderr",
     "output_type": "stream",
     "text": [
      "/Users/wdduncan/temp/test-catboost/test-catboost/lib/python3.9/site-packages/pandas/util/_decorators.py:311: SettingWithCopyWarning: \n",
      "A value is trying to be set on a copy of a slice from a DataFrame\n",
      "\n",
      "See the caveats in the documentation: https://pandas.pydata.org/pandas-docs/stable/user_guide/indexing.html#returning-a-view-versus-a-copy\n",
      "  return func(*args, **kwargs)\n"
     ]
    },
    {
     "data": {
      "text/plain": [
       "20220"
      ]
     },
     "execution_count": 11,
     "metadata": {},
     "output_type": "execute_result"
    }
   ],
   "source": [
    "subsetDf = biosampleDf[biosampleDf[\"gold_id\"].isin(onehotIds)]\n",
    "subsetDf.drop_duplicates(inplace=True)\n",
    "len(subsetDf)"
   ]
  },
  {
   "cell_type": "markdown",
   "id": "introductory-track",
   "metadata": {},
   "source": [
    "## create target sets"
   ]
  },
  {
   "cell_type": "code",
   "execution_count": 12,
   "id": "assured-identification",
   "metadata": {},
   "outputs": [],
   "source": [
    "# the sklearn convention is to use y for targets/labels\n",
    "y_broad = subsetDf[[\"ENV_BROAD_SCALE\"]]\n",
    "y_local = subsetDf[[\"ENV_LOCAL_SCALE\"]]\n",
    "y_medium = subsetDf[[\"ENV_MEDIUM\"]]"
   ]
  },
  {
   "cell_type": "markdown",
   "id": "charged-differential",
   "metadata": {},
   "source": [
    "## create feature set by adding gold path info to one-hot-encoded data"
   ]
  },
  {
   "cell_type": "code",
   "execution_count": 13,
   "id": "active-carter",
   "metadata": {},
   "outputs": [],
   "source": [
    "# list of biosample columns to use (note: need to include gold_id for merging)\n",
    "gold_paths = [\"gold_id\", \"ECOSYSTEM\", \"ECOSYSTEM_CATEGORY\", \"ECOSYSTEM_TYPE\", \"ECOSYSTEM_SUBTYPE\", \"SPECIFIC_ECOSYSTEM\"]\n",
    "\n",
    "# the sklearn convention is to use X for the feature set\n",
    "X = pd.merge(onehotDf, subsetDf[gold_paths], how=\"inner\", on=\"gold_id\")\n",
    "X.pop(\"gold_id\") # drop the gold_id\n",
    "assert len(X) == len(subsetDf) # verify that the lengths are the same"
   ]
  },
  {
   "cell_type": "markdown",
   "id": "breeding-momentum",
   "metadata": {},
   "source": [
    "## classify env_broad_scale"
   ]
  },
  {
   "cell_type": "code",
   "execution_count": 14,
   "id": "extra-popularity",
   "metadata": {},
   "outputs": [],
   "source": [
    "cat_features = [\"ECOSYSTEM\", \"ECOSYSTEM_CATEGORY\", \"ECOSYSTEM_TYPE\", \"ECOSYSTEM_SUBTYPE\", \"SPECIFIC_ECOSYSTEM\"]\n",
    "X_train, X_test, y_train, y_test = train_test_split(X, y_broad, test_size=0.2, random_state=42)"
   ]
  },
  {
   "cell_type": "markdown",
   "id": "uniform-enhancement",
   "metadata": {},
   "source": [
    "#### run classifier for 10 iterations"
   ]
  },
  {
   "cell_type": "code",
   "execution_count": 15,
   "id": "located-dressing",
   "metadata": {},
   "outputs": [],
   "source": [
    "model_10 = CatBoostClassifier(iterations=10)"
   ]
  },
  {
   "cell_type": "code",
   "execution_count": 16,
   "id": "authentic-termination",
   "metadata": {},
   "outputs": [
    {
     "data": {
      "text/plain": [
       "<catboost.core.CatBoostClassifier at 0x14889a550>"
      ]
     },
     "execution_count": 16,
     "metadata": {},
     "output_type": "execute_result"
    }
   ],
   "source": [
    "# set logging_level='Silent' to turn of output; set plot=True to see figure\n",
    "model_10.fit(X_train, y_train, cat_features=cat_features, verbose=False)"
   ]
  },
  {
   "cell_type": "markdown",
   "id": "greenhouse-advocacy",
   "metadata": {},
   "source": [
    "#### run classifier for 100 iterations"
   ]
  },
  {
   "cell_type": "code",
   "execution_count": 133,
   "id": "specific-relations",
   "metadata": {},
   "outputs": [],
   "source": [
    "# model_100 = CatBoostClassifier(iterations=100)"
   ]
  },
  {
   "cell_type": "code",
   "execution_count": 17,
   "id": "serial-ottawa",
   "metadata": {},
   "outputs": [],
   "source": [
    "# set logging_level='Silent' to turn of output; set plot=True to see figure\n",
    "# model_100.fit(X_train, y_train, cat_features=cat_features, verbose=False)"
   ]
  },
  {
   "cell_type": "code",
   "execution_count": null,
   "id": "moderate-segment",
   "metadata": {},
   "outputs": [],
   "source": []
  }
 ],
 "metadata": {
  "kernelspec": {
   "display_name": "test-catboost",
   "language": "python",
   "name": "test-catboost"
  },
  "language_info": {
   "codemirror_mode": {
    "name": "ipython",
    "version": 3
   },
   "file_extension": ".py",
   "mimetype": "text/x-python",
   "name": "python",
   "nbconvert_exporter": "python",
   "pygments_lexer": "ipython3",
   "version": "3.9.7"
  }
 },
 "nbformat": 4,
 "nbformat_minor": 5
}
