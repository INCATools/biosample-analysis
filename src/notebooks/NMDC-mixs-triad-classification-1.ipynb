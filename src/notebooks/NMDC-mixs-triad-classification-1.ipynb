{
 "cells": [
  {
   "cell_type": "markdown",
   "id": "liked-bennett",
   "metadata": {},
   "source": [
    "# MIxS Triad Classification\n",
    "#### Goal: Classify a GOLD biosample's `env_broad_scale`, `env_local_scale`, and `env_medium`.\n",
    "The MIxS triad consists of\n",
    "* env_broad_scale (biome)\n",
    "* env_local_scale (geographic feature)\n",
    "* env_medium (material)\n",
    "\n",
    "For example, consider a water sample collected from pond in a rainforest. The triad values would be:\n",
    "* env_broad_scale: rainforest\n",
    "* env_local_scale: pond\n",
    "* env_medium: water"
   ]
  },
  {
   "cell_type": "markdown",
   "id": "fewer-trauma",
   "metadata": {},
   "source": [
    "# TOC\n",
    "* [load biosample data before NER](#load-biosample-data-before-NER)\n",
    "* [load runNER output](#load-runNER-output)\n",
    "* [load one hot encoded runNER output](#load-one-hot-encoded-runNER-output)\n",
    "* [create target sets](#create-target-sets)\n",
    "* [experiment 1](#experiment-1)  \n",
    "  Predict env_broad_scale using the one-hot-encoded NER results as features.  \n",
    "  10 iteration AUC: **0.621**   \n",
    "  100 iteration AUC: **0.714**   \n",
    "* [experiment 2](#experiment-2)  \n",
    "  Predict env_broad_scale using one-hot-encoded NER results and GOLD paths as features.  \n",
    "  10 iteration AUC: **0.621**   \n",
    "  100 iteration AUC: **0.714**   \n",
    "* [experiment 3](#experiment-3)  \n",
    "  Predict env_broad_scale using just the GOLD paths as features.  \n",
    "  10 iteration AUC: **0.600**   \n",
    "  100 iteration AUC: **0.713**  \n",
    "* [experiment 4](#experiment-4)  \n",
    "  note: this is slowest\n",
    "  Predict env_broad_scale using just the text columns as features: biosample_name, decription, habitat, and sample_selection_site  \n",
    "  10 iteration AUC: **0.710**   \n",
    "  100 iteration AUC: **0.7182** "
   ]
  },
  {
   "cell_type": "code",
   "execution_count": 2,
   "id": "visible-green",
   "metadata": {},
   "outputs": [],
   "source": [
    "import pandas as pd\n",
    "from catboost import *\n",
    "from catboost.utils import get_confusion_matrix, get_roc_curve\n",
    "from sklearn.model_selection import train_test_split"
   ]
  },
  {
   "cell_type": "markdown",
   "id": "unauthorized-closer",
   "metadata": {},
   "source": [
    "# load biosample data before NER <a id=\"load-biosample-data-before-NER\"/>"
   ]
  },
  {
   "cell_type": "code",
   "execution_count": 3,
   "id": "later-server",
   "metadata": {},
   "outputs": [
    {
     "data": {
      "text/plain": [
       "32236"
      ]
     },
     "execution_count": 3,
     "metadata": {},
     "output_type": "execute_result"
    }
   ],
   "source": [
    "biosampleDf = pd.read_csv('../../downloads/nmdc-gold-path-ner/nmdc-biosample-table-for-ner-20201016.tsv', sep='\\t')\n",
    "biosampleDf.rename(columns={\"GOLD_ID\": \"gold_id\"}, inplace=True) # lower case gold id\n",
    "biosampleDf.drop_duplicates(inplace=True)\n",
    "len(biosampleDf)"
   ]
  },
  {
   "cell_type": "markdown",
   "id": "native-communications",
   "metadata": {},
   "source": [
    "drop rows where either env_broad_scale, env_local_scale, or env_medium are null"
   ]
  },
  {
   "cell_type": "code",
   "execution_count": 4,
   "id": "adapted-strain",
   "metadata": {},
   "outputs": [],
   "source": [
    "biosampleDf = biosampleDf[biosampleDf[\"ENV_BROAD_SCALE\"].notnull()]\n",
    "biosampleDf = biosampleDf[biosampleDf[\"ENV_LOCAL_SCALE\"].notnull()]\n",
    "biosampleDf = biosampleDf[biosampleDf[\"ENV_MEDIUM\"].notnull()]"
   ]
  },
  {
   "cell_type": "code",
   "execution_count": 4,
   "id": "potential-above",
   "metadata": {},
   "outputs": [
    {
     "data": {
      "text/plain": [
       "26846"
      ]
     },
     "execution_count": 4,
     "metadata": {},
     "output_type": "execute_result"
    }
   ],
   "source": [
    "len(biosampleDf)"
   ]
  },
  {
   "cell_type": "code",
   "execution_count": 5,
   "id": "technical-locking",
   "metadata": {},
   "outputs": [
    {
     "data": {
      "text/html": [
       "<div>\n",
       "<style scoped>\n",
       "    .dataframe tbody tr th:only-of-type {\n",
       "        vertical-align: middle;\n",
       "    }\n",
       "\n",
       "    .dataframe tbody tr th {\n",
       "        vertical-align: top;\n",
       "    }\n",
       "\n",
       "    .dataframe thead th {\n",
       "        text-align: right;\n",
       "    }\n",
       "</style>\n",
       "<table border=\"1\" class=\"dataframe\">\n",
       "  <thead>\n",
       "    <tr style=\"text-align: right;\">\n",
       "      <th></th>\n",
       "      <th>gold_id</th>\n",
       "      <th>BIOSAMPLE_NAME</th>\n",
       "      <th>DESCRIPTION</th>\n",
       "      <th>HABITAT</th>\n",
       "      <th>IDENTIFIER</th>\n",
       "      <th>SAMPLE_COLLECTION_SITE</th>\n",
       "      <th>ECOSYSTEM</th>\n",
       "      <th>ECOSYSTEM_CATEGORY</th>\n",
       "      <th>ECOSYSTEM_TYPE</th>\n",
       "      <th>ECOSYSTEM_SUBTYPE</th>\n",
       "      <th>SPECIFIC_ECOSYSTEM</th>\n",
       "      <th>BROAD_SCALE_LABEL</th>\n",
       "      <th>LOCAL_SCALE_LABEL</th>\n",
       "      <th>MEDIUM_LABEL</th>\n",
       "      <th>ENV_BROAD_SCALE</th>\n",
       "      <th>ENV_LOCAL_SCALE</th>\n",
       "      <th>ENV_MEDIUM</th>\n",
       "    </tr>\n",
       "  </thead>\n",
       "  <tbody>\n",
       "    <tr>\n",
       "      <th>0</th>\n",
       "      <td>Gb0173867</td>\n",
       "      <td>Freshwater microbial communities from Amazon R...</td>\n",
       "      <td>Freshwater microbial communities from Amazon R...</td>\n",
       "      <td>Freshwater</td>\n",
       "      <td>RCJ6</td>\n",
       "      <td>river water</td>\n",
       "      <td>Environmental</td>\n",
       "      <td>Aquatic</td>\n",
       "      <td>Freshwater</td>\n",
       "      <td>River</td>\n",
       "      <td>Unclassified</td>\n",
       "      <td>freshwater river biome</td>\n",
       "      <td>river</td>\n",
       "      <td>river water</td>\n",
       "      <td>ENVO_01000253</td>\n",
       "      <td>ENVO_00000022</td>\n",
       "      <td>ENVO_01000599</td>\n",
       "    </tr>\n",
       "    <tr>\n",
       "      <th>1</th>\n",
       "      <td>Gb0173872</td>\n",
       "      <td>Freshwater microbial communities from Amazon R...</td>\n",
       "      <td>Freshwater microbial communities from Amazon R...</td>\n",
       "      <td>Freshwater</td>\n",
       "      <td>RCJ3</td>\n",
       "      <td>river water</td>\n",
       "      <td>Environmental</td>\n",
       "      <td>Aquatic</td>\n",
       "      <td>Freshwater</td>\n",
       "      <td>River</td>\n",
       "      <td>Unclassified</td>\n",
       "      <td>freshwater river biome</td>\n",
       "      <td>river</td>\n",
       "      <td>river water</td>\n",
       "      <td>ENVO_01000253</td>\n",
       "      <td>ENVO_00000022</td>\n",
       "      <td>ENVO_01000599</td>\n",
       "    </tr>\n",
       "    <tr>\n",
       "      <th>2</th>\n",
       "      <td>Gb0173903</td>\n",
       "      <td>Lake sediment microbial communtites from St. P...</td>\n",
       "      <td>Lake sediment microbial communtites from St. P...</td>\n",
       "      <td>Lake sediment</td>\n",
       "      <td>PH082_579</td>\n",
       "      <td>Lake sediment</td>\n",
       "      <td>Environmental</td>\n",
       "      <td>Aquatic</td>\n",
       "      <td>Freshwater</td>\n",
       "      <td>Lake</td>\n",
       "      <td>Sediment</td>\n",
       "      <td>freshwater lake biome</td>\n",
       "      <td>freshwater lake</td>\n",
       "      <td>lake sediment</td>\n",
       "      <td>ENVO_01000252</td>\n",
       "      <td>ENVO_00000021</td>\n",
       "      <td>ENVO_00000546</td>\n",
       "    </tr>\n",
       "    <tr>\n",
       "      <th>3</th>\n",
       "      <td>Gb0173935</td>\n",
       "      <td>Lake sediment microbial communtites from St. P...</td>\n",
       "      <td>Lake sediment microbial communtites from St. P...</td>\n",
       "      <td>Lake sediment</td>\n",
       "      <td>PH-EC31_na</td>\n",
       "      <td>Lake sediment</td>\n",
       "      <td>Environmental</td>\n",
       "      <td>Aquatic</td>\n",
       "      <td>Freshwater</td>\n",
       "      <td>Lake</td>\n",
       "      <td>Sediment</td>\n",
       "      <td>freshwater lake biome</td>\n",
       "      <td>freshwater lake</td>\n",
       "      <td>lake sediment</td>\n",
       "      <td>ENVO_01000252</td>\n",
       "      <td>ENVO_00000021</td>\n",
       "      <td>ENVO_00000546</td>\n",
       "    </tr>\n",
       "    <tr>\n",
       "      <th>4</th>\n",
       "      <td>Gb0173942</td>\n",
       "      <td>Freshwater microbial communities from thermoka...</td>\n",
       "      <td>Freshwater microbial communities from thermoka...</td>\n",
       "      <td>Freshwater</td>\n",
       "      <td>NaN</td>\n",
       "      <td>Thermokarst lake</td>\n",
       "      <td>Environmental</td>\n",
       "      <td>Aquatic</td>\n",
       "      <td>Freshwater</td>\n",
       "      <td>Lake</td>\n",
       "      <td>Unclassified</td>\n",
       "      <td>freshwater lake biome</td>\n",
       "      <td>thermokarst lake</td>\n",
       "      <td>lake water</td>\n",
       "      <td>ENVO_01000252</td>\n",
       "      <td>ENVO_03000082</td>\n",
       "      <td>ENVO_04000007</td>\n",
       "    </tr>\n",
       "  </tbody>\n",
       "</table>\n",
       "</div>"
      ],
      "text/plain": [
       "     gold_id                                     BIOSAMPLE_NAME  \\\n",
       "0  Gb0173867  Freshwater microbial communities from Amazon R...   \n",
       "1  Gb0173872  Freshwater microbial communities from Amazon R...   \n",
       "2  Gb0173903  Lake sediment microbial communtites from St. P...   \n",
       "3  Gb0173935  Lake sediment microbial communtites from St. P...   \n",
       "4  Gb0173942  Freshwater microbial communities from thermoka...   \n",
       "\n",
       "                                         DESCRIPTION        HABITAT  \\\n",
       "0  Freshwater microbial communities from Amazon R...     Freshwater   \n",
       "1  Freshwater microbial communities from Amazon R...     Freshwater   \n",
       "2  Lake sediment microbial communtites from St. P...  Lake sediment   \n",
       "3  Lake sediment microbial communtites from St. P...  Lake sediment   \n",
       "4  Freshwater microbial communities from thermoka...     Freshwater   \n",
       "\n",
       "   IDENTIFIER SAMPLE_COLLECTION_SITE      ECOSYSTEM ECOSYSTEM_CATEGORY  \\\n",
       "0        RCJ6            river water  Environmental            Aquatic   \n",
       "1        RCJ3            river water  Environmental            Aquatic   \n",
       "2   PH082_579          Lake sediment  Environmental            Aquatic   \n",
       "3  PH-EC31_na          Lake sediment  Environmental            Aquatic   \n",
       "4         NaN       Thermokarst lake  Environmental            Aquatic   \n",
       "\n",
       "  ECOSYSTEM_TYPE ECOSYSTEM_SUBTYPE SPECIFIC_ECOSYSTEM       BROAD_SCALE_LABEL  \\\n",
       "0     Freshwater             River       Unclassified  freshwater river biome   \n",
       "1     Freshwater             River       Unclassified  freshwater river biome   \n",
       "2     Freshwater              Lake           Sediment   freshwater lake biome   \n",
       "3     Freshwater              Lake           Sediment   freshwater lake biome   \n",
       "4     Freshwater              Lake       Unclassified   freshwater lake biome   \n",
       "\n",
       "  LOCAL_SCALE_LABEL   MEDIUM_LABEL ENV_BROAD_SCALE ENV_LOCAL_SCALE  \\\n",
       "0             river    river water   ENVO_01000253   ENVO_00000022   \n",
       "1             river    river water   ENVO_01000253   ENVO_00000022   \n",
       "2   freshwater lake  lake sediment   ENVO_01000252   ENVO_00000021   \n",
       "3   freshwater lake  lake sediment   ENVO_01000252   ENVO_00000021   \n",
       "4  thermokarst lake     lake water   ENVO_01000252   ENVO_03000082   \n",
       "\n",
       "      ENV_MEDIUM  \n",
       "0  ENVO_01000599  \n",
       "1  ENVO_01000599  \n",
       "2  ENVO_00000546  \n",
       "3  ENVO_00000546  \n",
       "4  ENVO_04000007  "
      ]
     },
     "execution_count": 5,
     "metadata": {},
     "output_type": "execute_result"
    }
   ],
   "source": [
    "biosampleDf.head() # peek at data"
   ]
  },
  {
   "cell_type": "markdown",
   "id": "southeast-optimization",
   "metadata": {},
   "source": [
    "# load runNER output <a id=\"load-runNER-output\"/>\n",
    "`runNER` was used to perform NER on biosample_name, decription, habitat, and sample_selection_site fields  \n",
    "cf. biosample-analysis issue [#47](https://github.com/INCATools/biosample-analysis/issues/47)"
   ]
  },
  {
   "cell_type": "code",
   "execution_count": 6,
   "id": "owned-executive",
   "metadata": {},
   "outputs": [],
   "source": [
    "nerDf = pd.read_csv('../../downloads/nmdc-gold-path-ner/runner/runNER_Output.tsv', sep='\\t')"
   ]
  },
  {
   "cell_type": "code",
   "execution_count": 7,
   "id": "activated-composition",
   "metadata": {},
   "outputs": [
    {
     "data": {
      "text/html": [
       "<div>\n",
       "<style scoped>\n",
       "    .dataframe tbody tr th:only-of-type {\n",
       "        vertical-align: middle;\n",
       "    }\n",
       "\n",
       "    .dataframe tbody tr th {\n",
       "        vertical-align: top;\n",
       "    }\n",
       "\n",
       "    .dataframe thead th {\n",
       "        text-align: right;\n",
       "    }\n",
       "</style>\n",
       "<table border=\"1\" class=\"dataframe\">\n",
       "  <thead>\n",
       "    <tr style=\"text-align: right;\">\n",
       "      <th></th>\n",
       "      <th>DOCUMENT ID</th>\n",
       "      <th>TYPE</th>\n",
       "      <th>START POSITION</th>\n",
       "      <th>END POSITION</th>\n",
       "      <th>MATCHED TERM</th>\n",
       "      <th>PREFERRED FORM</th>\n",
       "      <th>ENTITY ID</th>\n",
       "      <th>ZONE</th>\n",
       "      <th>SENTENCE ID</th>\n",
       "      <th>ORIGIN</th>\n",
       "      <th>UMLS CUI</th>\n",
       "      <th>SENTENCE</th>\n",
       "    </tr>\n",
       "  </thead>\n",
       "  <tbody>\n",
       "    <tr>\n",
       "      <th>0</th>\n",
       "      <td>Gb0173867</td>\n",
       "      <td>biolink:OntologyClass</td>\n",
       "      <td>0</td>\n",
       "      <td>10</td>\n",
       "      <td>Freshwater</td>\n",
       "      <td>fresh water</td>\n",
       "      <td>ENVO:00002011_SYNONYM</td>\n",
       "      <td>NaN</td>\n",
       "      <td>S1</td>\n",
       "      <td>envo.json</td>\n",
       "      <td>CUI-less</td>\n",
       "      <td>Freshwater microbial communities from Amazon R...</td>\n",
       "    </tr>\n",
       "    <tr>\n",
       "      <th>1</th>\n",
       "      <td>Gb0173867</td>\n",
       "      <td>biolink:OntologyClass</td>\n",
       "      <td>45</td>\n",
       "      <td>50</td>\n",
       "      <td>River</td>\n",
       "      <td>river</td>\n",
       "      <td>ENVO:00000022</td>\n",
       "      <td>NaN</td>\n",
       "      <td>S1</td>\n",
       "      <td>envo.json</td>\n",
       "      <td>CUI-less</td>\n",
       "      <td>Freshwater microbial communities from Amazon R...</td>\n",
       "    </tr>\n",
       "    <tr>\n",
       "      <th>2</th>\n",
       "      <td>Gb0173867</td>\n",
       "      <td>biolink:OntologyClass</td>\n",
       "      <td>67</td>\n",
       "      <td>77</td>\n",
       "      <td>Freshwater</td>\n",
       "      <td>fresh water</td>\n",
       "      <td>ENVO:00002011_SYNONYM</td>\n",
       "      <td>NaN</td>\n",
       "      <td>S2</td>\n",
       "      <td>envo.json</td>\n",
       "      <td>CUI-less</td>\n",
       "      <td>Freshwater microbial communities from Amazon R...</td>\n",
       "    </tr>\n",
       "    <tr>\n",
       "      <th>3</th>\n",
       "      <td>Gb0173867</td>\n",
       "      <td>biolink:OntologyClass</td>\n",
       "      <td>112</td>\n",
       "      <td>117</td>\n",
       "      <td>River</td>\n",
       "      <td>river</td>\n",
       "      <td>ENVO:00000022</td>\n",
       "      <td>NaN</td>\n",
       "      <td>S2</td>\n",
       "      <td>envo.json</td>\n",
       "      <td>CUI-less</td>\n",
       "      <td>Freshwater microbial communities from Amazon R...</td>\n",
       "    </tr>\n",
       "    <tr>\n",
       "      <th>4</th>\n",
       "      <td>Gb0173867</td>\n",
       "      <td>biolink:OntologyClass</td>\n",
       "      <td>127</td>\n",
       "      <td>137</td>\n",
       "      <td>Freshwater</td>\n",
       "      <td>fresh water</td>\n",
       "      <td>ENVO:00002011_SYNONYM</td>\n",
       "      <td>NaN</td>\n",
       "      <td>S3</td>\n",
       "      <td>envo.json</td>\n",
       "      <td>CUI-less</td>\n",
       "      <td>Freshwater.</td>\n",
       "    </tr>\n",
       "  </tbody>\n",
       "</table>\n",
       "</div>"
      ],
      "text/plain": [
       "  DOCUMENT ID                   TYPE  START POSITION  END POSITION  \\\n",
       "0   Gb0173867  biolink:OntologyClass               0            10   \n",
       "1   Gb0173867  biolink:OntologyClass              45            50   \n",
       "2   Gb0173867  biolink:OntologyClass              67            77   \n",
       "3   Gb0173867  biolink:OntologyClass             112           117   \n",
       "4   Gb0173867  biolink:OntologyClass             127           137   \n",
       "\n",
       "  MATCHED TERM PREFERRED FORM              ENTITY ID  ZONE SENTENCE ID  \\\n",
       "0   Freshwater    fresh water  ENVO:00002011_SYNONYM   NaN          S1   \n",
       "1        River          river          ENVO:00000022   NaN          S1   \n",
       "2   Freshwater    fresh water  ENVO:00002011_SYNONYM   NaN          S2   \n",
       "3        River          river          ENVO:00000022   NaN          S2   \n",
       "4   Freshwater    fresh water  ENVO:00002011_SYNONYM   NaN          S3   \n",
       "\n",
       "      ORIGIN  UMLS CUI                                           SENTENCE  \n",
       "0  envo.json  CUI-less  Freshwater microbial communities from Amazon R...  \n",
       "1  envo.json  CUI-less  Freshwater microbial communities from Amazon R...  \n",
       "2  envo.json  CUI-less  Freshwater microbial communities from Amazon R...  \n",
       "3  envo.json  CUI-less  Freshwater microbial communities from Amazon R...  \n",
       "4  envo.json  CUI-less                                        Freshwater.  "
      ]
     },
     "execution_count": 7,
     "metadata": {},
     "output_type": "execute_result"
    }
   ],
   "source": [
    "nerDf.head() # peek at data"
   ]
  },
  {
   "cell_type": "markdown",
   "id": "lyric-december",
   "metadata": {},
   "source": [
    "# load one-hot-encoded runNER output <a id=\"load-one-hot-encoded-runNER-output\"/>"
   ]
  },
  {
   "cell_type": "code",
   "execution_count": 8,
   "id": "equivalent-crack",
   "metadata": {},
   "outputs": [
    {
     "data": {
      "text/plain": [
       "25015"
      ]
     },
     "execution_count": 8,
     "metadata": {},
     "output_type": "execute_result"
    }
   ],
   "source": [
    "onehotDf = pd.read_csv('../../target/nmdc-biosample-one-hot.tsv', sep='\\t')\n",
    "onehotDf.drop_duplicates(inplace=True)\n",
    "len(onehotDf)"
   ]
  },
  {
   "cell_type": "code",
   "execution_count": 9,
   "id": "alpine-transportation",
   "metadata": {},
   "outputs": [
    {
     "data": {
      "text/html": [
       "<div>\n",
       "<style scoped>\n",
       "    .dataframe tbody tr th:only-of-type {\n",
       "        vertical-align: middle;\n",
       "    }\n",
       "\n",
       "    .dataframe tbody tr th {\n",
       "        vertical-align: top;\n",
       "    }\n",
       "\n",
       "    .dataframe thead th {\n",
       "        text-align: right;\n",
       "    }\n",
       "</style>\n",
       "<table border=\"1\" class=\"dataframe\">\n",
       "  <thead>\n",
       "    <tr style=\"text-align: right;\">\n",
       "      <th></th>\n",
       "      <th>gold_id</th>\n",
       "      <th>fresh water</th>\n",
       "      <th>river</th>\n",
       "      <th>river water</th>\n",
       "      <th>water</th>\n",
       "      <th>liquid water</th>\n",
       "      <th>saline evaporation pond</th>\n",
       "      <th>lake bed</th>\n",
       "      <th>container of an intermittent saline lake</th>\n",
       "      <th>bayou</th>\n",
       "      <th>...</th>\n",
       "      <th>cave entrance</th>\n",
       "      <th>house</th>\n",
       "      <th>flume</th>\n",
       "      <th>irrigation canal</th>\n",
       "      <th>canalized stream</th>\n",
       "      <th>drainage canal</th>\n",
       "      <th>irrigation ditch</th>\n",
       "      <th>canal</th>\n",
       "      <th>chernozem</th>\n",
       "      <th>Earth</th>\n",
       "    </tr>\n",
       "  </thead>\n",
       "  <tbody>\n",
       "    <tr>\n",
       "      <th>0</th>\n",
       "      <td>Gb0173867</td>\n",
       "      <td>1</td>\n",
       "      <td>1</td>\n",
       "      <td>1</td>\n",
       "      <td>1</td>\n",
       "      <td>1</td>\n",
       "      <td>0</td>\n",
       "      <td>0</td>\n",
       "      <td>0</td>\n",
       "      <td>0</td>\n",
       "      <td>...</td>\n",
       "      <td>0</td>\n",
       "      <td>0</td>\n",
       "      <td>0</td>\n",
       "      <td>0</td>\n",
       "      <td>0</td>\n",
       "      <td>0</td>\n",
       "      <td>0</td>\n",
       "      <td>0</td>\n",
       "      <td>0</td>\n",
       "      <td>0</td>\n",
       "    </tr>\n",
       "    <tr>\n",
       "      <th>1</th>\n",
       "      <td>Gb0173872</td>\n",
       "      <td>1</td>\n",
       "      <td>1</td>\n",
       "      <td>1</td>\n",
       "      <td>1</td>\n",
       "      <td>1</td>\n",
       "      <td>0</td>\n",
       "      <td>0</td>\n",
       "      <td>0</td>\n",
       "      <td>0</td>\n",
       "      <td>...</td>\n",
       "      <td>0</td>\n",
       "      <td>0</td>\n",
       "      <td>0</td>\n",
       "      <td>0</td>\n",
       "      <td>0</td>\n",
       "      <td>0</td>\n",
       "      <td>0</td>\n",
       "      <td>0</td>\n",
       "      <td>0</td>\n",
       "      <td>0</td>\n",
       "    </tr>\n",
       "    <tr>\n",
       "      <th>2</th>\n",
       "      <td>Gb0173903</td>\n",
       "      <td>0</td>\n",
       "      <td>0</td>\n",
       "      <td>0</td>\n",
       "      <td>0</td>\n",
       "      <td>0</td>\n",
       "      <td>1</td>\n",
       "      <td>1</td>\n",
       "      <td>1</td>\n",
       "      <td>1</td>\n",
       "      <td>...</td>\n",
       "      <td>0</td>\n",
       "      <td>0</td>\n",
       "      <td>0</td>\n",
       "      <td>0</td>\n",
       "      <td>0</td>\n",
       "      <td>0</td>\n",
       "      <td>0</td>\n",
       "      <td>0</td>\n",
       "      <td>0</td>\n",
       "      <td>0</td>\n",
       "    </tr>\n",
       "    <tr>\n",
       "      <th>3</th>\n",
       "      <td>Gb0173935</td>\n",
       "      <td>0</td>\n",
       "      <td>0</td>\n",
       "      <td>0</td>\n",
       "      <td>0</td>\n",
       "      <td>0</td>\n",
       "      <td>1</td>\n",
       "      <td>1</td>\n",
       "      <td>1</td>\n",
       "      <td>1</td>\n",
       "      <td>...</td>\n",
       "      <td>0</td>\n",
       "      <td>0</td>\n",
       "      <td>0</td>\n",
       "      <td>0</td>\n",
       "      <td>0</td>\n",
       "      <td>0</td>\n",
       "      <td>0</td>\n",
       "      <td>0</td>\n",
       "      <td>0</td>\n",
       "      <td>0</td>\n",
       "    </tr>\n",
       "    <tr>\n",
       "      <th>4</th>\n",
       "      <td>Gb0173942</td>\n",
       "      <td>1</td>\n",
       "      <td>0</td>\n",
       "      <td>0</td>\n",
       "      <td>0</td>\n",
       "      <td>0</td>\n",
       "      <td>1</td>\n",
       "      <td>1</td>\n",
       "      <td>1</td>\n",
       "      <td>1</td>\n",
       "      <td>...</td>\n",
       "      <td>0</td>\n",
       "      <td>0</td>\n",
       "      <td>0</td>\n",
       "      <td>0</td>\n",
       "      <td>0</td>\n",
       "      <td>0</td>\n",
       "      <td>0</td>\n",
       "      <td>0</td>\n",
       "      <td>0</td>\n",
       "      <td>0</td>\n",
       "    </tr>\n",
       "  </tbody>\n",
       "</table>\n",
       "<p>5 rows × 814 columns</p>\n",
       "</div>"
      ],
      "text/plain": [
       "     gold_id  fresh water  river  river water  water  liquid water  \\\n",
       "0  Gb0173867            1      1            1      1             1   \n",
       "1  Gb0173872            1      1            1      1             1   \n",
       "2  Gb0173903            0      0            0      0             0   \n",
       "3  Gb0173935            0      0            0      0             0   \n",
       "4  Gb0173942            1      0            0      0             0   \n",
       "\n",
       "   saline evaporation pond  lake bed  \\\n",
       "0                        0         0   \n",
       "1                        0         0   \n",
       "2                        1         1   \n",
       "3                        1         1   \n",
       "4                        1         1   \n",
       "\n",
       "   container of an intermittent saline lake  bayou  ...  cave entrance  house  \\\n",
       "0                                         0      0  ...              0      0   \n",
       "1                                         0      0  ...              0      0   \n",
       "2                                         1      1  ...              0      0   \n",
       "3                                         1      1  ...              0      0   \n",
       "4                                         1      1  ...              0      0   \n",
       "\n",
       "   flume  irrigation canal  canalized stream  drainage canal  \\\n",
       "0      0                 0                 0               0   \n",
       "1      0                 0                 0               0   \n",
       "2      0                 0                 0               0   \n",
       "3      0                 0                 0               0   \n",
       "4      0                 0                 0               0   \n",
       "\n",
       "   irrigation ditch  canal  chernozem  Earth  \n",
       "0                 0      0          0      0  \n",
       "1                 0      0          0      0  \n",
       "2                 0      0          0      0  \n",
       "3                 0      0          0      0  \n",
       "4                 0      0          0      0  \n",
       "\n",
       "[5 rows x 814 columns]"
      ]
     },
     "execution_count": 9,
     "metadata": {},
     "output_type": "execute_result"
    }
   ],
   "source": [
    "onehotDf.head()"
   ]
  },
  {
   "cell_type": "markdown",
   "id": "local-functionality",
   "metadata": {},
   "source": [
    "**There are fewer rows in the one-hot output than in the biosample data. So, subset the biosample data.**  \n",
    "**note:** We end up with less rows than the one-hot-encoded data b/c we dropped null values from biosample data above."
   ]
  },
  {
   "cell_type": "code",
   "execution_count": 11,
   "id": "effective-theory",
   "metadata": {},
   "outputs": [
    {
     "data": {
      "text/plain": [
       "25015"
      ]
     },
     "execution_count": 11,
     "metadata": {},
     "output_type": "execute_result"
    }
   ],
   "source": [
    "onehotIds = list(onehotDf[\"gold_id\"])\n",
    "len(onehotIds)"
   ]
  },
  {
   "cell_type": "code",
   "execution_count": 12,
   "id": "allied-friend",
   "metadata": {},
   "outputs": [
    {
     "name": "stderr",
     "output_type": "stream",
     "text": [
      "/Users/wdduncan/temp/test-catboost/test-catboost/lib/python3.9/site-packages/pandas/util/_decorators.py:311: SettingWithCopyWarning: \n",
      "A value is trying to be set on a copy of a slice from a DataFrame\n",
      "\n",
      "See the caveats in the documentation: https://pandas.pydata.org/pandas-docs/stable/user_guide/indexing.html#returning-a-view-versus-a-copy\n",
      "  return func(*args, **kwargs)\n"
     ]
    },
    {
     "data": {
      "text/plain": [
       "20220"
      ]
     },
     "execution_count": 12,
     "metadata": {},
     "output_type": "execute_result"
    }
   ],
   "source": [
    "subsetDf = biosampleDf[biosampleDf[\"gold_id\"].isin(onehotIds)]\n",
    "subsetDf.drop_duplicates(inplace=True)\n",
    "len(subsetDf)"
   ]
  },
  {
   "cell_type": "markdown",
   "id": "b529711d",
   "metadata": {},
   "source": [
    "**Due to difference between the one-hot and subset data, there are fewer rows in the one-hot data**  \n",
    "Subset one-hot to ids in subset"
   ]
  },
  {
   "cell_type": "code",
   "execution_count": 16,
   "id": "f34cc374",
   "metadata": {},
   "outputs": [],
   "source": [
    "subsetIds = list(subsetDf[\"gold_id\"])\n",
    "onehotDf = onehotDf[onehotDf[\"gold_id\"].isin(subsetIds)]\n",
    "onehotDf.drop_duplicates(inplace=True)\n",
    "assert len(onehotDf) == len(subsetDf)"
   ]
  },
  {
   "cell_type": "markdown",
   "id": "clean-persian",
   "metadata": {},
   "source": [
    "# create target sets <a id=\"create-target-sets\" /> \n",
    "A target set is created for each of the MIxS triad terms."
   ]
  },
  {
   "cell_type": "code",
   "execution_count": 18,
   "id": "cooked-country",
   "metadata": {},
   "outputs": [],
   "source": [
    "# the sklearn convention is to use y for targets/labels\n",
    "y_broad = subsetDf[[\"ENV_BROAD_SCALE\"]]\n",
    "y_local = subsetDf[[\"ENV_LOCAL_SCALE\"]]\n",
    "y_medium = subsetDf[[\"ENV_MEDIUM\"]]\n",
    "# y_broad[\"ENV_BROAD_SCALE\"].unique() # peek at data"
   ]
  },
  {
   "cell_type": "markdown",
   "id": "current-window",
   "metadata": {},
   "source": [
    "# experiment 1 <a id=\"experiment-1\"/>\n",
    "Create feature set using just the one-hot-encode data."
   ]
  },
  {
   "cell_type": "code",
   "execution_count": 19,
   "id": "seven-service",
   "metadata": {},
   "outputs": [],
   "source": [
    "X = onehotDf.copy()\n",
    "X.pop(\"gold_id\") # drop the gold_id\n",
    "assert len(X) == len(subsetDf) # verify that the lengths are the same"
   ]
  },
  {
   "cell_type": "markdown",
   "id": "85cfd412",
   "metadata": {},
   "source": [
    "## classify env_broad_scale"
   ]
  },
  {
   "cell_type": "code",
   "execution_count": 38,
   "id": "6b8a8981",
   "metadata": {},
   "outputs": [],
   "source": [
    "cat_features = list(X.columns)"
   ]
  },
  {
   "cell_type": "code",
   "execution_count": 23,
   "id": "1e32bbad",
   "metadata": {},
   "outputs": [],
   "source": [
    "# if we try to stratify (i.e., pass the param stratify=y_broad[\"ENV_BROAD_SCALE\"].values) it results in an error:\n",
    "# The least populated class in y has only 1 member, which is too few. The minimum number of groups for any class cannot be less than 2.\n",
    "X_train, X_test, y_train, y_test = train_test_split(X, y_broad, test_size=0.2, random_state=42)"
   ]
  },
  {
   "cell_type": "markdown",
   "id": "9eab7c7f",
   "metadata": {},
   "source": [
    "#### run classifier for 10 iterations"
   ]
  },
  {
   "cell_type": "code",
   "execution_count": 20,
   "id": "durable-telling",
   "metadata": {},
   "outputs": [],
   "source": [
    "# see https://www.kaggle.com/mitribunskiy/tutorial-catboost-overview for param examples\n",
    "# supported metrics https://catboost.ai/en/references/custom-metric__supported-metrics\n",
    "model_10 = CatBoostClassifier(iterations=10, eval_metric='AUC', random_seed=1, use_best_model=True, verbose=5)"
   ]
  },
  {
   "cell_type": "code",
   "execution_count": 39,
   "id": "unusual-charge",
   "metadata": {},
   "outputs": [
    {
     "name": "stdout",
     "output_type": "stream",
     "text": [
      "Learning rate set to 0.5\n",
      "0:\ttest: 0.6211100\tbest: 0.6211100 (0)\ttotal: 389ms\tremaining: 3.5s\n",
      "5:\ttest: 0.5658558\tbest: 0.6211100 (0)\ttotal: 2.24s\tremaining: 1.5s\n",
      "9:\ttest: 0.5969272\tbest: 0.6211100 (0)\ttotal: 3.76s\tremaining: 0us\n",
      "\n",
      "bestTest = 0.6211100304\n",
      "bestIteration = 0\n",
      "\n",
      "Shrink model to first 1 iterations.\n"
     ]
    },
    {
     "data": {
      "text/plain": [
       "<catboost.core.CatBoostClassifier at 0x144838df0>"
      ]
     },
     "execution_count": 39,
     "metadata": {},
     "output_type": "execute_result"
    }
   ],
   "source": [
    "# set logging_level='Silent' to turn of output; set plot=True to see figure\n",
    "model_10.fit(X_train, y_train, eval_set=(X_test, y_test), cat_features=cat_features)"
   ]
  },
  {
   "cell_type": "markdown",
   "id": "50d8ffe2",
   "metadata": {},
   "source": [
    "#### run classifier for 100 iterations"
   ]
  },
  {
   "cell_type": "code",
   "execution_count": 26,
   "id": "696b9cc2",
   "metadata": {},
   "outputs": [],
   "source": [
    "model_100 = CatBoostClassifier(iterations=100, eval_metric='AUC', random_seed=1, use_best_model=True, verbose=20)"
   ]
  },
  {
   "cell_type": "code",
   "execution_count": 40,
   "id": "d1138e52",
   "metadata": {},
   "outputs": [
    {
     "name": "stdout",
     "output_type": "stream",
     "text": [
      "Learning rate set to 0.275109\n",
      "0:\ttest: 0.6211100\tbest: 0.6211100 (0)\ttotal: 403ms\tremaining: 39.9s\n",
      "20:\ttest: 0.6976440\tbest: 0.6976440 (20)\ttotal: 8.26s\tremaining: 31.1s\n",
      "40:\ttest: 0.7087091\tbest: 0.7087091 (40)\ttotal: 17s\tremaining: 24.4s\n",
      "60:\ttest: 0.7123104\tbest: 0.7123104 (60)\ttotal: 25.6s\tremaining: 16.4s\n",
      "80:\ttest: 0.7137574\tbest: 0.7137574 (80)\ttotal: 34.3s\tremaining: 8.05s\n",
      "99:\ttest: 0.7146239\tbest: 0.7146290 (97)\ttotal: 42.7s\tremaining: 0us\n",
      "\n",
      "bestTest = 0.7146289515\n",
      "bestIteration = 97\n",
      "\n",
      "Shrink model to first 98 iterations.\n"
     ]
    },
    {
     "data": {
      "text/plain": [
       "<catboost.core.CatBoostClassifier at 0x144844d00>"
      ]
     },
     "execution_count": 40,
     "metadata": {},
     "output_type": "execute_result"
    }
   ],
   "source": [
    "# set logging_level='Silent' to turn of output; set plot=True to see figure\n",
    "model_100.fit(X_train, y_train, eval_set=(X_test, y_test), cat_features=cat_features)"
   ]
  },
  {
   "cell_type": "markdown",
   "id": "determined-profession",
   "metadata": {},
   "source": [
    "# experiment 2 <a id=\"experiment-2\"/>\n",
    "Create feature set by adding gold path info to one-hot-encoded data"
   ]
  },
  {
   "cell_type": "code",
   "execution_count": 41,
   "id": "abandoned-water",
   "metadata": {},
   "outputs": [],
   "source": [
    "# list of biosample columns to use (note: need to include gold_id for merging)\n",
    "gold_paths = [\"gold_id\", \"ECOSYSTEM\", \"ECOSYSTEM_CATEGORY\", \"ECOSYSTEM_TYPE\", \"ECOSYSTEM_SUBTYPE\", \"SPECIFIC_ECOSYSTEM\"]\n",
    "\n",
    "# the sklearn convention is to use X for the feature set\n",
    "X = pd.merge(onehotDf, subsetDf[gold_paths], how=\"inner\", on=\"gold_id\")\n",
    "X.pop(\"gold_id\") # drop the gold_id\n",
    "assert len(X) == len(subsetDf) # verify that the lengths are the same"
   ]
  },
  {
   "cell_type": "markdown",
   "id": "covered-construction",
   "metadata": {},
   "source": [
    "## classify env_broad_scale"
   ]
  },
  {
   "cell_type": "code",
   "execution_count": 42,
   "id": "df055460",
   "metadata": {},
   "outputs": [],
   "source": [
    "cat_features = \\\n",
    "    list(X.columns) + [\"ECOSYSTEM\", \"ECOSYSTEM_CATEGORY\", \"ECOSYSTEM_TYPE\", \"ECOSYSTEM_SUBTYPE\", \"SPECIFIC_ECOSYSTEM\"]"
   ]
  },
  {
   "cell_type": "code",
   "execution_count": 43,
   "id": "apart-latter",
   "metadata": {},
   "outputs": [],
   "source": [
    "# if we try to stratify (i.e., pass the param stratify=y_broad[\"ENV_BROAD_SCALE\"].values) it results in an error:\n",
    "# The least populated class in y has only 1 member, which is too few. The minimum number of groups for any class cannot be less than 2.\n",
    "X_train, X_test, y_train, y_test = train_test_split(X, y_broad, test_size=0.2, random_state=42)"
   ]
  },
  {
   "cell_type": "markdown",
   "id": "mineral-guess",
   "metadata": {},
   "source": [
    "#### run classifier for 10 iterations"
   ]
  },
  {
   "cell_type": "code",
   "execution_count": 44,
   "id": "friendly-gather",
   "metadata": {},
   "outputs": [],
   "source": [
    "# see https://www.kaggle.com/mitribunskiy/tutorial-catboost-overview for param examples\n",
    "# supported metrics https://catboost.ai/en/references/custom-metric__supported-metrics\n",
    "model_10 = CatBoostClassifier(iterations=10, eval_metric='AUC', random_seed=1, use_best_model=True, verbose=5)"
   ]
  },
  {
   "cell_type": "code",
   "execution_count": 45,
   "id": "adverse-director",
   "metadata": {},
   "outputs": [
    {
     "name": "stdout",
     "output_type": "stream",
     "text": [
      "Learning rate set to 0.5\n",
      "0:\ttest: 0.6211100\tbest: 0.6211100 (0)\ttotal: 406ms\tremaining: 3.66s\n",
      "5:\ttest: 0.5658558\tbest: 0.6211100 (0)\ttotal: 2.25s\tremaining: 1.5s\n",
      "9:\ttest: 0.5969272\tbest: 0.6211100 (0)\ttotal: 3.73s\tremaining: 0us\n",
      "\n",
      "bestTest = 0.6211100304\n",
      "bestIteration = 0\n",
      "\n",
      "Shrink model to first 1 iterations.\n"
     ]
    },
    {
     "data": {
      "text/plain": [
       "<catboost.core.CatBoostClassifier at 0x144a755e0>"
      ]
     },
     "execution_count": 45,
     "metadata": {},
     "output_type": "execute_result"
    }
   ],
   "source": [
    "# set logging_level='Silent' to turn of output; set plot=True to see figure\n",
    "model_10.fit(X_train, y_train, cat_features=cat_features, eval_set=(X_test, y_test))"
   ]
  },
  {
   "cell_type": "markdown",
   "id": "educated-turkish",
   "metadata": {},
   "source": [
    "#### run classifier for 100 iterations"
   ]
  },
  {
   "cell_type": "code",
   "execution_count": 46,
   "id": "extreme-charge",
   "metadata": {},
   "outputs": [],
   "source": [
    "model_100 = CatBoostClassifier(iterations=100, eval_metric='AUC', random_seed=1, use_best_model=True, verbose=20)"
   ]
  },
  {
   "cell_type": "code",
   "execution_count": 47,
   "id": "activated-double",
   "metadata": {},
   "outputs": [
    {
     "name": "stdout",
     "output_type": "stream",
     "text": [
      "Learning rate set to 0.275109\n",
      "0:\ttest: 0.6211100\tbest: 0.6211100 (0)\ttotal: 473ms\tremaining: 46.8s\n",
      "20:\ttest: 0.6976440\tbest: 0.6976440 (20)\ttotal: 8.77s\tremaining: 33s\n",
      "40:\ttest: 0.7087091\tbest: 0.7087091 (40)\ttotal: 17.5s\tremaining: 25.2s\n",
      "60:\ttest: 0.7123104\tbest: 0.7123104 (60)\ttotal: 26.2s\tremaining: 16.7s\n",
      "80:\ttest: 0.7137574\tbest: 0.7137574 (80)\ttotal: 34.9s\tremaining: 8.18s\n",
      "99:\ttest: 0.7146239\tbest: 0.7146290 (97)\ttotal: 43.2s\tremaining: 0us\n",
      "\n",
      "bestTest = 0.7146289515\n",
      "bestIteration = 97\n",
      "\n",
      "Shrink model to first 98 iterations.\n"
     ]
    },
    {
     "data": {
      "text/plain": [
       "<catboost.core.CatBoostClassifier at 0x188988130>"
      ]
     },
     "execution_count": 47,
     "metadata": {},
     "output_type": "execute_result"
    }
   ],
   "source": [
    "# set logging_level='Silent' to turn of output; set plot=True to see figure\n",
    "model_100.fit(X_train, y_train, cat_features=cat_features, eval_set=(X_test, y_test))"
   ]
  },
  {
   "cell_type": "markdown",
   "id": "2733ef5c",
   "metadata": {},
   "source": [
    "# experiment 3 <a id=\"experiment-3\" />\n",
    "Create feature set using only GOLD paths"
   ]
  },
  {
   "cell_type": "code",
   "execution_count": 63,
   "id": "abstract-valuable",
   "metadata": {},
   "outputs": [],
   "source": [
    "# list of biosample columns to use (note: need to include gold_id for merging)\n",
    "gold_paths = [\"ECOSYSTEM\", \"ECOSYSTEM_CATEGORY\", \"ECOSYSTEM_TYPE\", \"ECOSYSTEM_SUBTYPE\", \"SPECIFIC_ECOSYSTEM\"]\n",
    "\n",
    "# the sklearn convention is to use X for the feature set\n",
    "X = subsetDf[gold_paths]\n",
    "assert len(X) == len(subsetDf) # verify that the lengths are the same"
   ]
  },
  {
   "cell_type": "markdown",
   "id": "e58ec8e5",
   "metadata": {},
   "source": [
    "## classify env_broad_scale"
   ]
  },
  {
   "cell_type": "code",
   "execution_count": 64,
   "id": "9e931d8e",
   "metadata": {},
   "outputs": [],
   "source": [
    "cat_features = list(X.columns)"
   ]
  },
  {
   "cell_type": "code",
   "execution_count": 65,
   "id": "8b74ef5a",
   "metadata": {},
   "outputs": [],
   "source": [
    "# if we try to stratify (i.e., pass the param stratify=y_broad[\"ENV_BROAD_SCALE\"].values) it results in an error:\n",
    "# The least populated class in y has only 1 member, which is too few. The minimum number of groups for any class cannot be less than 2.\n",
    "X_train, X_test, y_train, y_test = train_test_split(X, y_broad, test_size=0.2, random_state=42)"
   ]
  },
  {
   "cell_type": "markdown",
   "id": "528466a2",
   "metadata": {},
   "source": [
    "#### run classifier for 10 iterations"
   ]
  },
  {
   "cell_type": "code",
   "execution_count": 66,
   "id": "f367e16d",
   "metadata": {},
   "outputs": [],
   "source": [
    "# see https://www.kaggle.com/mitribunskiy/tutorial-catboost-overview for param examples\n",
    "# supported metrics https://catboost.ai/en/references/custom-metric__supported-metrics\n",
    "model_10 = CatBoostClassifier(iterations=10, eval_metric='AUC', random_seed=1, use_best_model=True, verbose=5)"
   ]
  },
  {
   "cell_type": "code",
   "execution_count": 67,
   "id": "e43a7b09",
   "metadata": {},
   "outputs": [
    {
     "name": "stdout",
     "output_type": "stream",
     "text": [
      "Learning rate set to 0.5\n",
      "0:\ttest: 0.6002596\tbest: 0.6002596 (0)\ttotal: 420ms\tremaining: 3.78s\n",
      "5:\ttest: 0.4803720\tbest: 0.6002596 (0)\ttotal: 2.04s\tremaining: 1.36s\n",
      "9:\ttest: 0.4666306\tbest: 0.6002596 (0)\ttotal: 3.37s\tremaining: 0us\n",
      "\n",
      "bestTest = 0.6002596345\n",
      "bestIteration = 0\n",
      "\n",
      "Shrink model to first 1 iterations.\n"
     ]
    },
    {
     "data": {
      "text/plain": [
       "<catboost.core.CatBoostClassifier at 0x188036df0>"
      ]
     },
     "execution_count": 67,
     "metadata": {},
     "output_type": "execute_result"
    }
   ],
   "source": [
    "# set logging_level='Silent' to turn of output; set plot=True to see figure\n",
    "model_10.fit(X_train, y_train, eval_set=(X_test, y_test), cat_features=cat_features)"
   ]
  },
  {
   "cell_type": "markdown",
   "id": "5f1e3860",
   "metadata": {},
   "source": [
    "#### run classifier for 100 iterations"
   ]
  },
  {
   "cell_type": "code",
   "execution_count": 68,
   "id": "6920fc2e",
   "metadata": {},
   "outputs": [],
   "source": [
    "model_100 = CatBoostClassifier(iterations=100, eval_metric='AUC', random_seed=1, use_best_model=True, verbose=20)"
   ]
  },
  {
   "cell_type": "code",
   "execution_count": 69,
   "id": "64c67056",
   "metadata": {},
   "outputs": [
    {
     "name": "stdout",
     "output_type": "stream",
     "text": [
      "Learning rate set to 0.275109\n",
      "0:\ttest: 0.6002596\tbest: 0.6002596 (0)\ttotal: 468ms\tremaining: 46.4s\n",
      "20:\ttest: 0.7106030\tbest: 0.7106030 (20)\ttotal: 8.4s\tremaining: 31.6s\n",
      "40:\ttest: 0.7125787\tbest: 0.7125787 (40)\ttotal: 16.5s\tremaining: 23.7s\n",
      "60:\ttest: 0.7128292\tbest: 0.7128394 (55)\ttotal: 24.5s\tremaining: 15.7s\n",
      "80:\ttest: 0.7128616\tbest: 0.7128616 (80)\ttotal: 32.8s\tremaining: 7.7s\n",
      "99:\ttest: 0.7128956\tbest: 0.7129017 (97)\ttotal: 40.3s\tremaining: 0us\n",
      "\n",
      "bestTest = 0.7129017198\n",
      "bestIteration = 97\n",
      "\n",
      "Shrink model to first 98 iterations.\n"
     ]
    },
    {
     "data": {
      "text/plain": [
       "<catboost.core.CatBoostClassifier at 0x188967a90>"
      ]
     },
     "execution_count": 69,
     "metadata": {},
     "output_type": "execute_result"
    }
   ],
   "source": [
    "# set logging_level='Silent' to turn of output; set plot=True to see figure\n",
    "model_100.fit(X_train, y_train, eval_set=(X_test, y_test), cat_features=cat_features)"
   ]
  },
  {
   "cell_type": "markdown",
   "id": "0ba35dec",
   "metadata": {},
   "source": [
    "# experiment 4 <a id=\"experiment-4\"/>\n",
    "Create feature set using the textual columns of the biosample data: biosample_name, decription, habitat, and sample_selection_site"
   ]
  },
  {
   "cell_type": "code",
   "execution_count": 73,
   "id": "2aa1381a",
   "metadata": {},
   "outputs": [],
   "source": [
    "text_cols = [\"BIOSAMPLE_NAME\", \"DESCRIPTION\", \"HABITAT\", \"SAMPLE_COLLECTION_SITE\"]"
   ]
  },
  {
   "cell_type": "code",
   "execution_count": 74,
   "id": "d2730d36",
   "metadata": {},
   "outputs": [],
   "source": [
    "# the sklearn convention is to use X for the feature set\n",
    "X = subsetDf[text_cols]\n",
    "assert len(X) == len(subsetDf) # verify that the lengths are the same "
   ]
  },
  {
   "cell_type": "markdown",
   "id": "469bad9d",
   "metadata": {},
   "source": [
    "## classify env_broad_scale"
   ]
  },
  {
   "cell_type": "code",
   "execution_count": 76,
   "id": "e8b8d37a",
   "metadata": {},
   "outputs": [],
   "source": [
    "# if we try to stratify (i.e., pass the param stratify=y_broad[\"ENV_BROAD_SCALE\"].values) it results in an error:\n",
    "# The least populated class in y has only 1 member, which is too few. The minimum number of groups for any class cannot be less than 2.\n",
    "X_train, X_test, y_train, y_test = train_test_split(X, y_broad, test_size=0.2, random_state=42)"
   ]
  },
  {
   "cell_type": "markdown",
   "id": "7797596b",
   "metadata": {},
   "source": [
    "Use Pools as a convenience for combining features.  \n",
    "see https://towardsdatascience.com/unconventional-sentiment-analysis-bert-vs-catboost-90645f2437a9"
   ]
  },
  {
   "cell_type": "code",
   "execution_count": 78,
   "id": "513e3e28",
   "metadata": {
    "scrolled": true
   },
   "outputs": [],
   "source": [
    "train_pool = Pool(\n",
    "    data=X_train,\n",
    "    label=y_train,\n",
    "    text_features=text_cols\n",
    ")\n",
    "\n",
    "test_pool = Pool(\n",
    "    data=X_test, \n",
    "    label=y_test,\n",
    "    text_features=text_cols\n",
    ")"
   ]
  },
  {
   "cell_type": "markdown",
   "id": "d308dbc4",
   "metadata": {},
   "source": [
    "#### run classifier for 10 iterations"
   ]
  },
  {
   "cell_type": "code",
   "execution_count": 79,
   "id": "85493f7d",
   "metadata": {},
   "outputs": [],
   "source": [
    "# see https://www.kaggle.com/mitribunskiy/tutorial-catboost-overview for param examples\n",
    "# supported metrics https://catboost.ai/en/references/custom-metric__supported-metrics\n",
    "model_10 = CatBoostClassifier(iterations=10, eval_metric='AUC', random_seed=1, use_best_model=True, verbose=5)"
   ]
  },
  {
   "cell_type": "code",
   "execution_count": 81,
   "id": "b5914902",
   "metadata": {},
   "outputs": [
    {
     "name": "stdout",
     "output_type": "stream",
     "text": [
      "Learning rate set to 0.5\n",
      "0:\ttest: 0.5635498\tbest: 0.5635498 (0)\ttotal: 4.69s\tremaining: 42.3s\n",
      "5:\ttest: 0.7025089\tbest: 0.7025089 (5)\ttotal: 30.8s\tremaining: 20.5s\n",
      "9:\ttest: 0.7109578\tbest: 0.7109578 (9)\ttotal: 52s\tremaining: 0us\n",
      "\n",
      "bestTest = 0.7109577871\n",
      "bestIteration = 9\n",
      "\n"
     ]
    },
    {
     "data": {
      "text/plain": [
       "<catboost.core.CatBoostClassifier at 0x1448dadc0>"
      ]
     },
     "execution_count": 81,
     "metadata": {},
     "output_type": "execute_result"
    }
   ],
   "source": [
    "# set logging_level='Silent' to turn of output; set plot=True to see figure\n",
    "model_10.fit(train_pool, eval_set=test_pool)"
   ]
  },
  {
   "cell_type": "markdown",
   "id": "44793bd2",
   "metadata": {},
   "source": [
    "#### run classifier for 100 iterations"
   ]
  },
  {
   "cell_type": "code",
   "execution_count": 83,
   "id": "31fad8dc",
   "metadata": {},
   "outputs": [],
   "source": [
    "model_100 = CatBoostClassifier(iterations=100, eval_metric='AUC', random_seed=1, use_best_model=True, verbose=20)"
   ]
  },
  {
   "cell_type": "code",
   "execution_count": 85,
   "id": "4f5844a2",
   "metadata": {},
   "outputs": [
    {
     "name": "stdout",
     "output_type": "stream",
     "text": [
      "Learning rate set to 0.275109\n",
      "0:\ttest: 0.5635498\tbest: 0.5635498 (0)\ttotal: 4.89s\tremaining: 8m 4s\n",
      "20:\ttest: 0.7150257\tbest: 0.7150257 (20)\ttotal: 1m 55s\tremaining: 7m 13s\n",
      "40:\ttest: 0.7162352\tbest: 0.7162352 (40)\ttotal: 3m 56s\tremaining: 5m 40s\n",
      "60:\ttest: 0.7171351\tbest: 0.7171351 (60)\ttotal: 6m\tremaining: 3m 50s\n",
      "80:\ttest: 0.7180597\tbest: 0.7180597 (80)\ttotal: 8m 4s\tremaining: 1m 53s\n",
      "99:\ttest: 0.7182775\tbest: 0.7182775 (99)\ttotal: 10m 21s\tremaining: 0us\n",
      "\n",
      "bestTest = 0.7182774832\n",
      "bestIteration = 99\n",
      "\n"
     ]
    },
    {
     "data": {
      "text/plain": [
       "<catboost.core.CatBoostClassifier at 0x188051940>"
      ]
     },
     "execution_count": 85,
     "metadata": {},
     "output_type": "execute_result"
    }
   ],
   "source": [
    "# set logging_level='Silent' to turn of output; set plot=True to see figure\n",
    "model_100.fit(train_pool, eval_set=test_pool)"
   ]
  },
  {
   "cell_type": "markdown",
   "id": "ede958f3",
   "metadata": {},
   "source": [
    "# tuning ..."
   ]
  },
  {
   "cell_type": "code",
   "execution_count": null,
   "id": "417314fc",
   "metadata": {},
   "outputs": [],
   "source": [
    "train_pool = Pool(\n",
    "    data=X_train,\n",
    "    label=y_train,\n",
    "    text_features=text_cols\n",
    ")\n",
    "\n",
    "test_pool = Pool(\n",
    "    data=X_test, \n",
    "    label=y_test,\n",
    "    text_features=text_cols\n",
    ")"
   ]
  },
  {
   "cell_type": "code",
   "execution_count": 148,
   "id": "38672da0",
   "metadata": {},
   "outputs": [],
   "source": [
    "tokenizer = \\\n",
    "    {\n",
    "        'tokenizer_id': 'Sense', # not sure what this does\n",
    "        'separator_type': 'BySense',\n",
    "        'lowercasing': 'True',\n",
    "        #'lemmatizing': 'True', # not implemented\n",
    "        'token_types':['Word', 'Number', 'SentenceBreak'],\n",
    "        'sub_tokens_policy':'SeveralTokens',\n",
    "        #'sub_tokens_policy':'SingleToken'\n",
    "    }  \n",
    "\n",
    "dictionary = \\\n",
    "    {\n",
    "        'dictionary_id': 'Word',\n",
    "        'max_dictionary_size': '50000',\n",
    "        'dictionary_type': 'FrequencyBased',\n",
    "        #'dictionary_type': 'Bpe',\n",
    "        'num_bpe_units': 3\n",
    "    }\n",
    "\n",
    "# feature_calcer = 'BoW:top_tokens_count=10000' # 10 iterations -> 0.692\n",
    "feature_calcer = 'NaiveBayes' # 10 iterations -> 0.715\n",
    "# feature_calcer = 'BM25' # 10 iterations -> 0.716"
   ]
  },
  {
   "cell_type": "code",
   "execution_count": 149,
   "id": "df9bfe5e",
   "metadata": {},
   "outputs": [],
   "source": [
    "model_10 = CatBoostClassifier(\n",
    "    iterations=10, \n",
    "    eval_metric='AUC', \n",
    "    random_seed=1, \n",
    "    use_best_model=True, \n",
    "    verbose=5,\n",
    "    #tokenizers=[tokenizer], \n",
    "    #dictionaries=[dictionary],\n",
    "    feature_calcers=[feature_calcer]\n",
    ")"
   ]
  },
  {
   "cell_type": "code",
   "execution_count": 150,
   "id": "f6fc6ce2",
   "metadata": {},
   "outputs": [
    {
     "name": "stdout",
     "output_type": "stream",
     "text": [
      "Learning rate set to 0.5\n",
      "0:\ttest: 0.5662492\tbest: 0.5662492 (0)\ttotal: 895ms\tremaining: 8.06s\n",
      "5:\ttest: 0.7109790\tbest: 0.7109790 (5)\ttotal: 5.81s\tremaining: 3.87s\n",
      "9:\ttest: 0.7150713\tbest: 0.7150713 (9)\ttotal: 10.2s\tremaining: 0us\n",
      "\n",
      "bestTest = 0.7150712732\n",
      "bestIteration = 9\n",
      "\n"
     ]
    },
    {
     "data": {
      "text/plain": [
       "<catboost.core.CatBoostClassifier at 0x1874b17f0>"
      ]
     },
     "execution_count": 150,
     "metadata": {},
     "output_type": "execute_result"
    }
   ],
   "source": [
    "model_10.fit(train_pool, eval_set=test_pool)"
   ]
  },
  {
   "cell_type": "code",
   "execution_count": 151,
   "id": "0057a914",
   "metadata": {},
   "outputs": [],
   "source": [
    "model_100 = CatBoostClassifier(\n",
    "    iterations=100,\n",
    "    eval_metric='AUC', \n",
    "    random_seed=1, \n",
    "    use_best_model=True, \n",
    "    verbose=5,\n",
    "    #tokenizers=[tokenizer], \n",
    "    #dictionaries=[dictionary],\n",
    "    feature_calcers=[feature_calcer]\n",
    ")"
   ]
  },
  {
   "cell_type": "code",
   "execution_count": 152,
   "id": "6e78df17",
   "metadata": {},
   "outputs": [
    {
     "name": "stdout",
     "output_type": "stream",
     "text": [
      "Learning rate set to 0.275109\n",
      "0:\ttest: 0.5662492\tbest: 0.5662492 (0)\ttotal: 880ms\tremaining: 1m 27s\n",
      "5:\ttest: 0.7072197\tbest: 0.7072197 (5)\ttotal: 5.42s\tremaining: 1m 24s\n",
      "10:\ttest: 0.7154631\tbest: 0.7154631 (10)\ttotal: 10.6s\tremaining: 1m 25s\n",
      "15:\ttest: 0.7163519\tbest: 0.7163519 (15)\ttotal: 15.1s\tremaining: 1m 19s\n",
      "20:\ttest: 0.7166305\tbest: 0.7166305 (20)\ttotal: 20s\tremaining: 1m 15s\n",
      "25:\ttest: 0.7168103\tbest: 0.7170166 (22)\ttotal: 24.9s\tremaining: 1m 10s\n",
      "30:\ttest: 0.7170744\tbest: 0.7171693 (29)\ttotal: 30.1s\tremaining: 1m 6s\n",
      "35:\ttest: 0.7172732\tbest: 0.7172732 (35)\ttotal: 36.1s\tremaining: 1m 4s\n",
      "40:\ttest: 0.7172733\tbest: 0.7173024 (36)\ttotal: 40.7s\tremaining: 58.6s\n",
      "45:\ttest: 0.7174521\tbest: 0.7174521 (45)\ttotal: 45.4s\tremaining: 53.3s\n",
      "50:\ttest: 0.7177022\tbest: 0.7177022 (50)\ttotal: 49.9s\tremaining: 47.9s\n",
      "55:\ttest: 0.7177504\tbest: 0.7177504 (55)\ttotal: 54.6s\tremaining: 42.9s\n",
      "60:\ttest: 0.7180693\tbest: 0.7180948 (59)\ttotal: 59.4s\tremaining: 38s\n",
      "65:\ttest: 0.7183358\tbest: 0.7183358 (65)\ttotal: 1m 3s\tremaining: 33s\n",
      "70:\ttest: 0.7183045\tbest: 0.7183500 (66)\ttotal: 1m 8s\tremaining: 28.1s\n",
      "75:\ttest: 0.7183992\tbest: 0.7183992 (75)\ttotal: 1m 13s\tremaining: 23.3s\n",
      "80:\ttest: 0.7183848\tbest: 0.7184334 (79)\ttotal: 1m 18s\tremaining: 18.4s\n",
      "85:\ttest: 0.7184486\tbest: 0.7184486 (85)\ttotal: 1m 23s\tremaining: 13.5s\n",
      "90:\ttest: 0.7184028\tbest: 0.7184486 (85)\ttotal: 1m 28s\tremaining: 8.74s\n",
      "95:\ttest: 0.7184148\tbest: 0.7184486 (85)\ttotal: 1m 33s\tremaining: 3.91s\n",
      "99:\ttest: 0.7184717\tbest: 0.7184775 (97)\ttotal: 1m 38s\tremaining: 0us\n",
      "\n",
      "bestTest = 0.7184774658\n",
      "bestIteration = 97\n",
      "\n",
      "Shrink model to first 98 iterations.\n"
     ]
    },
    {
     "data": {
      "text/plain": [
       "<catboost.core.CatBoostClassifier at 0x18803f370>"
      ]
     },
     "execution_count": 152,
     "metadata": {},
     "output_type": "execute_result"
    }
   ],
   "source": [
    "model_100.fit(train_pool, eval_set=test_pool)"
   ]
  },
  {
   "cell_type": "code",
   "execution_count": null,
   "id": "b8c437ed",
   "metadata": {},
   "outputs": [],
   "source": []
  }
 ],
 "metadata": {
  "kernelspec": {
   "display_name": "test-catboost",
   "language": "python",
   "name": "test-catboost"
  },
  "language_info": {
   "codemirror_mode": {
    "name": "ipython",
    "version": 3
   },
   "file_extension": ".py",
   "mimetype": "text/x-python",
   "name": "python",
   "nbconvert_exporter": "python",
   "pygments_lexer": "ipython3",
   "version": "3.9.7"
  }
 },
 "nbformat": 4,
 "nbformat_minor": 5
}
