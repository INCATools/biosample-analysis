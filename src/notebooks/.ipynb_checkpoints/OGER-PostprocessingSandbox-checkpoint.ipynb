{
 "cells": [
  {
   "cell_type": "markdown",
   "metadata": {},
   "source": [
    "## Import OGER output"
   ]
  },
  {
   "cell_type": "code",
   "execution_count": 41,
   "metadata": {},
   "outputs": [
    {
     "name": "stdout",
     "output_type": "stream",
     "text": [
      "CPU times: user 11 µs, sys: 1e+03 ns, total: 12 µs\n",
      "Wall time: 14.1 µs\n"
     ]
    }
   ],
   "source": [
    "%%time\n",
    "\n",
    "import pandas as pd\n",
    "from datetime import datetime\n",
    "# pd.options.mode.chained_assignment = None  # default='warn'"
   ]
  },
  {
   "cell_type": "code",
   "execution_count": 46,
   "metadata": {},
   "outputs": [
    {
     "name": "stdout",
     "output_type": "stream",
     "text": [
      "Total number of rows:  2386121\n"
     ]
    },
    {
     "data": {
      "text/html": [
       "<div>\n",
       "<style scoped>\n",
       "    .dataframe tbody tr th:only-of-type {\n",
       "        vertical-align: middle;\n",
       "    }\n",
       "\n",
       "    .dataframe tbody tr th {\n",
       "        vertical-align: top;\n",
       "    }\n",
       "\n",
       "    .dataframe thead th {\n",
       "        text-align: right;\n",
       "    }\n",
       "</style>\n",
       "<table border=\"1\" class=\"dataframe\">\n",
       "  <thead>\n",
       "    <tr style=\"text-align: right;\">\n",
       "      <th></th>\n",
       "      <th>BiosampleID</th>\n",
       "      <th>Biolink</th>\n",
       "      <th>BeginTerm</th>\n",
       "      <th>EndTerm</th>\n",
       "      <th>TokenizedTerm</th>\n",
       "      <th>PreferredTerm</th>\n",
       "      <th>CURIE</th>\n",
       "      <th>S-Type</th>\n",
       "    </tr>\n",
       "  </thead>\n",
       "  <tbody>\n",
       "    <tr>\n",
       "      <th>0</th>\n",
       "      <td>SAMN10586215</td>\n",
       "      <td>biolink:OntologyClass</td>\n",
       "      <td>16</td>\n",
       "      <td>24</td>\n",
       "      <td>contains</td>\n",
       "      <td>contains</td>\n",
       "      <td>RO:0001019</td>\n",
       "      <td>S1</td>\n",
       "    </tr>\n",
       "    <tr>\n",
       "      <th>1</th>\n",
       "      <td>SAMN10586215</td>\n",
       "      <td>biolink:OrganismalEntity</td>\n",
       "      <td>119</td>\n",
       "      <td>127</td>\n",
       "      <td>Bacteria</td>\n",
       "      <td>Bacteria</td>\n",
       "      <td>NCBITaxon:2</td>\n",
       "      <td>S1</td>\n",
       "    </tr>\n",
       "    <tr>\n",
       "      <th>2</th>\n",
       "      <td>SAMN05720810</td>\n",
       "      <td>biolink:OntologyClass</td>\n",
       "      <td>50</td>\n",
       "      <td>57</td>\n",
       "      <td>part of</td>\n",
       "      <td>part of</td>\n",
       "      <td>BFO:0000050</td>\n",
       "      <td>S1</td>\n",
       "    </tr>\n",
       "    <tr>\n",
       "      <th>3</th>\n",
       "      <td>SAMN05720810</td>\n",
       "      <td>biolink:OntologyClass</td>\n",
       "      <td>79</td>\n",
       "      <td>90</td>\n",
       "      <td>Agriculture</td>\n",
       "      <td>agricultural process</td>\n",
       "      <td>ENVO:01001246</td>\n",
       "      <td>S1</td>\n",
       "    </tr>\n",
       "    <tr>\n",
       "      <th>4</th>\n",
       "      <td>SAMN05720810</td>\n",
       "      <td>biolink:OntologyClass</td>\n",
       "      <td>79</td>\n",
       "      <td>90</td>\n",
       "      <td>Agriculture</td>\n",
       "      <td>animal husbandry</td>\n",
       "      <td>ENVO:01001248</td>\n",
       "      <td>S1</td>\n",
       "    </tr>\n",
       "  </tbody>\n",
       "</table>\n",
       "</div>"
      ],
      "text/plain": [
       "    BiosampleID                   Biolink  BeginTerm  EndTerm TokenizedTerm  \\\n",
       "0  SAMN10586215     biolink:OntologyClass         16       24      contains   \n",
       "1  SAMN10586215  biolink:OrganismalEntity        119      127      Bacteria   \n",
       "2  SAMN05720810     biolink:OntologyClass         50       57       part of   \n",
       "3  SAMN05720810     biolink:OntologyClass         79       90   Agriculture   \n",
       "4  SAMN05720810     biolink:OntologyClass         79       90   Agriculture   \n",
       "\n",
       "          PreferredTerm          CURIE S-Type  \n",
       "0              contains     RO:0001019     S1  \n",
       "1              Bacteria    NCBITaxon:2     S1  \n",
       "2               part of    BFO:0000050     S1  \n",
       "3  agricultural process  ENVO:01001246     S1  \n",
       "4      animal husbandry  ENVO:01001248     S1  "
      ]
     },
     "execution_count": 46,
     "metadata": {},
     "output_type": "execute_result"
    }
   ],
   "source": [
    "cols = ['BiosampleID', 'Biolink', 'BeginTerm', 'EndTerm', 'TokenizedTerm', 'PreferredTerm', 'CURIE', 'NaN1', 'S-Type', 'NaN2', 'UMLS_CUI']\n",
    "df = pd.read_csv('../output/FullNLPOutput.tsv', sep='\\t', names=cols )\n",
    "df = df.drop(['NaN1', 'NaN2', 'UMLS_CUI'], axis = 1)\n",
    "print('Total number of rows: ', str(len(df)))\n",
    "df.head()"
   ]
  },
  {
   "cell_type": "code",
   "execution_count": 3,
   "metadata": {},
   "outputs": [
    {
     "name": "stdout",
     "output_type": "stream",
     "text": [
      "Unique CURIEs: 1686\n",
      "Unique Biolinks: 4\n",
      "Unique Standard Terms: 1677\n"
     ]
    }
   ],
   "source": [
    "print('Unique BiosampleIds: '+ str(len(df.BiosampleID.unique())))\n",
    "print('Unique CURIEs: '+ str(len(df.CURIE.unique())))\n",
    "print('Unique Biolinks: '+ str(len(df.Biolink.unique())))\n",
    "print('Unique Standard Terms: '+ str(len(df.PreferredTerm.unique())))"
   ]
  },
  {
   "cell_type": "code",
   "execution_count": 4,
   "metadata": {},
   "outputs": [
    {
     "name": "stdout",
     "output_type": "stream",
     "text": [
      "Number of rows: 1222326\n"
     ]
    },
    {
     "data": {
      "text/html": [
       "<div>\n",
       "<style scoped>\n",
       "    .dataframe tbody tr th:only-of-type {\n",
       "        vertical-align: middle;\n",
       "    }\n",
       "\n",
       "    .dataframe tbody tr th {\n",
       "        vertical-align: top;\n",
       "    }\n",
       "\n",
       "    .dataframe thead th {\n",
       "        text-align: right;\n",
       "    }\n",
       "</style>\n",
       "<table border=\"1\" class=\"dataframe\">\n",
       "  <thead>\n",
       "    <tr style=\"text-align: right;\">\n",
       "      <th></th>\n",
       "      <th>BiosampleID</th>\n",
       "      <th>Biolink</th>\n",
       "      <th>BeginTerm</th>\n",
       "      <th>EndTerm</th>\n",
       "      <th>TokenizedTerm</th>\n",
       "      <th>PreferredTerm</th>\n",
       "      <th>CURIE</th>\n",
       "      <th>S-Type</th>\n",
       "    </tr>\n",
       "  </thead>\n",
       "  <tbody>\n",
       "    <tr>\n",
       "      <th>3</th>\n",
       "      <td>SAMN05720810</td>\n",
       "      <td>biolink:OntologyClass</td>\n",
       "      <td>79</td>\n",
       "      <td>90</td>\n",
       "      <td>Agriculture</td>\n",
       "      <td>agricultural process</td>\n",
       "      <td>ENVO:01001246</td>\n",
       "      <td>S1</td>\n",
       "    </tr>\n",
       "    <tr>\n",
       "      <th>4</th>\n",
       "      <td>SAMN05720810</td>\n",
       "      <td>biolink:OntologyClass</td>\n",
       "      <td>79</td>\n",
       "      <td>90</td>\n",
       "      <td>Agriculture</td>\n",
       "      <td>animal husbandry</td>\n",
       "      <td>ENVO:01001248</td>\n",
       "      <td>S1</td>\n",
       "    </tr>\n",
       "    <tr>\n",
       "      <th>5</th>\n",
       "      <td>SAMN05720810</td>\n",
       "      <td>biolink:OntologyClass</td>\n",
       "      <td>79</td>\n",
       "      <td>90</td>\n",
       "      <td>Agriculture</td>\n",
       "      <td>agriculture</td>\n",
       "      <td>ENVO:01001442</td>\n",
       "      <td>S1</td>\n",
       "    </tr>\n",
       "    <tr>\n",
       "      <th>8</th>\n",
       "      <td>SAMN15691669</td>\n",
       "      <td>biolink:OntologyClass</td>\n",
       "      <td>52</td>\n",
       "      <td>68</td>\n",
       "      <td>marine sediments</td>\n",
       "      <td>marine sediment</td>\n",
       "      <td>ENVO:03000033</td>\n",
       "      <td>S1</td>\n",
       "    </tr>\n",
       "    <tr>\n",
       "      <th>12</th>\n",
       "      <td>SAMN14402390</td>\n",
       "      <td>biolink:OntologyClass</td>\n",
       "      <td>47</td>\n",
       "      <td>58</td>\n",
       "      <td>rhizosphere</td>\n",
       "      <td>rhizosphere</td>\n",
       "      <td>ENVO:00005801</td>\n",
       "      <td>S1</td>\n",
       "    </tr>\n",
       "  </tbody>\n",
       "</table>\n",
       "</div>"
      ],
      "text/plain": [
       "     BiosampleID                Biolink  BeginTerm  EndTerm     TokenizedTerm  \\\n",
       "3   SAMN05720810  biolink:OntologyClass         79       90       Agriculture   \n",
       "4   SAMN05720810  biolink:OntologyClass         79       90       Agriculture   \n",
       "5   SAMN05720810  biolink:OntologyClass         79       90       Agriculture   \n",
       "8   SAMN15691669  biolink:OntologyClass         52       68  marine sediments   \n",
       "12  SAMN14402390  biolink:OntologyClass         47       58       rhizosphere   \n",
       "\n",
       "           PreferredTerm          CURIE S-Type  \n",
       "3   agricultural process  ENVO:01001246     S1  \n",
       "4       animal husbandry  ENVO:01001248     S1  \n",
       "5            agriculture  ENVO:01001442     S1  \n",
       "8        marine sediment  ENVO:03000033     S1  \n",
       "12           rhizosphere  ENVO:00005801     S1  "
      ]
     },
     "execution_count": 4,
     "metadata": {},
     "output_type": "execute_result"
    }
   ],
   "source": [
    "curieOfInterest = ['ENVO', 'PATO']\n",
    "envoPato = df[df.CURIE.str.contains('|'.join(curieOfInterest))]\n",
    "print('Number of rows: '+ str(len(envoPato)))\n",
    "envoPato.head()"
   ]
  },
  {
   "cell_type": "code",
   "execution_count": 5,
   "metadata": {},
   "outputs": [
    {
     "name": "stdout",
     "output_type": "stream",
     "text": [
      "Number of rows: 20083\n"
     ]
    },
    {
     "data": {
      "text/html": [
       "<div>\n",
       "<style scoped>\n",
       "    .dataframe tbody tr th:only-of-type {\n",
       "        vertical-align: middle;\n",
       "    }\n",
       "\n",
       "    .dataframe tbody tr th {\n",
       "        vertical-align: top;\n",
       "    }\n",
       "\n",
       "    .dataframe thead th {\n",
       "        text-align: right;\n",
       "    }\n",
       "</style>\n",
       "<table border=\"1\" class=\"dataframe\">\n",
       "  <thead>\n",
       "    <tr style=\"text-align: right;\">\n",
       "      <th></th>\n",
       "      <th>BiosampleID</th>\n",
       "      <th>Biolink</th>\n",
       "      <th>BeginTerm</th>\n",
       "      <th>EndTerm</th>\n",
       "      <th>TokenizedTerm</th>\n",
       "      <th>PreferredTerm</th>\n",
       "      <th>CURIE</th>\n",
       "      <th>S-Type</th>\n",
       "    </tr>\n",
       "  </thead>\n",
       "  <tbody>\n",
       "    <tr>\n",
       "      <th>60</th>\n",
       "      <td>SAMN09200348</td>\n",
       "      <td>biolink:OntologyClass</td>\n",
       "      <td>0</td>\n",
       "      <td>7</td>\n",
       "      <td>Wetland</td>\n",
       "      <td>saline marsh</td>\n",
       "      <td>ENVO:00000054</td>\n",
       "      <td>S1</td>\n",
       "    </tr>\n",
       "    <tr>\n",
       "      <th>572</th>\n",
       "      <td>SAMN13482251</td>\n",
       "      <td>biolink:OntologyClass</td>\n",
       "      <td>11</td>\n",
       "      <td>15</td>\n",
       "      <td>Lake</td>\n",
       "      <td>saline evaporation pond</td>\n",
       "      <td>ENVO:00000055</td>\n",
       "      <td>S1</td>\n",
       "    </tr>\n",
       "    <tr>\n",
       "      <th>575</th>\n",
       "      <td>SAMN13482251</td>\n",
       "      <td>biolink:OntologyClass</td>\n",
       "      <td>11</td>\n",
       "      <td>15</td>\n",
       "      <td>Lake</td>\n",
       "      <td>container of an intermittent saline lake</td>\n",
       "      <td>ENVO:00000502</td>\n",
       "      <td>S1</td>\n",
       "    </tr>\n",
       "    <tr>\n",
       "      <th>582</th>\n",
       "      <td>SAMN13482251</td>\n",
       "      <td>biolink:OntologyClass</td>\n",
       "      <td>11</td>\n",
       "      <td>15</td>\n",
       "      <td>Lake</td>\n",
       "      <td>intermittent saline evaporation pond</td>\n",
       "      <td>ENVO:00000532</td>\n",
       "      <td>S1</td>\n",
       "    </tr>\n",
       "    <tr>\n",
       "      <th>772</th>\n",
       "      <td>SAMN10915792</td>\n",
       "      <td>biolink:OntologyClass</td>\n",
       "      <td>0</td>\n",
       "      <td>4</td>\n",
       "      <td>Lake</td>\n",
       "      <td>saline evaporation pond</td>\n",
       "      <td>ENVO:00000055</td>\n",
       "      <td>S1</td>\n",
       "    </tr>\n",
       "  </tbody>\n",
       "</table>\n",
       "</div>"
      ],
      "text/plain": [
       "      BiosampleID                Biolink  BeginTerm  EndTerm TokenizedTerm  \\\n",
       "60   SAMN09200348  biolink:OntologyClass          0        7       Wetland   \n",
       "572  SAMN13482251  biolink:OntologyClass         11       15          Lake   \n",
       "575  SAMN13482251  biolink:OntologyClass         11       15          Lake   \n",
       "582  SAMN13482251  biolink:OntologyClass         11       15          Lake   \n",
       "772  SAMN10915792  biolink:OntologyClass          0        4          Lake   \n",
       "\n",
       "                                PreferredTerm          CURIE S-Type  \n",
       "60                               saline marsh  ENVO:00000054     S1  \n",
       "572                   saline evaporation pond  ENVO:00000055     S1  \n",
       "575  container of an intermittent saline lake  ENVO:00000502     S1  \n",
       "582      intermittent saline evaporation pond  ENVO:00000532     S1  \n",
       "772                   saline evaporation pond  ENVO:00000055     S1  "
      ]
     },
     "execution_count": 5,
     "metadata": {},
     "output_type": "execute_result"
    }
   ],
   "source": [
    "salineTerms = ['sali', 'salt']\n",
    "envPatSal = envoPato[envoPato.PreferredTerm.str.contains('|'.join(salineTerms))]\n",
    "print('Number of rows: '+ str(len(envPatSal)))\n",
    "envPatSal.head()"
   ]
  },
  {
   "cell_type": "markdown",
   "metadata": {},
   "source": [
    "### Form Phrases for each biosample"
   ]
  },
  {
   "cell_type": "code",
   "execution_count": 44,
   "metadata": {},
   "outputs": [
    {
     "name": "stdout",
     "output_type": "stream",
     "text": [
      "CPU times: user 5 µs, sys: 0 ns, total: 5 µs\n",
      "Wall time: 7.87 µs\n"
     ]
    }
   ],
   "source": [
    "%%time\n",
    "# Function to phrase-ify\n",
    "def phrasify(bsIdList, columnNames):\n",
    "    count = 0\n",
    "    returnDF = pd.DataFrame(columns=columnNames)\n",
    "    for i in bsIdList:\n",
    "        count += 1\n",
    "        tmpDF = pd.DataFrame()\n",
    "        bpList = []\n",
    "        phrase1 = []\n",
    "        phrase2 = []\n",
    "\n",
    "        tmpDF = df.loc[(df.BiosampleID == i)]\n",
    "        tmpDF.sort_values(by=['BeginTerm'], inplace=True)\n",
    "        break;\n",
    "\n",
    "        for row in tmpDF.iterrows():\n",
    "            bpList.append(row[1].BeginTerm)\n",
    "            phrase1.append(row[1].TokenizedTerm)\n",
    "            phrase2.append(row[1].PreferredTerm)\n",
    "\n",
    "        returnDF = returnDF.append(pd.DataFrame([[i, bpList, phrase1, phrase2]], columns=columnNames))\n",
    "        if count % 1000 == 0:\n",
    "                print('Counter value: '+ str(count//1000)+ 'K - '+ datetime.now().strftime(\"%d/%m/%Y %H:%M:%S\"))\n",
    "        \n",
    "    return returnDF"
   ]
  },
  {
   "cell_type": "code",
   "execution_count": null,
   "metadata": {},
   "outputs": [],
   "source": [
    "%%time\n",
    "\n",
    "pCols = ['BiosampleID', 'BeginPosList', 'Phrase', 'StdPhrase']\n",
    "phraseDF = phrasify(df.BiosampleID.unique(),pCols)\n",
    "phraseDF.head()"
   ]
  },
  {
   "cell_type": "code",
   "execution_count": null,
   "metadata": {},
   "outputs": [],
   "source": [
    "phraseDF.to_csv('../output/enitityPhrases.tsv', sep='\\t', index=False)"
   ]
  },
  {
   "cell_type": "code",
   "execution_count": null,
   "metadata": {},
   "outputs": [],
   "source": []
  }
 ],
 "metadata": {
  "kernelspec": {
   "display_name": "Python 3",
   "language": "python",
   "name": "python3"
  },
  "language_info": {
   "codemirror_mode": {
    "name": "ipython",
    "version": 3
   },
   "file_extension": ".py",
   "mimetype": "text/x-python",
   "name": "python",
   "nbconvert_exporter": "python",
   "pygments_lexer": "ipython3",
   "version": "3.7.9"
  }
 },
 "nbformat": 4,
 "nbformat_minor": 4
}
