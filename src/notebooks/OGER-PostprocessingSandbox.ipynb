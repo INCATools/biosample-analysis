{
 "cells": [
  {
   "cell_type": "markdown",
   "metadata": {},
   "source": [
    "## Import OGER output"
   ]
  },
  {
   "cell_type": "code",
   "execution_count": 8,
   "metadata": {},
   "outputs": [
    {
     "name": "stdout",
     "output_type": "stream",
     "text": [
      "CPU times: user 50 µs, sys: 0 ns, total: 50 µs\n",
      "Wall time: 55.1 µs\n"
     ]
    }
   ],
   "source": [
    "%%time\n",
    "\n",
    "import pandas as pd\n",
    "from datetime import datetime\n",
    "pd.options.mode.chained_assignment = None  # default='warn'"
   ]
  },
  {
   "cell_type": "code",
   "execution_count": 107,
   "metadata": {},
   "outputs": [
    {
     "name": "stdout",
     "output_type": "stream",
     "text": [
      "Total number of rows:  2386121\n"
     ]
    },
    {
     "data": {
      "text/html": [
       "<div>\n",
       "<style scoped>\n",
       "    .dataframe tbody tr th:only-of-type {\n",
       "        vertical-align: middle;\n",
       "    }\n",
       "\n",
       "    .dataframe tbody tr th {\n",
       "        vertical-align: top;\n",
       "    }\n",
       "\n",
       "    .dataframe thead th {\n",
       "        text-align: right;\n",
       "    }\n",
       "</style>\n",
       "<table border=\"1\" class=\"dataframe\">\n",
       "  <thead>\n",
       "    <tr style=\"text-align: right;\">\n",
       "      <th></th>\n",
       "      <th>BiosampleId</th>\n",
       "      <th>Biolink</th>\n",
       "      <th>BeginTerm</th>\n",
       "      <th>EndTerm</th>\n",
       "      <th>TokenizedTerm</th>\n",
       "      <th>PreferredTerm</th>\n",
       "      <th>CURIE</th>\n",
       "      <th>S-Type</th>\n",
       "    </tr>\n",
       "  </thead>\n",
       "  <tbody>\n",
       "    <tr>\n",
       "      <th>0</th>\n",
       "      <td>SAMN10586215</td>\n",
       "      <td>biolink:OntologyClass</td>\n",
       "      <td>16</td>\n",
       "      <td>24</td>\n",
       "      <td>contains</td>\n",
       "      <td>contains</td>\n",
       "      <td>RO:0001019</td>\n",
       "      <td>S1</td>\n",
       "    </tr>\n",
       "    <tr>\n",
       "      <th>1</th>\n",
       "      <td>SAMN10586215</td>\n",
       "      <td>biolink:OrganismalEntity</td>\n",
       "      <td>119</td>\n",
       "      <td>127</td>\n",
       "      <td>Bacteria</td>\n",
       "      <td>Bacteria</td>\n",
       "      <td>NCBITaxon:2</td>\n",
       "      <td>S1</td>\n",
       "    </tr>\n",
       "    <tr>\n",
       "      <th>2</th>\n",
       "      <td>SAMN05720810</td>\n",
       "      <td>biolink:OntologyClass</td>\n",
       "      <td>50</td>\n",
       "      <td>57</td>\n",
       "      <td>part of</td>\n",
       "      <td>part of</td>\n",
       "      <td>BFO:0000050</td>\n",
       "      <td>S1</td>\n",
       "    </tr>\n",
       "    <tr>\n",
       "      <th>3</th>\n",
       "      <td>SAMN05720810</td>\n",
       "      <td>biolink:OntologyClass</td>\n",
       "      <td>79</td>\n",
       "      <td>90</td>\n",
       "      <td>Agriculture</td>\n",
       "      <td>agricultural process</td>\n",
       "      <td>ENVO:01001246</td>\n",
       "      <td>S1</td>\n",
       "    </tr>\n",
       "    <tr>\n",
       "      <th>4</th>\n",
       "      <td>SAMN05720810</td>\n",
       "      <td>biolink:OntologyClass</td>\n",
       "      <td>79</td>\n",
       "      <td>90</td>\n",
       "      <td>Agriculture</td>\n",
       "      <td>animal husbandry</td>\n",
       "      <td>ENVO:01001248</td>\n",
       "      <td>S1</td>\n",
       "    </tr>\n",
       "  </tbody>\n",
       "</table>\n",
       "</div>"
      ],
      "text/plain": [
       "    BiosampleId                   Biolink  BeginTerm  EndTerm TokenizedTerm  \\\n",
       "0  SAMN10586215     biolink:OntologyClass         16       24      contains   \n",
       "1  SAMN10586215  biolink:OrganismalEntity        119      127      Bacteria   \n",
       "2  SAMN05720810     biolink:OntologyClass         50       57       part of   \n",
       "3  SAMN05720810     biolink:OntologyClass         79       90   Agriculture   \n",
       "4  SAMN05720810     biolink:OntologyClass         79       90   Agriculture   \n",
       "\n",
       "          PreferredTerm          CURIE S-Type  \n",
       "0              contains     RO:0001019     S1  \n",
       "1              Bacteria    NCBITaxon:2     S1  \n",
       "2               part of    BFO:0000050     S1  \n",
       "3  agricultural process  ENVO:01001246     S1  \n",
       "4      animal husbandry  ENVO:01001248     S1  "
      ]
     },
     "execution_count": 107,
     "metadata": {},
     "output_type": "execute_result"
    }
   ],
   "source": [
    "cols = ['BiosampleId', 'Biolink', 'BeginTerm', 'EndTerm', 'TokenizedTerm', 'PreferredTerm', 'CURIE', 'NaN1', 'S-Type', 'NaN2', 'UMLS_CUI']\n",
    "ogerOutput = pd.read_csv('../output/FullNLPOutput.tsv', sep='\\t', names=cols )\n",
    "ogerOutput = ogerOutput.drop(['NaN1', 'NaN2', 'UMLS_CUI'], axis = 1)\n",
    "print('Total number of rows: ', str(len(ogerOutput)))\n",
    "ogerOutput.head()\n",
    "#pd.set_option(\"display.max_rows\", None)\n",
    "#print(ogerOutput.CURIE.value_counts())"
   ]
  },
  {
   "cell_type": "code",
   "execution_count": 39,
   "metadata": {},
   "outputs": [
    {
     "name": "stdout",
     "output_type": "stream",
     "text": [
      "Number of rows: 948401\n",
      "Number of unique Ids: 938333\n",
      "Number of unique Desc: 59789\n",
      "******After duplicate row removal*****\n",
      "Number of rows: 947374\n",
      "Number of unique Ids: 938333\n",
      "Number of unique Description: 59789\n"
     ]
    },
    {
     "data": {
      "text/html": [
       "<div>\n",
       "<style scoped>\n",
       "    .dataframe tbody tr th:only-of-type {\n",
       "        vertical-align: middle;\n",
       "    }\n",
       "\n",
       "    .dataframe tbody tr th {\n",
       "        vertical-align: top;\n",
       "    }\n",
       "\n",
       "    .dataframe thead th {\n",
       "        text-align: right;\n",
       "    }\n",
       "</style>\n",
       "<table border=\"1\" class=\"dataframe\">\n",
       "  <thead>\n",
       "    <tr style=\"text-align: right;\">\n",
       "      <th></th>\n",
       "      <th>Description</th>\n",
       "      <th>BiosampleId</th>\n",
       "    </tr>\n",
       "  </thead>\n",
       "  <tbody>\n",
       "    <tr>\n",
       "      <th>0</th>\n",
       "      <td>Treponema denticola ATCC 35405. Treponema dent...</td>\n",
       "      <td>SAMN02603967</td>\n",
       "    </tr>\n",
       "    <tr>\n",
       "      <th>1</th>\n",
       "      <td>Treponema pallidum subsp. pallidum. This organ...</td>\n",
       "      <td>SAMN02604348</td>\n",
       "    </tr>\n",
       "    <tr>\n",
       "      <th>2</th>\n",
       "      <td>Campylobacter fetus subsp. venerealis str. Azu...</td>\n",
       "      <td>SAMN02471365</td>\n",
       "    </tr>\n",
       "    <tr>\n",
       "      <th>3</th>\n",
       "      <td>Campylobacter jejuni strain NCTC11168. This st...</td>\n",
       "      <td>SAMEA1705929</td>\n",
       "    </tr>\n",
       "    <tr>\n",
       "      <th>4</th>\n",
       "      <td>Francisella tularensis subsp. tularensis strai...</td>\n",
       "      <td>SAMEA3138185</td>\n",
       "    </tr>\n",
       "  </tbody>\n",
       "</table>\n",
       "</div>"
      ],
      "text/plain": [
       "                                         Description   BiosampleId\n",
       "0  Treponema denticola ATCC 35405. Treponema dent...  SAMN02603967\n",
       "1  Treponema pallidum subsp. pallidum. This organ...  SAMN02604348\n",
       "2  Campylobacter fetus subsp. venerealis str. Azu...  SAMN02471365\n",
       "3  Campylobacter jejuni strain NCTC11168. This st...  SAMEA1705929\n",
       "4  Francisella tularensis subsp. tularensis strai...  SAMEA3138185"
      ]
     },
     "execution_count": 39,
     "metadata": {},
     "output_type": "execute_result"
    }
   ],
   "source": [
    "ogerInput = pd.read_csv('../output/biosampleDescriptionDF.tsv', sep='\\t')\n",
    "ogerInput.BiosampleId = ogerInput.BiosampleId.map(lambda x: x.replace('BIOSAMPLE:',''))\n",
    "ogerInput = ogerInput.drop(['StudyId', 'Name', 'Title'], axis = 1)\n",
    "print('Number of rows: '+ str(len(ogerInput)))\n",
    "print('Number of unique Ids: '+ str(len(ogerInput.BiosampleId.unique())))\n",
    "print('Number of unique Desc: '+ str(len(ogerInput.Description.unique())))\n",
    "ogerInput = ogerInput.drop_duplicates()\n",
    "print('******After duplicate row removal*****')\n",
    "print('Number of rows: '+ str(len(ogerInput)))\n",
    "print('Number of unique Ids: '+ str(len(ogerInput.BiosampleId.unique())))\n",
    "print('Number of unique Description: '+ str(len(ogerInput.Description.unique())))\n",
    "ogerInput.head()"
   ]
  },
  {
   "cell_type": "code",
   "execution_count": 3,
   "metadata": {},
   "outputs": [
    {
     "name": "stdout",
     "output_type": "stream",
     "text": [
      "Unique BiosampleIds: 649677\n",
      "Unique CURIEs: 1686\n",
      "Unique Biolinks: 4\n",
      "Unique Standard Terms: 1677\n"
     ]
    }
   ],
   "source": [
    "print('Unique BiosampleIds: '+ str(len(ogerOutput.BiosampleID.unique())))\n",
    "print('Unique CURIEs: '+ str(len(ogerOutput.CURIE.unique())))\n",
    "print('Unique Biolinks: '+ str(len(ogerOutput.Biolink.unique())))\n",
    "print('Unique Standard Terms: '+ str(len(ogerOutput.PreferredTerm.unique())))"
   ]
  },
  {
   "cell_type": "code",
   "execution_count": 112,
   "metadata": {},
   "outputs": [
    {
     "name": "stdout",
     "output_type": "stream",
     "text": [
      "Number of rows: 1531659\n"
     ]
    },
    {
     "data": {
      "text/html": [
       "<div>\n",
       "<style scoped>\n",
       "    .dataframe tbody tr th:only-of-type {\n",
       "        vertical-align: middle;\n",
       "    }\n",
       "\n",
       "    .dataframe tbody tr th {\n",
       "        vertical-align: top;\n",
       "    }\n",
       "\n",
       "    .dataframe thead th {\n",
       "        text-align: right;\n",
       "    }\n",
       "</style>\n",
       "<table border=\"1\" class=\"dataframe\">\n",
       "  <thead>\n",
       "    <tr style=\"text-align: right;\">\n",
       "      <th></th>\n",
       "      <th>BiosampleId</th>\n",
       "      <th>Biolink</th>\n",
       "      <th>BeginTerm</th>\n",
       "      <th>EndTerm</th>\n",
       "      <th>TokenizedTerm</th>\n",
       "      <th>PreferredTerm</th>\n",
       "      <th>CURIE</th>\n",
       "      <th>S-Type</th>\n",
       "    </tr>\n",
       "  </thead>\n",
       "  <tbody>\n",
       "    <tr>\n",
       "      <th>0</th>\n",
       "      <td>SAMN10586215</td>\n",
       "      <td>biolink:OntologyClass</td>\n",
       "      <td>16</td>\n",
       "      <td>24</td>\n",
       "      <td>contains</td>\n",
       "      <td>contains</td>\n",
       "      <td>RO:0001019</td>\n",
       "      <td>S1</td>\n",
       "    </tr>\n",
       "    <tr>\n",
       "      <th>3</th>\n",
       "      <td>SAMN05720810</td>\n",
       "      <td>biolink:OntologyClass</td>\n",
       "      <td>79</td>\n",
       "      <td>90</td>\n",
       "      <td>Agriculture</td>\n",
       "      <td>agricultural process</td>\n",
       "      <td>ENVO:01001246</td>\n",
       "      <td>S1</td>\n",
       "    </tr>\n",
       "    <tr>\n",
       "      <th>4</th>\n",
       "      <td>SAMN05720810</td>\n",
       "      <td>biolink:OntologyClass</td>\n",
       "      <td>79</td>\n",
       "      <td>90</td>\n",
       "      <td>Agriculture</td>\n",
       "      <td>animal husbandry</td>\n",
       "      <td>ENVO:01001248</td>\n",
       "      <td>S1</td>\n",
       "    </tr>\n",
       "    <tr>\n",
       "      <th>5</th>\n",
       "      <td>SAMN05720810</td>\n",
       "      <td>biolink:OntologyClass</td>\n",
       "      <td>79</td>\n",
       "      <td>90</td>\n",
       "      <td>Agriculture</td>\n",
       "      <td>agriculture</td>\n",
       "      <td>ENVO:01001442</td>\n",
       "      <td>S1</td>\n",
       "    </tr>\n",
       "    <tr>\n",
       "      <th>6</th>\n",
       "      <td>SAMN16364345</td>\n",
       "      <td>biolink:OntologyClass</td>\n",
       "      <td>16</td>\n",
       "      <td>24</td>\n",
       "      <td>contains</td>\n",
       "      <td>contains</td>\n",
       "      <td>RO:0001019</td>\n",
       "      <td>S1</td>\n",
       "    </tr>\n",
       "  </tbody>\n",
       "</table>\n",
       "</div>"
      ],
      "text/plain": [
       "    BiosampleId                Biolink  BeginTerm  EndTerm TokenizedTerm  \\\n",
       "0  SAMN10586215  biolink:OntologyClass         16       24      contains   \n",
       "3  SAMN05720810  biolink:OntologyClass         79       90   Agriculture   \n",
       "4  SAMN05720810  biolink:OntologyClass         79       90   Agriculture   \n",
       "5  SAMN05720810  biolink:OntologyClass         79       90   Agriculture   \n",
       "6  SAMN16364345  biolink:OntologyClass         16       24      contains   \n",
       "\n",
       "          PreferredTerm          CURIE S-Type  \n",
       "0              contains     RO:0001019     S1  \n",
       "3  agricultural process  ENVO:01001246     S1  \n",
       "4      animal husbandry  ENVO:01001248     S1  \n",
       "5           agriculture  ENVO:01001442     S1  \n",
       "6              contains     RO:0001019     S1  "
      ]
     },
     "execution_count": 112,
     "metadata": {},
     "output_type": "execute_result"
    }
   ],
   "source": [
    "curieOfInterest = ['ENVO', 'PATO', 'RO']\n",
    "envoPato = ogerOutput[ogerOutput.CURIE.str.contains('|'.join(curieOfInterest))]\n",
    "print('Number of rows: '+ str(len(envoPato)))\n",
    "envoPato.head()"
   ]
  },
  {
   "cell_type": "code",
   "execution_count": 113,
   "metadata": {},
   "outputs": [
    {
     "name": "stdout",
     "output_type": "stream",
     "text": [
      "Number of rows: 2325\n"
     ]
    },
    {
     "data": {
      "text/html": [
       "<div>\n",
       "<style scoped>\n",
       "    .dataframe tbody tr th:only-of-type {\n",
       "        vertical-align: middle;\n",
       "    }\n",
       "\n",
       "    .dataframe tbody tr th {\n",
       "        vertical-align: top;\n",
       "    }\n",
       "\n",
       "    .dataframe thead th {\n",
       "        text-align: right;\n",
       "    }\n",
       "</style>\n",
       "<table border=\"1\" class=\"dataframe\">\n",
       "  <thead>\n",
       "    <tr style=\"text-align: right;\">\n",
       "      <th></th>\n",
       "      <th>BiosampleId</th>\n",
       "      <th>Biolink</th>\n",
       "      <th>BeginTerm</th>\n",
       "      <th>EndTerm</th>\n",
       "      <th>TokenizedTerm</th>\n",
       "      <th>PreferredTerm</th>\n",
       "      <th>CURIE</th>\n",
       "      <th>S-Type</th>\n",
       "    </tr>\n",
       "  </thead>\n",
       "  <tbody>\n",
       "    <tr>\n",
       "      <th>1302</th>\n",
       "      <td>SAMN13189859</td>\n",
       "      <td>biolink:OntologyClass</td>\n",
       "      <td>35</td>\n",
       "      <td>39</td>\n",
       "      <td>salt</td>\n",
       "      <td>sodium chloride salt</td>\n",
       "      <td>ENVO:01000681</td>\n",
       "      <td>S1</td>\n",
       "    </tr>\n",
       "    <tr>\n",
       "      <th>1304</th>\n",
       "      <td>SAMN13189859</td>\n",
       "      <td>biolink:OntologyClass</td>\n",
       "      <td>35</td>\n",
       "      <td>45</td>\n",
       "      <td>salt marsh</td>\n",
       "      <td>saline marsh</td>\n",
       "      <td>ENVO:00000054</td>\n",
       "      <td>S1</td>\n",
       "    </tr>\n",
       "    <tr>\n",
       "      <th>2815</th>\n",
       "      <td>SAMN08794385</td>\n",
       "      <td>biolink:OntologyClass</td>\n",
       "      <td>1025</td>\n",
       "      <td>1029</td>\n",
       "      <td>salt</td>\n",
       "      <td>sodium chloride salt</td>\n",
       "      <td>ENVO:01000681</td>\n",
       "      <td>S7</td>\n",
       "    </tr>\n",
       "    <tr>\n",
       "      <th>4336</th>\n",
       "      <td>SAMN03334908</td>\n",
       "      <td>biolink:AnatomicalEntity</td>\n",
       "      <td>243</td>\n",
       "      <td>249</td>\n",
       "      <td>saliva</td>\n",
       "      <td>saliva</td>\n",
       "      <td>UBERON:0001836</td>\n",
       "      <td>S2</td>\n",
       "    </tr>\n",
       "    <tr>\n",
       "      <th>7911</th>\n",
       "      <td>SAMN09201718</td>\n",
       "      <td>biolink:OntologyClass</td>\n",
       "      <td>19</td>\n",
       "      <td>30</td>\n",
       "      <td>saline lake</td>\n",
       "      <td>saline lake</td>\n",
       "      <td>ENVO:00000019</td>\n",
       "      <td>S1</td>\n",
       "    </tr>\n",
       "  </tbody>\n",
       "</table>\n",
       "</div>"
      ],
      "text/plain": [
       "       BiosampleId                   Biolink  BeginTerm  EndTerm  \\\n",
       "1302  SAMN13189859     biolink:OntologyClass         35       39   \n",
       "1304  SAMN13189859     biolink:OntologyClass         35       45   \n",
       "2815  SAMN08794385     biolink:OntologyClass       1025     1029   \n",
       "4336  SAMN03334908  biolink:AnatomicalEntity        243      249   \n",
       "7911  SAMN09201718     biolink:OntologyClass         19       30   \n",
       "\n",
       "     TokenizedTerm         PreferredTerm           CURIE S-Type  \n",
       "1302          salt  sodium chloride salt   ENVO:01000681     S1  \n",
       "1304    salt marsh          saline marsh   ENVO:00000054     S1  \n",
       "2815          salt  sodium chloride salt   ENVO:01000681     S7  \n",
       "4336        saliva                saliva  UBERON:0001836     S2  \n",
       "7911   saline lake           saline lake   ENVO:00000019     S1  "
      ]
     },
     "execution_count": 113,
     "metadata": {},
     "output_type": "execute_result"
    }
   ],
   "source": [
    "salineTerms = ['sali', 'salt']\n",
    "envPatSal = envoPato[envoPato.TokenizedTerm\t.str.contains('|'.join(salineTerms))]\n",
    "print('Number of rows: '+ str(len(envPatSal)))\n",
    "envPatSal.head()"
   ]
  },
  {
   "cell_type": "markdown",
   "metadata": {},
   "source": [
    "### Form Phrases for each biosample"
   ]
  },
  {
   "cell_type": "code",
   "execution_count": 130,
   "metadata": {},
   "outputs": [
    {
     "name": "stdout",
     "output_type": "stream",
     "text": [
      "CPU times: user 4 µs, sys: 1e+03 ns, total: 5 µs\n",
      "Wall time: 6.91 µs\n"
     ]
    }
   ],
   "source": [
    "%%time\n",
    "# Function to phrase-ify\n",
    "def phrasify(dataFrame, columnNames):\n",
    "    count = 0\n",
    "    returnDF = pd.DataFrame(columns=columnNames)\n",
    "    \n",
    "    bsIdList = dataFrame.BiosampleId.unique()\n",
    "    \n",
    "    for i in bsIdList:\n",
    "        count += 1\n",
    "        tmpDF = pd.DataFrame()\n",
    "        bpList = []\n",
    "        phrase1 = []\n",
    "        phrase2 = []\n",
    "        curie = []\n",
    "\n",
    "        tmpDF = dataFrame.loc[(dataFrame.BiosampleId == i)]\n",
    "        \n",
    "        # Filter: Consider ONLY 3 or more DISTINCT terms AND if an RO CURIE is present\n",
    "        \n",
    "        if len(tmpDF) > 2 \\\n",
    "        and len(tmpDF.TokenizedTerm.unique()) > 2 \\\n",
    "        and tmpDF.CURIE.str.contains('RO').any():\n",
    "            \n",
    "            tmpDF.sort_values(by=['BeginTerm'], inplace=True)\n",
    "\n",
    "            for row in tmpDF.iterrows():\n",
    "                bpList.append(row[1].BeginTerm)\n",
    "                phrase1.append(row[1].TokenizedTerm)\n",
    "                phrase2.append(row[1].PreferredTerm)\n",
    "                curie.append(row[1].CURIE)\n",
    "\n",
    "            returnDF = returnDF.append(pd.DataFrame([[i, bpList, phrase1, phrase2, curie]], columns=columnNames))\n",
    "            \n",
    "        if count % 1000 == 0:\n",
    "            print('Number of relevant rows: '+ str(len(returnDF))+ ' - '+ datetime.now().strftime(\"%d/%m/%Y %H:%M:%S\"))\n",
    "        \n",
    "        # *********** FOR DEBUG PURPOSES ONLY ****************\n",
    "        if count == 5000:\n",
    "            break;\n",
    "        \n",
    "    return returnDF"
   ]
  },
  {
   "cell_type": "code",
   "execution_count": null,
   "metadata": {},
   "outputs": [
    {
     "name": "stdout",
     "output_type": "stream",
     "text": [
      "Number of relevant rows: 177 - 23/10/2020 17:43:19\n",
      "Number of relevant rows: 352 - 23/10/2020 17:45:06\n",
      "Number of relevant rows: 543 - 23/10/2020 17:46:54\n",
      "Number of relevant rows: 761 - 23/10/2020 17:48:42\n"
     ]
    }
   ],
   "source": [
    "%%time\n",
    "\n",
    "pCols = ['BiosampleId', 'BeginPosList', 'Phrase', 'StdPhrase', 'CURIE']\n",
    "phraseDF = phrasify(envoPato,pCols)\n",
    "print('*****Number of rows: '+ str(len(phraseDF)) + ' ********')\n",
    "phraseDF.head()"
   ]
  },
  {
   "cell_type": "code",
   "execution_count": null,
   "metadata": {},
   "outputs": [],
   "source": [
    "result = ogerInput.merge(phraseDF, how='inner', on='BiosampleId')\n",
    "result.head()"
   ]
  },
  {
   "cell_type": "code",
   "execution_count": 94,
   "metadata": {},
   "outputs": [],
   "source": [
    "result.to_csv('../output/enitityPhrases.tsv', sep='\\t', index=False)"
   ]
  },
  {
   "cell_type": "code",
   "execution_count": null,
   "metadata": {},
   "outputs": [],
   "source": []
  }
 ],
 "metadata": {
  "kernelspec": {
   "display_name": "Python 3",
   "language": "python",
   "name": "python3"
  },
  "language_info": {
   "codemirror_mode": {
    "name": "ipython",
    "version": 3
   },
   "file_extension": ".py",
   "mimetype": "text/x-python",
   "name": "python",
   "nbconvert_exporter": "python",
   "pygments_lexer": "ipython3",
   "version": "3.7.9"
  }
 },
 "nbformat": 4,
 "nbformat_minor": 4
}
