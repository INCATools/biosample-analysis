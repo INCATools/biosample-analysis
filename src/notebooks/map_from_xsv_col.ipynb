{
 "cells": [
  {
   "cell_type": "code",
   "execution_count": null,
   "metadata": {},
   "outputs": [],
   "source": [
    "import pandas as pd\n",
    "import os\n",
    "import scoped_mapping\n",
    "import numpy as np\n",
    "from scipy.stats import entropy\n"
   ]
  },
  {
   "cell_type": "markdown",
   "metadata": {},
   "source": [
    "## _TODO: Add Postgres example_"
   ]
  },
  {
   "cell_type": "code",
   "execution_count": null,
   "metadata": {},
   "outputs": [],
   "source": [
    "# these rows in this dataset aren't intended to be related in any way\n",
    "# it's really just three unrelated columns\n",
    "data_file          = '../../data/webmap_enums.tsv'\n",
    "delimiter          = '\\t'\n",
    "column_name        = 'Taxon'\n",
    "chars_to_whiteout  = '._-'\n",
    "my_ontoprefix      = 'ncbitaxon'\n",
    "my_query_fields    = ''\n",
    "my_row_request           = 3\n",
    "string_dist_shingle_size = 2\n",
    "my_max_string_dist       = 0.1"
   ]
  },
  {
   "cell_type": "code",
   "execution_count": null,
   "metadata": {
    "scrolled": true
   },
   "outputs": [],
   "source": [
    "data_frame = pd.read_csv(data_file, sep='\\t')\n",
    "data_frame = data_frame.replace(np.nan, '')\n",
    "data_frame"
   ]
  },
  {
   "cell_type": "code",
   "execution_count": null,
   "metadata": {},
   "outputs": [],
   "source": [
    "row_count = len(data_frame.index)\n",
    "\n",
    "dfc = data_frame.columns\n",
    "col_entropy = {}\n",
    "\n",
    "for onecol in dfc:\n",
    "    temp = data_frame[onecol].value_counts(dropna=False)\n",
    "    temp = temp / row_count\n",
    "    E = entropy(temp)\n",
    "    col_entropy[onecol] = E\n",
    "\n",
    "col_entropy = pd.DataFrame(list(col_entropy.items()),\n",
    "                   columns=['column', 'entropy'])\n",
    "\n",
    "col_entropy = col_entropy.sort_values('entropy', ascending=True)\n",
    "\n",
    "col_entropy\n"
   ]
  },
  {
   "cell_type": "code",
   "execution_count": null,
   "metadata": {},
   "outputs": [],
   "source": [
    "data_frame['Engineering'].value_counts()"
   ]
  },
  {
   "cell_type": "code",
   "execution_count": null,
   "metadata": {},
   "outputs": [],
   "source": [
    "data_frame['Taxon'].value_counts()"
   ]
  },
  {
   "cell_type": "code",
   "execution_count": null,
   "metadata": {},
   "outputs": [],
   "source": [
    "data_frame['FAO'].value_counts()\n"
   ]
  },
  {
   "cell_type": "code",
   "execution_count": null,
   "metadata": {},
   "outputs": [],
   "source": [
    "data_list = data_frame[column_name]\n",
    "null_flag = data_list.isnull()\n",
    "null_flag.value_counts()\n",
    "no_nans = data_list[~null_flag]\n",
    "no_nans = list(set(list(no_nans)))\n",
    "no_nans.sort()\n",
    "# no_nans\n"
   ]
  },
  {
   "cell_type": "code",
   "execution_count": null,
   "metadata": {},
   "outputs": [],
   "source": [
    "## illustrates normalizastion and search space reducation\n",
    "## but all of that is embedded in scoped_mapping.search_get_annotations_wrapper\n",
    "\n",
    "# whiteout_frame = scoped_mapping.get_whiteout_frame(no_nans, replaced_chars=chars_to_whiteout)\n",
    "# whiteout_frame\n",
    "# whiteout_list = scoped_mapping.get_wo_list(whiteout_frame)\n",
    "# whiteout_list"
   ]
  },
  {
   "cell_type": "code",
   "execution_count": null,
   "metadata": {
    "scrolled": true
   },
   "outputs": [],
   "source": [
    "# about 1 second per unique submission\n",
    "mappings = scoped_mapping.search_get_annotations_wrapper(no_nans,\n",
    "                                                         bad_chars       = chars_to_whiteout,\n",
    "                                                         cat_name        = column_name,\n",
    "                                                         ontoprefix      = my_ontoprefix,\n",
    "                                                         query_fields    = my_query_fields,\n",
    "                                                         rr              = my_row_request,\n",
    "                                                         string_dist_arg = string_dist_shingle_size)\n",
    "mappings\n"
   ]
  },
  {
   "cell_type": "code",
   "execution_count": null,
   "metadata": {
    "scrolled": false
   },
   "outputs": [],
   "source": [
    "my_best_acceptable = scoped_mapping.get_best_acceptable(mappings, max_string_dist=my_max_string_dist)\n",
    "\n",
    "my_best_acceptable = my_best_acceptable.iloc[my_best_acceptable.raw.str.lower().argsort()]\n",
    "\n",
    "my_best_acceptable"
   ]
  },
  {
   "cell_type": "markdown",
   "metadata": {},
   "source": [
    "In the default configuration, `Simian virus 40` is incorrectly mapped to _Simian virus 41_, NCBITaxon:2560766. \n",
    "\n",
    "NCBITaxon:1891767 _Macaca mulatta polyomavirus 1_ is probably the correct mapping, with equivalent name _Simian virus 40_. NCBITaxon:10633 is an alternative ID. I have not found any configuration of `scoped_mapping.search_get_annotations_wrapper` to retrieve the correct term for this string.\n"
   ]
  },
  {
   "cell_type": "code",
   "execution_count": null,
   "metadata": {},
   "outputs": [],
   "source": [
    "successes = list(set(list(my_best_acceptable['raw'])))\n",
    "successes.sort()\n",
    "successes"
   ]
  },
  {
   "cell_type": "code",
   "execution_count": null,
   "metadata": {
    "scrolled": true
   },
   "outputs": [],
   "source": [
    "no_acceptable_mappings = scoped_mapping.get_no_acceptable_mappings(mappings, my_best_acceptable)\n",
    "no_acceptable_mappings"
   ]
  },
  {
   "cell_type": "markdown",
   "metadata": {},
   "source": [
    "Good mappings could available in `no_acceptable_mappings`, but they may passed on to `my_best_acceptable` due to **string distances that are higher than the suggested 0.05.**\n",
    "\n",
    "- `Ashbya.gossypii` matches NCBITaxon:33169 _Eremothecium gossypii_ through its related synonym _Ashbya goss**i**pii_, but the substitution of a _y_ for an _i_ results in a string distance of 0.143 under the suggested configuration.\n",
    "Ashbya gossipii\n",
    "- `Pseudomonas plasmid pVS1` matches NCBITaxon:219557 _Plasmid pVS1_ with a string distance of 0.246. No other relevant annotations are available, so the word 'Pseudomonas' becomes noise in the string distance calculation. Perhaps a string distance metric other than cosine would help?\n",
    "\n",
    "Other inputs don't make it into the `best_acceptable` results because they consist of **a species name combined with a genus name.** **`scoped_mapping` does't have any method to specifically account for that yet.**\n",
    "\n",
    "- `Lentivirus.human-immunodeficiency-virus1` hits _Human immunodeficiency virus_, NCBITaxon:12721 with a string distance of 0.120, due to the presence of the `Lentivirus` genus name.\n",
    "\n",
    "- `Nepovirus.Tobacco-ringspot-virus` hits _Tobacco ringspot virus_, NCBITaxon:12282 with a string distance of 0.114, due to the presence of the genus name `Nepovirus`\n",
    "\n",
    "In addition to increasing the string distance cutoff, some results can be salvaged by **changing which OLS fields are queried** or by **changing which characters in the input are replaced with whitespcae.**\n",
    "\n",
    "- `herpes.simplex.virus-1`\n",
    "    - NCBITaxon:10298 _Human alphaherpesvirus 1_ has the related genbank synonym _Herpes simplex virus 1_ and can be found  by prioritizing non-label annotations with the modification `...query_fields = 'annotations,label'...`\n",
    "- `phage.lambda`\n",
    "    - NCBITaxon:10710 has the label _Escherichia virus Lambda_. _Phage lambda_ and _lambda phage_ are assigned via several different synonym and annotation predicates. This hit can also be salvaged with `...query_fields = 'annotations,label'...`\n",
    "- `SARS-CoV-2`\n",
    "    - NCBITaxon:2697049 has the label _Severe acute respiratory syndrome coronavirus 2_ and the genbank acronym _SARS-CoV-2_. `...query_fields = 'annotations,label'...` is a partila solution for salvaging this term. It also requies a modification to the characters that are replaced with whitespace. We generally suggest replacing `._-`, but the hyphens are required in this case. So use `...bad_chars = '._'...` instead.\n"
   ]
  },
  {
   "cell_type": "markdown",
   "metadata": {},
   "source": [
    "What to share? `my_best_acceptable` is of very very high **but not perfect quality**, ie there are a few false positives. For those one might want to reconsult the raw/complete `mappings`\n",
    "\n",
    "`no_acceptable_mappings` is all one would need for manual review of \"false\" negatives\n"
   ]
  },
  {
   "cell_type": "code",
   "execution_count": null,
   "metadata": {},
   "outputs": [],
   "source": [
    "failures = list(set(list(no_acceptable_mappings['raw'])))\n",
    "failures.sort()\n",
    "failures"
   ]
  },
  {
   "cell_type": "code",
   "execution_count": null,
   "metadata": {},
   "outputs": [],
   "source": [
    "salvage_mappings = scoped_mapping.search_get_annotations_wrapper(failures,\n",
    "                                                         bad_chars       = '._',\n",
    "                                                         cat_name        = 'salvage',\n",
    "                                                         ontoprefix      = my_ontoprefix,\n",
    "                                                         query_fields    = 'annotations,label',\n",
    "                                                         rr              = my_row_request,\n",
    "                                                         string_dist_arg = string_dist_shingle_size)\n",
    "\n",
    "my_salvage_acceptable = scoped_mapping.get_best_acceptable(salvage_mappings,\n",
    "                                                           max_string_dist=0.15)\n",
    "\n",
    "my_salvage_acceptable = my_salvage_acceptable.iloc[my_salvage_acceptable.raw.str.lower().argsort()]\n",
    "\n",
    "my_salvage_acceptable"
   ]
  }
 ],
 "metadata": {
  "kernelspec": {
   "display_name": "Python 3",
   "language": "python",
   "name": "python3"
  },
  "language_info": {
   "codemirror_mode": {
    "name": "ipython",
    "version": 3
   },
   "file_extension": ".py",
   "mimetype": "text/x-python",
   "name": "python",
   "nbconvert_exporter": "python",
   "pygments_lexer": "ipython3",
   "version": "3.8.2"
  }
 },
 "nbformat": 4,
 "nbformat_minor": 5
}
