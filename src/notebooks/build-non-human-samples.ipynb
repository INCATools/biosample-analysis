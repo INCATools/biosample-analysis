{
 "cells": [
  {
   "cell_type": "markdown",
   "metadata": {},
   "source": [
    "# Build non-human samples\n",
    "The notebook creates a dataset of non-human samples. It does this by:\n",
    "1. Creating a list of MIxS 5 terms from just the air, soil, sediment, plant-associated,and water packages.\n",
    "2. Reducing the columns in the harmonized table to match only these MIxS 5 terms, and removing rows in which the taxonomy_id is 9606 (Homo sapiens).\n",
    "3. Subset data (rows) to air, soil, sediment, plant-associated,and water packages.\n",
    "4. Removing the columns from #3 that only have NaNs."
   ]
  },
  {
   "cell_type": "code",
   "execution_count": 1,
   "metadata": {},
   "outputs": [],
   "source": [
    "import pandas as pds\n",
    "from pandasql import sqldf"
   ]
  },
  {
   "cell_type": "markdown",
   "metadata": {},
   "source": [
    "# 1. Creating a list of MIxS 5 terms from just the air, soil, sediment, plant-associated,and water packages."
   ]
  },
  {
   "cell_type": "markdown",
   "metadata": {},
   "source": [
    "## Load MIxS 5 spreadsheet\n",
    "- coreDf contains terms from the MIxS sheet; these terms apply to all packages\n",
    "- packageDf containts terms asscociated with each environmental package"
   ]
  },
  {
   "cell_type": "code",
   "execution_count": 2,
   "metadata": {},
   "outputs": [],
   "source": [
    "excel = pds.ExcelFile('../../mixs-spreadsheets/mixs_v5.xlsx', engine='openpyxl')"
   ]
  },
  {
   "cell_type": "code",
   "execution_count": 3,
   "metadata": {},
   "outputs": [],
   "source": [
    "coreDf = excel.parse('MIxS', usecols=['Structured comment name', 'Item', 'Value syntax'])\n",
    "packageDf = excel.parse('environmental_packages', usecols=['Environmental package', 'Structured comment name', 'Package item', 'Value syntax'])\n",
    "packageDf.rename(columns={'Package item':'Item'}, inplace=True)"
   ]
  },
  {
   "cell_type": "code",
   "execution_count": 4,
   "metadata": {},
   "outputs": [],
   "source": [
    "# peek at data\n",
    "# coreDf\n",
    "# packageDf"
   ]
  },
  {
   "cell_type": "markdown",
   "metadata": {},
   "source": [
    "### get list of packages"
   ]
  },
  {
   "cell_type": "code",
   "execution_count": 5,
   "metadata": {},
   "outputs": [
    {
     "data": {
      "text/plain": [
       "['air',\n",
       " 'built environment',\n",
       " 'host-associated',\n",
       " 'human-associated',\n",
       " 'human-gut',\n",
       " 'human-oral',\n",
       " 'human-skin',\n",
       " 'human-vaginal',\n",
       " 'hydrocarbon resources-cores',\n",
       " 'hydrocarbon resources-fluids/swabs',\n",
       " 'microbial mat/biofilm',\n",
       " 'miscellaneous natural or artificial environment',\n",
       " 'plant-associated',\n",
       " 'sediment',\n",
       " 'soil',\n",
       " 'wastewater/sludge',\n",
       " 'water',\n",
       " nan]"
      ]
     },
     "execution_count": 5,
     "metadata": {},
     "output_type": "execute_result"
    }
   ],
   "source": [
    "list(packageDf['Environmental package'].unique())"
   ]
  },
  {
   "cell_type": "markdown",
   "metadata": {},
   "source": [
    "### subset package dataframe to air, soil, sediment, plant-associated,and water packages and concatenate package specific terms with core terms"
   ]
  },
  {
   "cell_type": "code",
   "execution_count": 6,
   "metadata": {},
   "outputs": [],
   "source": [
    "q = \"\"\"\n",
    "select distinct \n",
    "    [Structured comment name], [Item], [Value syntax]\n",
    "from\n",
    "    packageDf\n",
    "where \n",
    "    [Environmental package] in ('air', 'soil', 'sediment', 'plant-associated', 'water')\n",
    "\"\"\"\n",
    "envDf = pds.concat([sqldf(q), coreDf]).drop_duplicates()"
   ]
  },
  {
   "cell_type": "code",
   "execution_count": 7,
   "metadata": {},
   "outputs": [
    {
     "data": {
      "text/plain": [
       "307"
      ]
     },
     "execution_count": 7,
     "metadata": {},
     "output_type": "execute_result"
    }
   ],
   "source": [
    "len(envDf)"
   ]
  },
  {
   "cell_type": "code",
   "execution_count": 8,
   "metadata": {},
   "outputs": [],
   "source": [
    "envTerms = list(envDf['Structured comment name'].unique())"
   ]
  },
  {
   "cell_type": "markdown",
   "metadata": {},
   "source": [
    "# 2.  Match harmonized table columns to only  air, soil, sediment, plant-associated,and water enviromental package terms."
   ]
  },
  {
   "cell_type": "markdown",
   "metadata": {},
   "source": [
    "### Load harmonized table data from parquet"
   ]
  },
  {
   "cell_type": "code",
   "execution_count": 9,
   "metadata": {},
   "outputs": [
    {
     "name": "stderr",
     "output_type": "stream",
     "text": [
      "/Users/wdduncan/opt/anaconda3/lib/python3.7/site-packages/IPython/core/interactiveshell.py:3166: DtypeWarning: Columns (0,1,2,3,4,5,6,7,8,9,10,11,12,13,14,15,17,18,19,20,21,22,23,24,25,26,27,28,29,31,32,33,34,35,36,37,38,39,40,41,42,43,44,45,46,47,48,49,50,51,52,53,54,55,56,57,59,60,61,62,63,64,65,66,67,68,69,72,73,74,75,76,77,78,79,80,81,83,84,85,86,87,88,89,90,91,92,93,94,96,97,98,99,100,101,102,103,104,105,106,107,108,109,110,111,112,113,114,115,117,118,119,120,121,122,123,124,125,126,127,128,129,130,131,132,133,134,135,136,137,138,139,140,141,142,143,144,145,146,147,148,150,151) have mixed types.Specify dtype option on import or set low_memory=False.\n",
      "  interactivity=interactivity, compiler=compiler, result=result)\n"
     ]
    }
   ],
   "source": [
    "# df = pds.read_parquet('../../target/harmonized-table.parquet.gz')\n",
    "df = pds.read_csv('../../target/non-human-samples.tsv', sep='\\t')"
   ]
  },
  {
   "cell_type": "code",
   "execution_count": 10,
   "metadata": {},
   "outputs": [
    {
     "data": {
      "text/plain": [
       "45951"
      ]
     },
     "execution_count": 10,
     "metadata": {},
     "output_type": "execute_result"
    }
   ],
   "source": [
    "len(df) # find number of samples"
   ]
  },
  {
   "cell_type": "markdown",
   "metadata": {},
   "source": [
    "### remove human taxonomy ids (taxonomy_id 9606)"
   ]
  },
  {
   "cell_type": "code",
   "execution_count": 11,
   "metadata": {},
   "outputs": [],
   "source": [
    "df = df.query(\"taxonomy_id != '9606'\")"
   ]
  },
  {
   "cell_type": "code",
   "execution_count": 12,
   "metadata": {},
   "outputs": [
    {
     "data": {
      "text/plain": [
       "45951"
      ]
     },
     "execution_count": 12,
     "metadata": {},
     "output_type": "execute_result"
    }
   ],
   "source": [
    "len(df) # find number of remaining samples"
   ]
  },
  {
   "cell_type": "markdown",
   "metadata": {},
   "source": [
    "### get a list of all columns in the dataframe"
   ]
  },
  {
   "cell_type": "code",
   "execution_count": 13,
   "metadata": {},
   "outputs": [],
   "source": [
    "allCols = list(df.columns)"
   ]
  },
  {
   "cell_type": "code",
   "execution_count": 14,
   "metadata": {},
   "outputs": [],
   "source": [
    "# allCols"
   ]
  },
  {
   "cell_type": "code",
   "execution_count": 15,
   "metadata": {},
   "outputs": [
    {
     "data": {
      "text/plain": [
       "156"
      ]
     },
     "execution_count": 15,
     "metadata": {},
     "output_type": "execute_result"
    }
   ],
   "source": [
    "len(allCols)"
   ]
  },
  {
   "cell_type": "markdown",
   "metadata": {},
   "source": [
    "### match the columns from the full datafram to the env package terms"
   ]
  },
  {
   "cell_type": "code",
   "execution_count": 16,
   "metadata": {},
   "outputs": [],
   "source": [
    "matchedCols = [c for c in allCols if c in envTerms]"
   ]
  },
  {
   "cell_type": "code",
   "execution_count": 17,
   "metadata": {},
   "outputs": [
    {
     "data": {
      "text/plain": [
       "152"
      ]
     },
     "execution_count": 17,
     "metadata": {},
     "output_type": "execute_result"
    }
   ],
   "source": [
    "len(matchedCols) # 205 matches"
   ]
  },
  {
   "cell_type": "markdown",
   "metadata": {},
   "source": [
    "### add some extra columns and create slice of data with matching MIxS columns"
   ]
  },
  {
   "cell_type": "code",
   "execution_count": 18,
   "metadata": {},
   "outputs": [],
   "source": [
    "matchedCols.append('id')\n",
    "matchedCols.append('taxonomy_id')\n",
    "matchedCols.append('taxonomy_name')\n",
    "matchedCols.append('package')"
   ]
  },
  {
   "cell_type": "code",
   "execution_count": 19,
   "metadata": {},
   "outputs": [],
   "source": [
    "sliceDf = df[matchedCols]"
   ]
  },
  {
   "cell_type": "markdown",
   "metadata": {},
   "source": [
    "# 3. Subset data to row where the env_package contains air, soil, sediment, plant-associated, and water."
   ]
  },
  {
   "cell_type": "code",
   "execution_count": 20,
   "metadata": {},
   "outputs": [],
   "source": [
    "env_packageCount = pds.DataFrame(sliceDf.groupby('env_package').env_package.count())\\\n",
    "                      .rename(columns={'env_package':'count'})\\\n",
    "                      .reset_index()\n",
    "# env_packageCount"
   ]
  },
  {
   "cell_type": "code",
   "execution_count": 21,
   "metadata": {},
   "outputs": [],
   "source": [
    "pds.set_option('max_rows', None)\n",
    "env_packages = \\\n",
    "    [x for x in env_packageCount.env_package.unique()\n",
    "       if ('air' in x.lower()) \n",
    "          or ('soil' in x.lower()) \n",
    "          or ('sediment' in x.lower()) \n",
    "          or ('water' in x.lower()) \n",
    "          or ('plant' in x.lower())]"
   ]
  },
  {
   "cell_type": "code",
   "execution_count": 22,
   "metadata": {},
   "outputs": [
    {
     "data": {
      "text/plain": [
       "['Coastal water body (ENVO:02000049)',\n",
       " 'Deep-sea water',\n",
       " 'MIGS.plant-associated',\n",
       " 'MIGS/MIMS/MIMARKS.air',\n",
       " 'MIGS/MIMS/MIMARKS.plant-associated',\n",
       " 'MIGS/MIMS/MIMARKS.sediment',\n",
       " 'MIGS/MIMS/MIMARKS.soil',\n",
       " 'MIGS/MIMS/MIMARKS.wastewater',\n",
       " 'MIGS/MIMS/MIMARKS.water',\n",
       " 'MIMARKS_water',\n",
       " 'Sea water',\n",
       " 'Sediment',\n",
       " 'Soil',\n",
       " 'Water',\n",
       " 'air',\n",
       " 'fresh water',\n",
       " 'freshwater sediment',\n",
       " 'marine sediment (ENVO:00002113)',\n",
       " 'plant',\n",
       " 'plant-associated',\n",
       " 'sea water',\n",
       " 'sea water, [ENVO:00002149]',\n",
       " 'seawater',\n",
       " 'sediment',\n",
       " 'soil',\n",
       " 'soil-associated',\n",
       " 'sterile water',\n",
       " 'wastewater',\n",
       " 'wastewater sludge',\n",
       " 'wastewater/sludge',\n",
       " 'wastewater|sludge',\n",
       " 'water']"
      ]
     },
     "execution_count": 22,
     "metadata": {},
     "output_type": "execute_result"
    }
   ],
   "source": [
    "env_packages"
   ]
  },
  {
   "cell_type": "markdown",
   "metadata": {},
   "source": [
    "### subset data"
   ]
  },
  {
   "cell_type": "code",
   "execution_count": 23,
   "metadata": {},
   "outputs": [],
   "source": [
    "sliceDf = sliceDf[sliceDf.env_package.isin(env_packages)]"
   ]
  },
  {
   "cell_type": "code",
   "execution_count": 24,
   "metadata": {},
   "outputs": [
    {
     "data": {
      "text/plain": [
       "45951"
      ]
     },
     "execution_count": 24,
     "metadata": {},
     "output_type": "execute_result"
    }
   ],
   "source": [
    "len(sliceDf) # number of remaining samples"
   ]
  },
  {
   "cell_type": "markdown",
   "metadata": {},
   "source": [
    "# 4. Remove the columns that only have NaNs."
   ]
  },
  {
   "cell_type": "markdown",
   "metadata": {},
   "source": [
    "### get counts of each non-human package"
   ]
  },
  {
   "cell_type": "code",
   "execution_count": 25,
   "metadata": {},
   "outputs": [
    {
     "data": {
      "text/html": [
       "<div>\n",
       "<style scoped>\n",
       "    .dataframe tbody tr th:only-of-type {\n",
       "        vertical-align: middle;\n",
       "    }\n",
       "\n",
       "    .dataframe tbody tr th {\n",
       "        vertical-align: top;\n",
       "    }\n",
       "\n",
       "    .dataframe thead th {\n",
       "        text-align: right;\n",
       "    }\n",
       "</style>\n",
       "<table border=\"1\" class=\"dataframe\">\n",
       "  <thead>\n",
       "    <tr style=\"text-align: right;\">\n",
       "      <th></th>\n",
       "      <th>env_package</th>\n",
       "      <th>count</th>\n",
       "    </tr>\n",
       "  </thead>\n",
       "  <tbody>\n",
       "    <tr>\n",
       "      <th>31</th>\n",
       "      <td>water</td>\n",
       "      <td>16367</td>\n",
       "    </tr>\n",
       "    <tr>\n",
       "      <th>24</th>\n",
       "      <td>soil</td>\n",
       "      <td>11974</td>\n",
       "    </tr>\n",
       "    <tr>\n",
       "      <th>23</th>\n",
       "      <td>sediment</td>\n",
       "      <td>5969</td>\n",
       "    </tr>\n",
       "    <tr>\n",
       "      <th>6</th>\n",
       "      <td>MIGS/MIMS/MIMARKS.soil</td>\n",
       "      <td>3784</td>\n",
       "    </tr>\n",
       "    <tr>\n",
       "      <th>19</th>\n",
       "      <td>plant-associated</td>\n",
       "      <td>2076</td>\n",
       "    </tr>\n",
       "    <tr>\n",
       "      <th>8</th>\n",
       "      <td>MIGS/MIMS/MIMARKS.water</td>\n",
       "      <td>1763</td>\n",
       "    </tr>\n",
       "    <tr>\n",
       "      <th>5</th>\n",
       "      <td>MIGS/MIMS/MIMARKS.sediment</td>\n",
       "      <td>1177</td>\n",
       "    </tr>\n",
       "    <tr>\n",
       "      <th>4</th>\n",
       "      <td>MIGS/MIMS/MIMARKS.plant-associated</td>\n",
       "      <td>1063</td>\n",
       "    </tr>\n",
       "    <tr>\n",
       "      <th>30</th>\n",
       "      <td>wastewater|sludge</td>\n",
       "      <td>417</td>\n",
       "    </tr>\n",
       "    <tr>\n",
       "      <th>7</th>\n",
       "      <td>MIGS/MIMS/MIMARKS.wastewater</td>\n",
       "      <td>385</td>\n",
       "    </tr>\n",
       "    <tr>\n",
       "      <th>29</th>\n",
       "      <td>wastewater/sludge</td>\n",
       "      <td>357</td>\n",
       "    </tr>\n",
       "    <tr>\n",
       "      <th>3</th>\n",
       "      <td>MIGS/MIMS/MIMARKS.air</td>\n",
       "      <td>205</td>\n",
       "    </tr>\n",
       "    <tr>\n",
       "      <th>14</th>\n",
       "      <td>air</td>\n",
       "      <td>152</td>\n",
       "    </tr>\n",
       "    <tr>\n",
       "      <th>28</th>\n",
       "      <td>wastewater sludge</td>\n",
       "      <td>90</td>\n",
       "    </tr>\n",
       "    <tr>\n",
       "      <th>25</th>\n",
       "      <td>soil-associated</td>\n",
       "      <td>36</td>\n",
       "    </tr>\n",
       "    <tr>\n",
       "      <th>26</th>\n",
       "      <td>sterile water</td>\n",
       "      <td>35</td>\n",
       "    </tr>\n",
       "    <tr>\n",
       "      <th>15</th>\n",
       "      <td>fresh water</td>\n",
       "      <td>27</td>\n",
       "    </tr>\n",
       "    <tr>\n",
       "      <th>12</th>\n",
       "      <td>Soil</td>\n",
       "      <td>19</td>\n",
       "    </tr>\n",
       "    <tr>\n",
       "      <th>27</th>\n",
       "      <td>wastewater</td>\n",
       "      <td>14</td>\n",
       "    </tr>\n",
       "    <tr>\n",
       "      <th>22</th>\n",
       "      <td>seawater</td>\n",
       "      <td>9</td>\n",
       "    </tr>\n",
       "    <tr>\n",
       "      <th>16</th>\n",
       "      <td>freshwater sediment</td>\n",
       "      <td>9</td>\n",
       "    </tr>\n",
       "    <tr>\n",
       "      <th>9</th>\n",
       "      <td>MIMARKS_water</td>\n",
       "      <td>6</td>\n",
       "    </tr>\n",
       "    <tr>\n",
       "      <th>18</th>\n",
       "      <td>plant</td>\n",
       "      <td>3</td>\n",
       "    </tr>\n",
       "    <tr>\n",
       "      <th>13</th>\n",
       "      <td>Water</td>\n",
       "      <td>3</td>\n",
       "    </tr>\n",
       "    <tr>\n",
       "      <th>2</th>\n",
       "      <td>MIGS.plant-associated</td>\n",
       "      <td>3</td>\n",
       "    </tr>\n",
       "    <tr>\n",
       "      <th>20</th>\n",
       "      <td>sea water</td>\n",
       "      <td>2</td>\n",
       "    </tr>\n",
       "    <tr>\n",
       "      <th>21</th>\n",
       "      <td>sea water, [ENVO:00002149]</td>\n",
       "      <td>1</td>\n",
       "    </tr>\n",
       "    <tr>\n",
       "      <th>17</th>\n",
       "      <td>marine sediment (ENVO:00002113)</td>\n",
       "      <td>1</td>\n",
       "    </tr>\n",
       "    <tr>\n",
       "      <th>1</th>\n",
       "      <td>Deep-sea water</td>\n",
       "      <td>1</td>\n",
       "    </tr>\n",
       "    <tr>\n",
       "      <th>11</th>\n",
       "      <td>Sediment</td>\n",
       "      <td>1</td>\n",
       "    </tr>\n",
       "    <tr>\n",
       "      <th>10</th>\n",
       "      <td>Sea water</td>\n",
       "      <td>1</td>\n",
       "    </tr>\n",
       "    <tr>\n",
       "      <th>0</th>\n",
       "      <td>Coastal water body (ENVO:02000049)</td>\n",
       "      <td>1</td>\n",
       "    </tr>\n",
       "  </tbody>\n",
       "</table>\n",
       "</div>"
      ],
      "text/plain": [
       "                           env_package  count\n",
       "31                               water  16367\n",
       "24                                soil  11974\n",
       "23                            sediment   5969\n",
       "6               MIGS/MIMS/MIMARKS.soil   3784\n",
       "19                    plant-associated   2076\n",
       "8              MIGS/MIMS/MIMARKS.water   1763\n",
       "5           MIGS/MIMS/MIMARKS.sediment   1177\n",
       "4   MIGS/MIMS/MIMARKS.plant-associated   1063\n",
       "30                   wastewater|sludge    417\n",
       "7         MIGS/MIMS/MIMARKS.wastewater    385\n",
       "29                   wastewater/sludge    357\n",
       "3                MIGS/MIMS/MIMARKS.air    205\n",
       "14                                 air    152\n",
       "28                   wastewater sludge     90\n",
       "25                     soil-associated     36\n",
       "26                       sterile water     35\n",
       "15                         fresh water     27\n",
       "12                                Soil     19\n",
       "27                          wastewater     14\n",
       "22                            seawater      9\n",
       "16                 freshwater sediment      9\n",
       "9                        MIMARKS_water      6\n",
       "18                               plant      3\n",
       "13                               Water      3\n",
       "2                MIGS.plant-associated      3\n",
       "20                           sea water      2\n",
       "21          sea water, [ENVO:00002149]      1\n",
       "17     marine sediment (ENVO:00002113)      1\n",
       "1                       Deep-sea water      1\n",
       "11                            Sediment      1\n",
       "10                           Sea water      1\n",
       "0   Coastal water body (ENVO:02000049)      1"
      ]
     },
     "execution_count": 25,
     "metadata": {},
     "output_type": "execute_result"
    }
   ],
   "source": [
    "env_packageCount = pds.DataFrame(sliceDf.groupby('env_package').env_package.count())\\\n",
    "                                .rename(columns={'env_package':'count'})\\\n",
    "                                .reset_index()\n",
    "env_packageCount.sort_values(by='count', ascending=False)"
   ]
  },
  {
   "cell_type": "markdown",
   "metadata": {},
   "source": [
    "### get decscribe information about slice"
   ]
  },
  {
   "cell_type": "code",
   "execution_count": 26,
   "metadata": {},
   "outputs": [],
   "source": [
    "describeDf = sliceDf.describe()"
   ]
  },
  {
   "cell_type": "code",
   "execution_count": 27,
   "metadata": {},
   "outputs": [
    {
     "data": {
      "text/html": [
       "<div>\n",
       "<style scoped>\n",
       "    .dataframe tbody tr th:only-of-type {\n",
       "        vertical-align: middle;\n",
       "    }\n",
       "\n",
       "    .dataframe tbody tr th {\n",
       "        vertical-align: top;\n",
       "    }\n",
       "\n",
       "    .dataframe thead th {\n",
       "        text-align: right;\n",
       "    }\n",
       "</style>\n",
       "<table border=\"1\" class=\"dataframe\">\n",
       "  <thead>\n",
       "    <tr style=\"text-align: right;\">\n",
       "      <th></th>\n",
       "      <th>tot_part_carb</th>\n",
       "      <th>taxonomy_id</th>\n",
       "    </tr>\n",
       "  </thead>\n",
       "  <tbody>\n",
       "    <tr>\n",
       "      <th>count</th>\n",
       "      <td>22.00000</td>\n",
       "      <td>4.595100e+04</td>\n",
       "    </tr>\n",
       "    <tr>\n",
       "      <th>mean</th>\n",
       "      <td>199.07044</td>\n",
       "      <td>6.110018e+05</td>\n",
       "    </tr>\n",
       "    <tr>\n",
       "      <th>std</th>\n",
       "      <td>200.39601</td>\n",
       "      <td>3.902529e+05</td>\n",
       "    </tr>\n",
       "    <tr>\n",
       "      <th>min</th>\n",
       "      <td>5.06000</td>\n",
       "      <td>2.000000e+00</td>\n",
       "    </tr>\n",
       "    <tr>\n",
       "      <th>25%</th>\n",
       "      <td>9.84750</td>\n",
       "      <td>4.106580e+05</td>\n",
       "    </tr>\n",
       "    <tr>\n",
       "      <th>50%</th>\n",
       "      <td>74.97800</td>\n",
       "      <td>4.127550e+05</td>\n",
       "    </tr>\n",
       "    <tr>\n",
       "      <th>75%</th>\n",
       "      <td>364.91300</td>\n",
       "      <td>9.399280e+05</td>\n",
       "    </tr>\n",
       "    <tr>\n",
       "      <th>max</th>\n",
       "      <td>545.26000</td>\n",
       "      <td>2.742685e+06</td>\n",
       "    </tr>\n",
       "  </tbody>\n",
       "</table>\n",
       "</div>"
      ],
      "text/plain": [
       "       tot_part_carb   taxonomy_id\n",
       "count       22.00000  4.595100e+04\n",
       "mean       199.07044  6.110018e+05\n",
       "std        200.39601  3.902529e+05\n",
       "min          5.06000  2.000000e+00\n",
       "25%          9.84750  4.106580e+05\n",
       "50%         74.97800  4.127550e+05\n",
       "75%        364.91300  9.399280e+05\n",
       "max        545.26000  2.742685e+06"
      ]
     },
     "execution_count": 27,
     "metadata": {},
     "output_type": "execute_result"
    }
   ],
   "source": [
    "pds.set_option('max_columns', None)\n",
    "describeDf"
   ]
  },
  {
   "cell_type": "markdown",
   "metadata": {},
   "source": [
    "### get list columns with count of zero from describe"
   ]
  },
  {
   "cell_type": "code",
   "execution_count": 28,
   "metadata": {},
   "outputs": [],
   "source": [
    "valueCount = describeDf.loc['count'] # get count row / index\n",
    "zeroCount = valueCount[valueCount == 0] # subset to those with counts of 0"
   ]
  },
  {
   "cell_type": "code",
   "execution_count": 29,
   "metadata": {},
   "outputs": [],
   "source": [
    "zeroCountCols = zeroCount.index # find the columns with zero counts"
   ]
  },
  {
   "cell_type": "markdown",
   "metadata": {},
   "source": [
    "### drop columns with zero counts from slice"
   ]
  },
  {
   "cell_type": "code",
   "execution_count": 30,
   "metadata": {},
   "outputs": [
    {
     "data": {
      "text/plain": [
       "(45951, 156)"
      ]
     },
     "execution_count": 30,
     "metadata": {},
     "output_type": "execute_result"
    }
   ],
   "source": [
    "sliceDf.shape"
   ]
  },
  {
   "cell_type": "code",
   "execution_count": 31,
   "metadata": {},
   "outputs": [],
   "source": [
    "sliceDf.drop(zeroCountCols, axis=1, inplace=True)"
   ]
  },
  {
   "cell_type": "code",
   "execution_count": 32,
   "metadata": {},
   "outputs": [
    {
     "data": {
      "text/plain": [
       "(45951, 156)"
      ]
     },
     "execution_count": 32,
     "metadata": {},
     "output_type": "execute_result"
    }
   ],
   "source": [
    "sliceDf.shape"
   ]
  },
  {
   "cell_type": "markdown",
   "metadata": {},
   "source": [
    "### save dataset"
   ]
  },
  {
   "cell_type": "code",
   "execution_count": 33,
   "metadata": {},
   "outputs": [],
   "source": [
    "# sliceDf.to_csv('../../target/non-human-samples.tsv.gz', sep='\\t', compression='gzip', index=False)"
   ]
  },
  {
   "cell_type": "code",
   "execution_count": 34,
   "metadata": {},
   "outputs": [],
   "source": [
    "sliceDf.to_csv('non-human-samples.tsv', sep='\\t', index=False)"
   ]
  }
 ],
 "metadata": {
  "kernelspec": {
   "display_name": "Python 3",
   "language": "python",
   "name": "python3"
  },
  "language_info": {
   "codemirror_mode": {
    "name": "ipython",
    "version": 3
   },
   "file_extension": ".py",
   "mimetype": "text/x-python",
   "name": "python",
   "nbconvert_exporter": "python",
   "pygments_lexer": "ipython3",
   "version": "3.7.10"
  }
 },
 "nbformat": 4,
 "nbformat_minor": 4
}
