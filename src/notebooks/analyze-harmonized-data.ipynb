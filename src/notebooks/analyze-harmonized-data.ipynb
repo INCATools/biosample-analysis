{
 "cells": [
  {
   "cell_type": "code",
   "execution_count": 70,
   "metadata": {},
   "outputs": [],
   "source": [
    "import os, sys\n",
    "import pandas as pds\n",
    "from dask import dataframe as dd\n",
    "import numpy as np\n",
    "import seaborn as sns\n",
    "import matplotlib.pyplot as plt"
   ]
  },
  {
   "cell_type": "markdown",
   "metadata": {},
   "source": [
    "## load harmonized entity-attribute-value file\n",
    "* first load into pandas\n",
    "* second load into dask for better performance"
   ]
  },
  {
   "cell_type": "code",
   "execution_count": 2,
   "metadata": {},
   "outputs": [],
   "source": [
    "df = pds.read_csv('../../target/harmonized-values-eav.tsv.zip', sep='\\t')"
   ]
  },
  {
   "cell_type": "code",
   "execution_count": 3,
   "metadata": {},
   "outputs": [],
   "source": [
    "ddf = dd.from_pandas(df, npartitions=8)"
   ]
  },
  {
   "cell_type": "code",
   "execution_count": 4,
   "metadata": {},
   "outputs": [],
   "source": [
    "ddf = ddf.reset_index()"
   ]
  },
  {
   "cell_type": "code",
   "execution_count": 5,
   "metadata": {},
   "outputs": [
    {
     "data": {
      "text/html": [
       "<div>\n",
       "<style scoped>\n",
       "    .dataframe tbody tr th:only-of-type {\n",
       "        vertical-align: middle;\n",
       "    }\n",
       "\n",
       "    .dataframe tbody tr th {\n",
       "        vertical-align: top;\n",
       "    }\n",
       "\n",
       "    .dataframe thead th {\n",
       "        text-align: right;\n",
       "    }\n",
       "</style>\n",
       "<table border=\"1\" class=\"dataframe\">\n",
       "  <thead>\n",
       "    <tr style=\"text-align: right;\">\n",
       "      <th></th>\n",
       "      <th>index</th>\n",
       "      <th>biosample</th>\n",
       "      <th>attribute</th>\n",
       "      <th>value</th>\n",
       "    </tr>\n",
       "  </thead>\n",
       "  <tbody>\n",
       "    <tr>\n",
       "      <th>0</th>\n",
       "      <td>0</td>\n",
       "      <td>SAMN00000002</td>\n",
       "      <td>collection_date</td>\n",
       "      <td>not determined</td>\n",
       "    </tr>\n",
       "    <tr>\n",
       "      <th>1</th>\n",
       "      <td>1</td>\n",
       "      <td>SAMN00000002</td>\n",
       "      <td>estimated_size</td>\n",
       "      <td>2550000</td>\n",
       "    </tr>\n",
       "    <tr>\n",
       "      <th>2</th>\n",
       "      <td>2</td>\n",
       "      <td>SAMN00000002</td>\n",
       "      <td>host</td>\n",
       "      <td>Homo sapiens</td>\n",
       "    </tr>\n",
       "    <tr>\n",
       "      <th>3</th>\n",
       "      <td>3</td>\n",
       "      <td>SAMN00000002</td>\n",
       "      <td>lat_lon</td>\n",
       "      <td>not determined</td>\n",
       "    </tr>\n",
       "    <tr>\n",
       "      <th>4</th>\n",
       "      <td>4</td>\n",
       "      <td>SAMN00000002</td>\n",
       "      <td>env_broad_scale</td>\n",
       "      <td>terrestrial biome [ENVO:00000446]</td>\n",
       "    </tr>\n",
       "  </tbody>\n",
       "</table>\n",
       "</div>"
      ],
      "text/plain": [
       "   index     biosample        attribute                              value\n",
       "0      0  SAMN00000002  collection_date                     not determined\n",
       "1      1  SAMN00000002   estimated_size                            2550000\n",
       "2      2  SAMN00000002             host                       Homo sapiens\n",
       "3      3  SAMN00000002          lat_lon                     not determined\n",
       "4      4  SAMN00000002  env_broad_scale  terrestrial biome [ENVO:00000446]"
      ]
     },
     "execution_count": 5,
     "metadata": {},
     "output_type": "execute_result"
    }
   ],
   "source": [
    "ddf.head()"
   ]
  },
  {
   "cell_type": "code",
   "execution_count": 6,
   "metadata": {},
   "outputs": [
    {
     "data": {
      "text/plain": [
       "Index(['index', 'biosample', 'attribute', 'value'], dtype='object')"
      ]
     },
     "execution_count": 6,
     "metadata": {},
     "output_type": "execute_result"
    }
   ],
   "source": [
    "ddf.columns"
   ]
  },
  {
   "cell_type": "code",
   "execution_count": 18,
   "metadata": {},
   "outputs": [
    {
     "name": "stdout",
     "output_type": "stream",
     "text": [
      "<class 'dask.dataframe.core.DataFrame'>\n",
      "Columns: 4 entries, index to value\n",
      "dtypes: object(3), int64(1)"
     ]
    }
   ],
   "source": [
    "ddf.info()"
   ]
  },
  {
   "cell_type": "markdown",
   "metadata": {},
   "source": [
    "### compute the number of biosamples"
   ]
  },
  {
   "cell_type": "code",
   "execution_count": 167,
   "metadata": {},
   "outputs": [],
   "source": [
    "biosamples = []\n",
    "for b in ddf['biosample'].unique().compute():\n",
    "    biosamples.append(b)"
   ]
  },
  {
   "cell_type": "code",
   "execution_count": 168,
   "metadata": {},
   "outputs": [
    {
     "data": {
      "text/plain": [
       "13791009"
      ]
     },
     "execution_count": 168,
     "metadata": {},
     "output_type": "execute_result"
    }
   ],
   "source": [
    "len(biosamples)"
   ]
  },
  {
   "cell_type": "markdown",
   "metadata": {},
   "source": [
    "### compute number of times an attribute occurres"
   ]
  },
  {
   "cell_type": "code",
   "execution_count": 48,
   "metadata": {},
   "outputs": [],
   "source": [
    "attributes = {}\n",
    "for a in ddf['attribute'].unique().compute():\n",
    "    attributes[a] = 0"
   ]
  },
  {
   "cell_type": "code",
   "execution_count": 49,
   "metadata": {},
   "outputs": [
    {
     "data": {
      "text/plain": [
       "0"
      ]
     },
     "execution_count": 49,
     "metadata": {},
     "output_type": "execute_result"
    }
   ],
   "source": [
    "attributes['env_broad_scale']"
   ]
  },
  {
   "cell_type": "code",
   "execution_count": 50,
   "metadata": {},
   "outputs": [],
   "source": [
    "for a in ddf['attribute']:\n",
    "    attributes[a] = (attributes[a] + 1)"
   ]
  },
  {
   "cell_type": "code",
   "execution_count": 51,
   "metadata": {},
   "outputs": [
    {
     "data": {
      "text/plain": [
       "1537375"
      ]
     },
     "execution_count": 51,
     "metadata": {},
     "output_type": "execute_result"
    }
   ],
   "source": [
    "attributes['env_broad_scale'] # test of one record"
   ]
  },
  {
   "cell_type": "code",
   "execution_count": 63,
   "metadata": {},
   "outputs": [],
   "source": [
    "attrCountDf = pds.DataFrame(data={'attribute': list(attributes.keys()), 'count': list(attributes.values())})"
   ]
  },
  {
   "cell_type": "code",
   "execution_count": 67,
   "metadata": {},
   "outputs": [
    {
     "data": {
      "text/html": [
       "<div>\n",
       "<style scoped>\n",
       "    .dataframe tbody tr th:only-of-type {\n",
       "        vertical-align: middle;\n",
       "    }\n",
       "\n",
       "    .dataframe tbody tr th {\n",
       "        vertical-align: top;\n",
       "    }\n",
       "\n",
       "    .dataframe thead th {\n",
       "        text-align: right;\n",
       "    }\n",
       "</style>\n",
       "<table border=\"1\" class=\"dataframe\">\n",
       "  <thead>\n",
       "    <tr style=\"text-align: right;\">\n",
       "      <th></th>\n",
       "      <th>attribute</th>\n",
       "      <th>count</th>\n",
       "    </tr>\n",
       "  </thead>\n",
       "  <tbody>\n",
       "    <tr>\n",
       "      <th>4</th>\n",
       "      <td>env_broad_scale</td>\n",
       "      <td>1537375</td>\n",
       "    </tr>\n",
       "  </tbody>\n",
       "</table>\n",
       "</div>"
      ],
      "text/plain": [
       "         attribute    count\n",
       "4  env_broad_scale  1537375"
      ]
     },
     "execution_count": 67,
     "metadata": {},
     "output_type": "execute_result"
    }
   ],
   "source": [
    "attrCountDf.query(\"attribute == 'env_broad_scale'\") # test of one record"
   ]
  },
  {
   "cell_type": "code",
   "execution_count": 74,
   "metadata": {},
   "outputs": [
    {
     "data": {
      "text/plain": [
       "447"
      ]
     },
     "execution_count": 74,
     "metadata": {},
     "output_type": "execute_result"
    }
   ],
   "source": [
    "len(attrCountDf)"
   ]
  },
  {
   "cell_type": "code",
   "execution_count": 104,
   "metadata": {},
   "outputs": [
    {
     "data": {
      "image/png": "[encoded data removed]",
      "text/plain": [
       "<Figure size 1008x864 with 1 Axes>"
      ]
     },
     "metadata": {},
     "output_type": "display_data"
    }
   ],
   "source": [
    "%matplotlib inline\n",
    "sns.set()\n",
    "\n",
    "colors=['blue']\n",
    "sns.set_palette('GnBu_d')\n",
    "\n",
    "plt.figure(figsize=(14,12))\n",
    "\n",
    "ax = sns.barplot(x='attribute', y='count', data=attrCountDf)\n",
    "xticks = [''] * 447\n",
    "ax.set_xticklabels(xticks, size=1)\n",
    "plt.show()"
   ]
  },
  {
   "cell_type": "code",
   "execution_count": 92,
   "metadata": {},
   "outputs": [],
   "source": [
    "top50Df = attrCountDf.sort_values(by='count', ascending=False).head(50)"
   ]
  },
  {
   "cell_type": "code",
   "execution_count": 103,
   "metadata": {},
   "outputs": [
    {
     "data": {
      "image/png": "[encoded data removed]",
      "text/plain": [
       "<Figure size 1008x864 with 1 Axes>"
      ]
     },
     "metadata": {},
     "output_type": "display_data"
    }
   ],
   "source": [
    "%matplotlib inline\n",
    "sns.set()\n",
    "\n",
    "plt.figure(figsize=(14,12))\n",
    "\n",
    "ax = sns.barplot(y='attribute', x='count', data=top50Df) # note plot is on its side\n",
    "xticks = [''] * 447\n",
    "# ax.set_xticklabels(xticks, size=1)\n",
    "plt.show()"
   ]
  },
  {
   "cell_type": "markdown",
   "metadata": {},
   "source": [
    "## implement SAX parser\n",
    "see https://www.tutorialspoint.com/python3/python_xml_processing.htm for an example\n",
    "took around 40 minutes to run on my machine"
   ]
  },
  {
   "cell_type": "code",
   "execution_count": 110,
   "metadata": {},
   "outputs": [],
   "source": [
    "import xml\n",
    "from xml.sax import ContentHandler"
   ]
  },
  {
   "cell_type": "code",
   "execution_count": 153,
   "metadata": {},
   "outputs": [],
   "source": [
    "class BiosampleHandler( ContentHandler ):\n",
    "    def __init__(self):\n",
    "        self.dataDict = {}\n",
    "        self.CurrentData = \"\"\n",
    "        self.attribute = \"\"\n",
    "        self.biosample = \"\"\n",
    "        self.harmonized_name = \"\"\n",
    "        self.harmonized_value = \"\"\n",
    "        \n",
    "    def startElement(self, tag, attributes):\n",
    "        self.CurrentData = tag\n",
    "        if tag == \"BioSample\":\n",
    "            if 'BioSample' in self.dataDict.keys():\n",
    "                self.dataDict['BioSample'] = (self.dataDict['BioSample'] + 1)\n",
    "            else:\n",
    "                self.dataDict['BioSample'] = 1\n",
    "#             print('***** BioSample *****')\n",
    "            \n",
    "        if tag == \"Attribute\" and ('harmonized_name' in attributes):\n",
    "            self.harmonized_name = attributes['harmonized_name']\n",
    "            if self.harmonized_name in self.dataDict.keys():\n",
    "                self.dataDict[self.harmonized_name] = (self.dataDict[self.harmonized_name] + 1)\n",
    "            else:\n",
    "                self.dataDict[self.harmonized_name] = 1\n",
    "\n",
    "\n",
    "    def endElement(self, tag):\n",
    "        if self.CurrentData == \"Attribute\" and len(self.harmonized_name) > 0:\n",
    "#             print (f\"{self.harmonized_name}: {self.harmonized_value}\")\n",
    "            self.harmonized_name = \"\"\n",
    "    \n",
    "    def characters(self, content):\n",
    "        if self.CurrentData == \"Attribute\" and len(self.harmonized_name) > 0:\n",
    "            self.harmonized_value = content\n",
    "    "
   ]
  },
  {
   "cell_type": "code",
   "execution_count": 162,
   "metadata": {},
   "outputs": [],
   "source": [
    "# create an XMLReader\n",
    "parser = xml.sax.make_parser()\n",
    "    \n",
    "# turn off namepsaces\n",
    "parser.setFeature(xml.sax.handler.feature_namespaces, 0)\n",
    "\n",
    "# override the default ContextHandler\n",
    "handler = BiosampleHandler()\n",
    "parser.setContentHandler( handler )"
   ]
  },
  {
   "cell_type": "code",
   "execution_count": 163,
   "metadata": {},
   "outputs": [],
   "source": [
    "# parser.parse(\"../../downloads/test-biosample.xml\") # test-biosample.xml contains first 637 lines from biosample_set.xml\n",
    "parser.parse(\"../../downloads/biosample_set.xml\")"
   ]
  },
  {
   "cell_type": "markdown",
   "metadata": {},
   "source": [
    "### count number of biosample tag occurrences\n",
    "#### datafame analysis found 13791009; why the difference? \n",
    "#### I \"think\" it is b/c some xml biosample records don't have any harmonized attributes, and the xml parse still counts this. Here is an example:\n",
    "```xml\n",
    "<BioSample submission_date=\"2008-04-04T08:44:29.030\" last_update=\"2014-03-17T12:37:44.407\" publication_date=\"2008-04-04T08:44:29.250\" access=\"public\" id=\"13\" accession=\"SAMN00000013\">\n",
    "  <Ids>\n",
    "    <Id db=\"BioSample\" is_primary=\"1\">SAMN00000013</Id>\n",
    "    <Id db=\"WUGSC\" db_label=\"Sample name\">Physarum polycephalum</Id>\n",
    "    <Id db=\"SRA\">SRS000013</Id>\n",
    "  </Ids>\n",
    "  <Description>\n",
    "    <Title>Generic sample from Physarum polycephalum</Title>\n",
    "    <Organism taxonomy_id=\"5791\" taxonomy_name=\"Physarum polycephalum\"/>\n",
    "    <Comment>\n",
    "      <Paragraph>DNA is in house and was prepared from haploid amoebe provided by the laboratory of Gerard Pierrion.</Paragraph>\n",
    "    </Comment>\n",
    "  </Description>\n",
    "  <Owner>\n",
    "    <Name abbreviation=\"WUGSC\">Washington University, Genome Sequencing Center</Name>\n",
    "    <Contacts>\n",
    "      <Contact email=\"lims@genome.wustl.edu\"/>\n",
    "    </Contacts>\n",
    "  </Owner>\n",
    "  <Models>\n",
    "    <Model>Generic</Model>\n",
    "  </Models>\n",
    "  <Package display_name=\"Generic\">Generic.1.0</Package>\n",
    "  <Attributes/>\n",
    "  <Links>\n",
    "    <Link type=\"entrez\" target=\"bioproject\" label=\"PRJNA12851\">12851</Link>\n",
    "  </Links>\n",
    "  <Status status=\"live\" when=\"2014-03-17T12:37:44\"/>\n",
    "</BioSample>\n",
    "```"
   ]
  },
  {
   "cell_type": "markdown",
   "metadata": {},
   "source": [
    "### when I query the dataframe representation, biosample SAMN00000013 is not found"
   ]
  },
  {
   "cell_type": "code",
   "execution_count": 171,
   "metadata": {},
   "outputs": [
    {
     "data": {
      "text/html": [
       "<div>\n",
       "<style scoped>\n",
       "    .dataframe tbody tr th:only-of-type {\n",
       "        vertical-align: middle;\n",
       "    }\n",
       "\n",
       "    .dataframe tbody tr th {\n",
       "        vertical-align: top;\n",
       "    }\n",
       "\n",
       "    .dataframe thead th {\n",
       "        text-align: right;\n",
       "    }\n",
       "</style>\n",
       "<table border=\"1\" class=\"dataframe\">\n",
       "  <thead>\n",
       "    <tr style=\"text-align: right;\">\n",
       "      <th></th>\n",
       "      <th>biosample</th>\n",
       "      <th>attribute</th>\n",
       "      <th>value</th>\n",
       "    </tr>\n",
       "  </thead>\n",
       "  <tbody>\n",
       "  </tbody>\n",
       "</table>\n",
       "</div>"
      ],
      "text/plain": [
       "Empty DataFrame\n",
       "Columns: [biosample, attribute, value]\n",
       "Index: []"
      ]
     },
     "execution_count": 171,
     "metadata": {},
     "output_type": "execute_result"
    }
   ],
   "source": [
    "df.query(\"biosample == 'SAMN00000013'\")"
   ]
  },
  {
   "cell_type": "code",
   "execution_count": 164,
   "metadata": {},
   "outputs": [
    {
     "data": {
      "text/plain": [
       "14300583"
      ]
     },
     "execution_count": 164,
     "metadata": {},
     "output_type": "execute_result"
    }
   ],
   "source": [
    "handler.dataDict['BioSample']"
   ]
  },
  {
   "cell_type": "markdown",
   "metadata": {},
   "source": [
    "### count number of env_broad_scale attribute occurrences\n",
    "#### dataframe anayis above found 1537375; why the difference?"
   ]
  },
  {
   "cell_type": "code",
   "execution_count": 166,
   "metadata": {},
   "outputs": [
    {
     "data": {
      "text/plain": [
       "1569754"
      ]
     },
     "execution_count": 166,
     "metadata": {},
     "output_type": "execute_result"
    }
   ],
   "source": [
    "handler.dataDict['env_broad_scale'] "
   ]
  },
  {
   "cell_type": "code",
   "execution_count": 172,
   "metadata": {},
   "outputs": [
    {
     "data": {
      "text/plain": [
       "1537375"
      ]
     },
     "execution_count": 172,
     "metadata": {},
     "output_type": "execute_result"
    }
   ],
   "source": [
    "len(df.query(\"attribute == 'env_broad_scale'\"))"
   ]
  },
  {
   "cell_type": "code",
   "execution_count": null,
   "metadata": {},
   "outputs": [],
   "source": []
  }
 ],
 "metadata": {
  "kernelspec": {
   "display_name": "Python 3",
   "language": "python",
   "name": "python3"
  },
  "language_info": {
   "codemirror_mode": {
    "name": "ipython",
    "version": 3
   },
   "file_extension": ".py",
   "mimetype": "text/x-python",
   "name": "python",
   "nbconvert_exporter": "python",
   "pygments_lexer": "ipython3",
   "version": "3.7.4"
  }
 },
 "nbformat": 4,
 "nbformat_minor": 4
}
