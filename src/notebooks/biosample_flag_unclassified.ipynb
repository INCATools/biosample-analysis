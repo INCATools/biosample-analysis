{
 "cells": [
  {
   "cell_type": "code",
   "execution_count": null,
   "metadata": {},
   "outputs": [],
   "source": [
    "import pandas as pd\n",
    "import re\n",
    "import requests as requests\n",
    "import sqlite3\n",
    "import string\n",
    "import urllib\n",
    "import yaml\n",
    "\n",
    "import scoped_mapping\n",
    "\n",
    "from datetime import datetime\n",
    "from pkg_resources import get_distribution, DistributionNotFound\n",
    "from strsimpy.cosine import Cosine\n",
    "from xml.etree import ElementTree\n",
    "from tdda import rexpy"
   ]
  },
  {
   "cell_type": "markdown",
   "metadata": {},
   "source": [
    "# User-provided data\n",
    "See repo README for notes on setting up SQLite databases of OBO ontologies with semantic-sql, relation-graph and rdftab"
   ]
  },
  {
   "cell_type": "code",
   "execution_count": null,
   "metadata": {},
   "outputs": [],
   "source": [
    "# from https://www.ncbi.nlm.nih.gov/biosample/docs/packages/?format=xml\n",
    "# see also https://www.ncbi.nlm.nih.gov/biosample/docs/packages/\n",
    "biosample_packages_file = \"../../target/biosample_packages.xml\"\n",
    "\n",
    "# from ftp://ftp.ncbi.nlm.nih.gov//biosample/biosample_set.xml.gz\n",
    "# via harmonized_table.db.gz\n",
    "# in https://drive.google.com/drive/u/0/folders/1eL0v0stoduahjDpoDJIk3z2pJBAU4b2Y\n",
    "biosample_sqlite_file = \"../../target/harmonized-table.db\"\n",
    "ncbitaxon_sqlite_file = \"../../../scoped-mapping/semantic-sql/db/ncbitaxon.db\""
   ]
  },
  {
   "cell_type": "code",
   "execution_count": null,
   "metadata": {},
   "outputs": [],
   "source": [
    "biosample_cnx = sqlite3.connect(biosample_sqlite_file)\n",
    "ncbitaxon_cnx = sqlite3.connect(ncbitaxon_sqlite_file)"
   ]
  },
  {
   "cell_type": "markdown",
   "metadata": {},
   "source": [
    "# Utilizing taxonomy for broad subsetting\n"
   ]
  },
  {
   "cell_type": "markdown",
   "metadata": {},
   "source": [
    "**This uses an SQLite database in which the transitive closure over subClassOf has already been materialized. See the README and Makefile.**\n",
    "\n",
    "Specifically, flag the Biosamples whose `taxon_id` indicates they are an unclassified entity. Ignoring the others will throw out samples of multicellular organisms, like fruit flies.\n",
    "\n"
   ]
  },
  {
   "cell_type": "markdown",
   "metadata": {},
   "source": [
    "## Get a listing of all taxa that are transitive subclasses of `NCBITaxon:2787823`\n",
    "\n",
    "I.e. 'unclassified entities'"
   ]
  },
  {
   "cell_type": "code",
   "execution_count": null,
   "metadata": {},
   "outputs": [],
   "source": [
    "q = \"\"\"\n",
    "select\n",
    "    distinct s.subject\n",
    "from\n",
    "    entailed_edge ee\n",
    "join statements s on\n",
    "    ee.subject = s.subject\n",
    "where\n",
    "    ee.predicate = 'rdfs:subClassOf'\n",
    "    and ee.object = 'NCBITaxon:2787823'\n",
    "    and s.predicate = 'rdfs:label'\n",
    "\"\"\"\n",
    "[unclassified_taxa, query_duration] = scoped_mapping.timed_query(q, ncbitaxon_cnx)\n",
    "unclassified_taxa[\"unclassified\"] = True\n",
    "\n",
    "print(query_duration)\n",
    "\n",
    "unclassified_taxa"
   ]
  },
  {
   "cell_type": "markdown",
   "metadata": {},
   "source": [
    "## Get taxon counts from the Biosample metadata"
   ]
  },
  {
   "cell_type": "code",
   "execution_count": null,
   "metadata": {},
   "outputs": [],
   "source": [
    "q = \"\"\"\n",
    "select\n",
    "    taxonomy_id biosample_taxid,\n",
    "    count(*) as count\n",
    "from\n",
    "    biosample b\n",
    "group by\n",
    "    taxonomy_id\n",
    "order by\n",
    "    count(*) desc\n",
    "\"\"\"\n",
    "[biosample_sample_taxon_summary, query_duration] = scoped_mapping.timed_query(\n",
    "    q, biosample_cnx\n",
    ")\n",
    "biosample_sample_taxon_summary[\"curie\"] = \"NCBITaxon:\" + biosample_sample_taxon_summary[\n",
    "    \"biosample_taxid\"\n",
    "].astype(str)\n",
    "\n",
    "print(query_duration)"
   ]
  },
  {
   "cell_type": "markdown",
   "metadata": {},
   "source": [
    "## Merge the two taxonomy dataframes\n",
    "\n",
    "I.e. flag the the Biosample records whose `taxonomy_id` field belongs to a subclass of 'unclassified entries'."
   ]
  },
  {
   "cell_type": "code",
   "execution_count": null,
   "metadata": {},
   "outputs": [],
   "source": [
    "biosample_sample_taxon_summary = biosample_sample_taxon_summary.merge(\n",
    "    unclassified_taxa, left_on=\"curie\", right_on=\"subject\", how=\"left\"\n",
    ")\n",
    "biosample_sample_taxon_summary.unclassified.fillna(False, inplace=True)\n",
    "\n",
    "biosample_sample_taxon_summary"
   ]
  },
  {
   "cell_type": "markdown",
   "metadata": {},
   "source": [
    "## Add labels to all taxa"
   ]
  },
  {
   "cell_type": "code",
   "execution_count": null,
   "metadata": {},
   "outputs": [],
   "source": [
    "q = \"\"\"\n",
    "select\n",
    "    subject ,\n",
    "    value\n",
    "from statements\n",
    "where\n",
    "    predicate = 'rdfs:label' and subject = stanza\n",
    "\"\"\"\n",
    "[all_tax_labels, query_duration] = scoped_mapping.timed_query(q, ncbitaxon_cnx)\n",
    "\n",
    "biosample_sample_taxon_summary = biosample_sample_taxon_summary.merge(\n",
    "    all_tax_labels, left_on=\"curie\", right_on=\"subject\", how=\"left\"\n",
    ")\n",
    "\n",
    "biosample_sample_taxon_summary = biosample_sample_taxon_summary[\n",
    "    [\"curie\", \"biosample_taxid\", \"count\", \"unclassified\", \"value\"]\n",
    "]\n",
    "biosample_sample_taxon_summary.columns = [\n",
    "    \"curie\",\n",
    "    \"biosample_taxid\",\n",
    "    \"count\",\n",
    "    \"unclassified\",\n",
    "    \"label\",\n",
    "]\n",
    "\n",
    "print(query_duration)\n",
    "biosample_sample_taxon_summary.to_sql(\n",
    "    \"biosample_sample_taxon_summary\", biosample_cnx, if_exists=\"replace\", index=False\n",
    ")\n",
    "\n",
    "all_tax_labels.to_sql(\"all_tax_labels\", biosample_cnx, if_exists=\"replace\", index=False)\n",
    "\n",
    "biosample_sample_taxon_summary"
   ]
  },
  {
   "cell_type": "markdown",
   "metadata": {},
   "source": [
    "**Almost all of the taxa that are common in the biosample collection are either unclassified/metagenomes or easily recognized cellular organisms. Cellular organism samples are de-prioritized in this exercise**\n",
    "\n",
    "Exceptions include:\n",
    "- 32630 = synthetic construct (other entries; other sequences; artificial sequences)\n",
    "    - 'other entries' would add 16k rows on top of the 1k 'unclassified entities'\n",
    "    - metagenomes account for 331 of the 'unclassified entities'\n",
    "    - there are also a small number of uncultured/unclassified microorganisms in the biosample dataset\n",
    "- 77133 = uncultured bacterium (cellular organisms; Bacteria; environmental samples)\n",
    "    - 'cellular organisms' would add 2M rows on top of the 1k 'unclassified entities'\n",
    "    - 'cellular organisms; Bacteria; environmental samples' adds 26k\n",
    "    \n",
    "----"
   ]
  }
 ],
 "metadata": {
  "kernelspec": {
   "display_name": "Python 3",
   "language": "python",
   "name": "python3"
  },
  "language_info": {
   "codemirror_mode": {
    "name": "ipython",
    "version": 3
   },
   "file_extension": ".py",
   "mimetype": "text/x-python",
   "name": "python",
   "nbconvert_exporter": "python",
   "pygments_lexer": "ipython3",
   "version": "3.8.2"
  }
 },
 "nbformat": 4,
 "nbformat_minor": 5
}
