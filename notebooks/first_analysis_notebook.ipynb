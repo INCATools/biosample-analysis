{
 "cells": [
  {
   "cell_type": "code",
   "execution_count": 13,
   "metadata": {},
   "outputs": [],
   "source": [
    "import timeit\n",
    "import pyarrow\n",
    "import pandas as pd\n",
    "import numpy as np\n",
    "import time\n",
    "\n",
    "from sklearn.tree import DecisionTreeClassifier\n",
    "from sklearn.externals.six import StringIO  \n",
    "from IPython.display import Image  \n",
    "import pydotplus\n",
    "from sklearn.tree import export_graphviz\n",
    "from sklearn import preprocessing\n",
    "from sklearn.preprocessing import OneHotEncoder"
   ]
  },
  {
   "cell_type": "markdown",
   "metadata": {},
   "source": [
    "Below we read the data from a compressed parquet file into a pandas df"
   ]
  },
  {
   "cell_type": "code",
   "execution_count": 4,
   "metadata": {},
   "outputs": [
    {
     "name": "stdout",
     "output_type": "stream",
     "text": [
      "seconds 304.14172101020813\n"
     ]
    }
   ],
   "source": [
    "start_time = time.time()\n",
    "\n",
    "df = pd.read_parquet(\"harmonized-table.parquet.gzip\")\n",
    "\n",
    "exec_time = (time.time() - start_time)\n",
    "print('seconds ' + str(exec_time))"
   ]
  },
  {
   "cell_type": "code",
   "execution_count": 5,
   "metadata": {},
   "outputs": [
    {
     "name": "stdout",
     "output_type": "stream",
     "text": [
      "<class 'pandas.core.frame.DataFrame'>\n",
      "RangeIndex: 14300584 entries, 0 to 14300583\n",
      "Columns: 464 entries, accession to trophic_level\n",
      "dtypes: object(464)\n",
      "memory usage: 49.4+ GB\n"
     ]
    }
   ],
   "source": [
    "df.info()"
   ]
  },
  {
   "cell_type": "code",
   "execution_count": 3,
   "metadata": {},
   "outputs": [
    {
     "name": "stdout",
     "output_type": "stream",
     "text": [
      "seconds 5109.506125926971\n"
     ]
    }
   ],
   "source": [
    "start_time = time.time()\n",
    "\n",
    "df_describe = df.describe(include='all')\n",
    "\n",
    "exec_time = (time.time() - start_time)\n",
    "print('seconds ' + str(exec_time))"
   ]
  },
  {
   "cell_type": "code",
   "execution_count": 4,
   "metadata": {},
   "outputs": [
    {
     "data": {
      "text/html": [
       "<div>\n",
       "<style scoped>\n",
       "    .dataframe tbody tr th:only-of-type {\n",
       "        vertical-align: middle;\n",
       "    }\n",
       "\n",
       "    .dataframe tbody tr th {\n",
       "        vertical-align: top;\n",
       "    }\n",
       "\n",
       "    .dataframe thead th {\n",
       "        text-align: right;\n",
       "    }\n",
       "</style>\n",
       "<table border=\"1\" class=\"dataframe\">\n",
       "  <thead>\n",
       "    <tr style=\"text-align: right;\">\n",
       "      <th></th>\n",
       "      <th>accession</th>\n",
       "      <th>urogenit_disord</th>\n",
       "      <th>gap_consent_short_name</th>\n",
       "      <th>phenotype</th>\n",
       "      <th>dose</th>\n",
       "      <th>tot_nitro</th>\n",
       "      <th>tot_depth_water_col</th>\n",
       "      <th>nitrate</th>\n",
       "      <th>samp_store_dur</th>\n",
       "      <th>perturbation</th>\n",
       "      <th>...</th>\n",
       "      <th>porosity</th>\n",
       "      <th>birth_date</th>\n",
       "      <th>tot_phosp</th>\n",
       "      <th>water_content</th>\n",
       "      <th>samp_vol_we_dna_ext</th>\n",
       "      <th>host_taxid</th>\n",
       "      <th>label</th>\n",
       "      <th>type_strain</th>\n",
       "      <th>family_relationship</th>\n",
       "      <th>trophic_level</th>\n",
       "    </tr>\n",
       "  </thead>\n",
       "  <tbody>\n",
       "    <tr>\n",
       "      <th>count</th>\n",
       "      <td>14300583</td>\n",
       "      <td>0</td>\n",
       "      <td>4079113</td>\n",
       "      <td>185928</td>\n",
       "      <td>13196</td>\n",
       "      <td>16138</td>\n",
       "      <td>3162</td>\n",
       "      <td>16333</td>\n",
       "      <td>12891</td>\n",
       "      <td>20305</td>\n",
       "      <td>...</td>\n",
       "      <td>999</td>\n",
       "      <td>33672</td>\n",
       "      <td>4292</td>\n",
       "      <td>2689</td>\n",
       "      <td>29968</td>\n",
       "      <td>204128</td>\n",
       "      <td>49937</td>\n",
       "      <td>1584</td>\n",
       "      <td>26878</td>\n",
       "      <td>5102</td>\n",
       "    </tr>\n",
       "    <tr>\n",
       "      <th>unique</th>\n",
       "      <td>14300583</td>\n",
       "      <td>0</td>\n",
       "      <td>616</td>\n",
       "      <td>9008</td>\n",
       "      <td>384</td>\n",
       "      <td>5710</td>\n",
       "      <td>500</td>\n",
       "      <td>2811</td>\n",
       "      <td>571</td>\n",
       "      <td>686</td>\n",
       "      <td>...</td>\n",
       "      <td>109</td>\n",
       "      <td>4446</td>\n",
       "      <td>875</td>\n",
       "      <td>1278</td>\n",
       "      <td>1226</td>\n",
       "      <td>5283</td>\n",
       "      <td>37670</td>\n",
       "      <td>14</td>\n",
       "      <td>1046</td>\n",
       "      <td>51</td>\n",
       "    </tr>\n",
       "    <tr>\n",
       "      <th>top</th>\n",
       "      <td>SAMN01127300</td>\n",
       "      <td>NaN</td>\n",
       "      <td>GRU</td>\n",
       "      <td>Unknown</td>\n",
       "      <td>Ustekinumab 45 mg</td>\n",
       "      <td>not collected</td>\n",
       "      <td>20</td>\n",
       "      <td>Missing: Not provided</td>\n",
       "      <td>missing</td>\n",
       "      <td>not applicable</td>\n",
       "      <td>...</td>\n",
       "      <td>0.3</td>\n",
       "      <td>not applicable</td>\n",
       "      <td>15.1 ÃÂµg/L</td>\n",
       "      <td>not applicable</td>\n",
       "      <td>0.25 g</td>\n",
       "      <td>9606</td>\n",
       "      <td>missing</td>\n",
       "      <td>Yes</td>\n",
       "      <td>proband</td>\n",
       "      <td>heterotroph</td>\n",
       "    </tr>\n",
       "    <tr>\n",
       "      <th>freq</th>\n",
       "      <td>1</td>\n",
       "      <td>NaN</td>\n",
       "      <td>1300152</td>\n",
       "      <td>20296</td>\n",
       "      <td>2907</td>\n",
       "      <td>428</td>\n",
       "      <td>418</td>\n",
       "      <td>2257</td>\n",
       "      <td>978</td>\n",
       "      <td>1547</td>\n",
       "      <td>...</td>\n",
       "      <td>146</td>\n",
       "      <td>2621</td>\n",
       "      <td>140</td>\n",
       "      <td>169</td>\n",
       "      <td>3927</td>\n",
       "      <td>92901</td>\n",
       "      <td>293</td>\n",
       "      <td>1053</td>\n",
       "      <td>4343</td>\n",
       "      <td>1057</td>\n",
       "    </tr>\n",
       "  </tbody>\n",
       "</table>\n",
       "<p>4 rows × 464 columns</p>\n",
       "</div>"
      ],
      "text/plain": [
       "           accession urogenit_disord gap_consent_short_name phenotype  \\\n",
       "count       14300583               0                4079113    185928   \n",
       "unique      14300583               0                    616      9008   \n",
       "top     SAMN01127300             NaN                    GRU   Unknown   \n",
       "freq               1             NaN                1300152     20296   \n",
       "\n",
       "                     dose      tot_nitro tot_depth_water_col  \\\n",
       "count               13196          16138                3162   \n",
       "unique                384           5710                 500   \n",
       "top     Ustekinumab 45 mg  not collected                  20   \n",
       "freq                 2907            428                 418   \n",
       "\n",
       "                      nitrate samp_store_dur    perturbation  ... porosity  \\\n",
       "count                   16333          12891           20305  ...      999   \n",
       "unique                   2811            571             686  ...      109   \n",
       "top     Missing: Not provided        missing  not applicable  ...      0.3   \n",
       "freq                     2257            978            1547  ...      146   \n",
       "\n",
       "            birth_date     tot_phosp   water_content samp_vol_we_dna_ext  \\\n",
       "count            33672          4292            2689               29968   \n",
       "unique            4446           875            1278                1226   \n",
       "top     not applicable  15.1 ÃÂµg/L  not applicable              0.25 g   \n",
       "freq              2621           140             169                3927   \n",
       "\n",
       "       host_taxid    label type_strain family_relationship trophic_level  \n",
       "count      204128    49937        1584               26878          5102  \n",
       "unique       5283    37670          14                1046            51  \n",
       "top          9606  missing         Yes             proband   heterotroph  \n",
       "freq        92901      293        1053                4343          1057  \n",
       "\n",
       "[4 rows x 464 columns]"
      ]
     },
     "execution_count": 4,
     "metadata": {},
     "output_type": "execute_result"
    }
   ],
   "source": [
    "df_describe"
   ]
  },
  {
   "cell_type": "code",
   "execution_count": 5,
   "metadata": {},
   "outputs": [],
   "source": [
    "df_describe.to_csv(\"harmonized-table.parquet_describe.tsv\", sep=\"\\t\", header=True, index=True)"
   ]
  },
  {
   "cell_type": "code",
   "execution_count": 6,
   "metadata": {},
   "outputs": [
    {
     "data": {
      "text/plain": [
       "300      13\n",
       "105      10\n",
       "1         8\n",
       "492       8\n",
       "689       7\n",
       "         ..\n",
       "2388      1\n",
       "56998     1\n",
       "1367      1\n",
       "344       1\n",
       "621       1\n",
       "Name: freq, Length: 347, dtype: int64"
      ]
     },
     "execution_count": 6,
     "metadata": {},
     "output_type": "execute_result"
    }
   ],
   "source": [
    "df_describe.iloc[3,].value_counts()"
   ]
  },
  {
   "cell_type": "code",
   "execution_count": 8,
   "metadata": {},
   "outputs": [
    {
     "data": {
      "text/html": [
       "<div>\n",
       "<style scoped>\n",
       "    .dataframe tbody tr th:only-of-type {\n",
       "        vertical-align: middle;\n",
       "    }\n",
       "\n",
       "    .dataframe tbody tr th {\n",
       "        vertical-align: top;\n",
       "    }\n",
       "\n",
       "    .dataframe thead th {\n",
       "        text-align: right;\n",
       "    }\n",
       "</style>\n",
       "<table border=\"1\" class=\"dataframe\">\n",
       "  <thead>\n",
       "    <tr style=\"text-align: right;\">\n",
       "      <th></th>\n",
       "      <th>urogenit_disord</th>\n",
       "      <th>douche</th>\n",
       "      <th>menarche</th>\n",
       "      <th>attribute</th>\n",
       "      <th>hrt</th>\n",
       "    </tr>\n",
       "  </thead>\n",
       "  <tbody>\n",
       "    <tr>\n",
       "      <th>count</th>\n",
       "      <td>0</td>\n",
       "      <td>0</td>\n",
       "      <td>0</td>\n",
       "      <td>0</td>\n",
       "      <td>0</td>\n",
       "    </tr>\n",
       "    <tr>\n",
       "      <th>unique</th>\n",
       "      <td>0</td>\n",
       "      <td>0</td>\n",
       "      <td>0</td>\n",
       "      <td>0</td>\n",
       "      <td>0</td>\n",
       "    </tr>\n",
       "    <tr>\n",
       "      <th>top</th>\n",
       "      <td>NaN</td>\n",
       "      <td>NaN</td>\n",
       "      <td>NaN</td>\n",
       "      <td>NaN</td>\n",
       "      <td>NaN</td>\n",
       "    </tr>\n",
       "    <tr>\n",
       "      <th>freq</th>\n",
       "      <td>NaN</td>\n",
       "      <td>NaN</td>\n",
       "      <td>NaN</td>\n",
       "      <td>NaN</td>\n",
       "      <td>NaN</td>\n",
       "    </tr>\n",
       "  </tbody>\n",
       "</table>\n",
       "</div>"
      ],
      "text/plain": [
       "       urogenit_disord douche menarche attribute  hrt\n",
       "count                0      0        0         0    0\n",
       "unique               0      0        0         0    0\n",
       "top                NaN    NaN      NaN       NaN  NaN\n",
       "freq               NaN    NaN      NaN       NaN  NaN"
      ]
     },
     "execution_count": 8,
     "metadata": {},
     "output_type": "execute_result"
    }
   ],
   "source": [
    "df_describe.loc[:, df_describe.isna().any()]"
   ]
  },
  {
   "cell_type": "markdown",
   "metadata": {},
   "source": [
    "a first pass at values corresponding to 'no information', candidates for NA replacement for ML"
   ]
  },
  {
   "cell_type": "code",
   "execution_count": null,
   "metadata": {},
   "outputs": [],
   "source": [
    "missing_labels = ['NaN', 'Unknown', 'not collected', 'Missing: Not provided', 'missing', 'not applicable', 'not provided', '']"
   ]
  },
  {
   "cell_type": "code",
   "execution_count": 5,
   "metadata": {},
   "outputs": [
    {
     "data": {
      "text/plain": [
       "count                      1545145\n",
       "unique                       17586\n",
       "top       human-associated habitat\n",
       "freq                        116964\n",
       "Name: env_broad_scale, dtype: object"
      ]
     },
     "execution_count": 5,
     "metadata": {},
     "output_type": "execute_result"
    }
   ],
   "source": [
    "df['env_broad_scale'].describe()"
   ]
  },
  {
   "cell_type": "code",
   "execution_count": 6,
   "metadata": {},
   "outputs": [
    {
     "data": {
      "text/plain": [
       "human-associated habitat    116964\n",
       "missing                     108895\n",
       "urban biome                  86064\n",
       "not applicable               72041\n",
       "Bos taurus                   25803\n",
       "                             ...  \n",
       "AMC2-6                           1\n",
       "lake environment25               1\n",
       "ratGE4.4                         1\n",
       "alpine grassland 116             1\n",
       "Organism2                        1\n",
       "Name: env_broad_scale, Length: 17586, dtype: int64"
      ]
     },
     "execution_count": 6,
     "metadata": {},
     "output_type": "execute_result"
    }
   ],
   "source": [
    "df['env_broad_scale'].value_counts()"
   ]
  },
  {
   "cell_type": "code",
   "execution_count": 7,
   "metadata": {},
   "outputs": [
    {
     "data": {
      "text/plain": [
       "feces                     146111\n",
       "faeces                    103521\n",
       "soil                       99029\n",
       "missing                    98177\n",
       "not applicable             71522\n",
       "                           ...  \n",
       "131955                         1\n",
       "Stool_02-047-4_6_month         1\n",
       "feces_GE4.4                    1\n",
       "Gut_St.Denijs_010              1\n",
       "feces_21SM.w2d                 1\n",
       "Name: env_medium, Length: 22520, dtype: int64"
      ]
     },
     "execution_count": 7,
     "metadata": {},
     "output_type": "execute_result"
    }
   ],
   "source": [
    "df['env_medium'].value_counts()"
   ]
  },
  {
   "cell_type": "code",
   "execution_count": 9,
   "metadata": {},
   "outputs": [
    {
     "name": "stdout",
     "output_type": "stream",
     "text": [
      "Collecting sklearn.preprocessing\n",
      "\u001b[31m  Could not find a version that satisfies the requirement sklearn.preprocessing (from versions: )\u001b[0m\n",
      "\u001b[31mNo matching distribution found for sklearn.preprocessing\u001b[0m\n"
     ]
    }
   ],
   "source": [
    "!pip install sklearn.preprocessing"
   ]
  },
  {
   "cell_type": "code",
   "execution_count": 12,
   "metadata": {},
   "outputs": [
    {
     "ename": "ValueError",
     "evalue": "bad input shape (14300584, 464)",
     "output_type": "error",
     "traceback": [
      "\u001b[0;31m---------------------------------------------------------------------------\u001b[0m",
      "\u001b[0;31mValueError\u001b[0m                                Traceback (most recent call last)",
      "\u001b[0;32m<ipython-input-12-2ddcd7ae7b76>\u001b[0m in \u001b[0;36m<module>\u001b[0;34m\u001b[0m\n\u001b[1;32m      1\u001b[0m \u001b[0mlaen\u001b[0m \u001b[0;34m=\u001b[0m \u001b[0mpreprocessing\u001b[0m\u001b[0;34m.\u001b[0m\u001b[0mLabelEncoder\u001b[0m\u001b[0;34m(\u001b[0m\u001b[0;34m)\u001b[0m\u001b[0;34m\u001b[0m\u001b[0;34m\u001b[0m\u001b[0m\n\u001b[1;32m      2\u001b[0m \u001b[0;34m\u001b[0m\u001b[0m\n\u001b[0;32m----> 3\u001b[0;31m \u001b[0mdf_encode\u001b[0m \u001b[0;34m=\u001b[0m \u001b[0mlaen\u001b[0m\u001b[0;34m.\u001b[0m\u001b[0mfit_transform\u001b[0m\u001b[0;34m(\u001b[0m\u001b[0mdf\u001b[0m\u001b[0;34m)\u001b[0m\u001b[0;34m\u001b[0m\u001b[0;34m\u001b[0m\u001b[0m\n\u001b[0m",
      "\u001b[0;32m/Library/Frameworks/Python.framework/Versions/3.7/lib/python3.7/site-packages/sklearn/preprocessing/label.py\u001b[0m in \u001b[0;36mfit_transform\u001b[0;34m(self, y)\u001b[0m\n\u001b[1;32m    233\u001b[0m         \u001b[0my\u001b[0m \u001b[0;34m:\u001b[0m \u001b[0marray\u001b[0m\u001b[0;34m-\u001b[0m\u001b[0mlike\u001b[0m \u001b[0mof\u001b[0m \u001b[0mshape\u001b[0m \u001b[0;34m[\u001b[0m\u001b[0mn_samples\u001b[0m\u001b[0;34m]\u001b[0m\u001b[0;34m\u001b[0m\u001b[0;34m\u001b[0m\u001b[0m\n\u001b[1;32m    234\u001b[0m         \"\"\"\n\u001b[0;32m--> 235\u001b[0;31m         \u001b[0my\u001b[0m \u001b[0;34m=\u001b[0m \u001b[0mcolumn_or_1d\u001b[0m\u001b[0;34m(\u001b[0m\u001b[0my\u001b[0m\u001b[0;34m,\u001b[0m \u001b[0mwarn\u001b[0m\u001b[0;34m=\u001b[0m\u001b[0;32mTrue\u001b[0m\u001b[0;34m)\u001b[0m\u001b[0;34m\u001b[0m\u001b[0;34m\u001b[0m\u001b[0m\n\u001b[0m\u001b[1;32m    236\u001b[0m         \u001b[0mself\u001b[0m\u001b[0;34m.\u001b[0m\u001b[0mclasses_\u001b[0m\u001b[0;34m,\u001b[0m \u001b[0my\u001b[0m \u001b[0;34m=\u001b[0m \u001b[0m_encode\u001b[0m\u001b[0;34m(\u001b[0m\u001b[0my\u001b[0m\u001b[0;34m,\u001b[0m \u001b[0mencode\u001b[0m\u001b[0;34m=\u001b[0m\u001b[0;32mTrue\u001b[0m\u001b[0;34m)\u001b[0m\u001b[0;34m\u001b[0m\u001b[0;34m\u001b[0m\u001b[0m\n\u001b[1;32m    237\u001b[0m         \u001b[0;32mreturn\u001b[0m \u001b[0my\u001b[0m\u001b[0;34m\u001b[0m\u001b[0;34m\u001b[0m\u001b[0m\n",
      "\u001b[0;32m/Library/Frameworks/Python.framework/Versions/3.7/lib/python3.7/site-packages/sklearn/utils/validation.py\u001b[0m in \u001b[0;36mcolumn_or_1d\u001b[0;34m(y, warn)\u001b[0m\n\u001b[1;32m    795\u001b[0m         \u001b[0;32mreturn\u001b[0m \u001b[0mnp\u001b[0m\u001b[0;34m.\u001b[0m\u001b[0mravel\u001b[0m\u001b[0;34m(\u001b[0m\u001b[0my\u001b[0m\u001b[0;34m)\u001b[0m\u001b[0;34m\u001b[0m\u001b[0;34m\u001b[0m\u001b[0m\n\u001b[1;32m    796\u001b[0m \u001b[0;34m\u001b[0m\u001b[0m\n\u001b[0;32m--> 797\u001b[0;31m     \u001b[0;32mraise\u001b[0m \u001b[0mValueError\u001b[0m\u001b[0;34m(\u001b[0m\u001b[0;34m\"bad input shape {0}\"\u001b[0m\u001b[0;34m.\u001b[0m\u001b[0mformat\u001b[0m\u001b[0;34m(\u001b[0m\u001b[0mshape\u001b[0m\u001b[0;34m)\u001b[0m\u001b[0;34m)\u001b[0m\u001b[0;34m\u001b[0m\u001b[0;34m\u001b[0m\u001b[0m\n\u001b[0m\u001b[1;32m    798\u001b[0m \u001b[0;34m\u001b[0m\u001b[0m\n\u001b[1;32m    799\u001b[0m \u001b[0;34m\u001b[0m\u001b[0m\n",
      "\u001b[0;31mValueError\u001b[0m: bad input shape (14300584, 464)"
     ]
    }
   ],
   "source": [
    "#laen = preprocessing.LabelEncoder()\n",
    "#df_encode = laen.fit_transform(df)"
   ]
  },
  {
   "cell_type": "code",
   "execution_count": null,
   "metadata": {},
   "outputs": [],
   "source": [
    "#onehotencoder = OneHotEncoder(categorical_features = [0])\n",
    "\n",
    "df_encode = OneHotEncoder().fit_transform(df)"
   ]
  },
  {
   "cell_type": "code",
   "execution_count": null,
   "metadata": {},
   "outputs": [],
   "source": [
    "df_encode.to_parquet('harmonized-table__onehot.parquet')"
   ]
  },
  {
   "cell_type": "code",
   "execution_count": 6,
   "metadata": {},
   "outputs": [
    {
     "data": {
      "text/plain": [
       "pandas.core.indexes.base.Index"
      ]
     },
     "execution_count": 6,
     "metadata": {},
     "output_type": "execute_result"
    }
   ],
   "source": [
    "features = df.columns.drop('env_medium')\n",
    "type(features)"
   ]
  },
  {
   "cell_type": "code",
   "execution_count": 1,
   "metadata": {},
   "outputs": [
    {
     "ename": "NameError",
     "evalue": "name 'time' is not defined",
     "output_type": "error",
     "traceback": [
      "\u001b[0;31m---------------------------------------------------------------------------\u001b[0m",
      "\u001b[0;31mNameError\u001b[0m                                 Traceback (most recent call last)",
      "\u001b[0;32m<ipython-input-1-111d69c1ee8d>\u001b[0m in \u001b[0;36m<module>\u001b[0;34m\u001b[0m\n\u001b[0;32m----> 1\u001b[0;31m \u001b[0mstart_time\u001b[0m \u001b[0;34m=\u001b[0m \u001b[0mtime\u001b[0m\u001b[0;34m.\u001b[0m\u001b[0mtime\u001b[0m\u001b[0;34m(\u001b[0m\u001b[0;34m)\u001b[0m\u001b[0;34m\u001b[0m\u001b[0;34m\u001b[0m\u001b[0m\n\u001b[0m\u001b[1;32m      2\u001b[0m \u001b[0;34m\u001b[0m\u001b[0m\n\u001b[1;32m      3\u001b[0m \u001b[0my\u001b[0m\u001b[0;34m=\u001b[0m\u001b[0mdf\u001b[0m\u001b[0;34m[\u001b[0m\u001b[0;34m'env_medium'\u001b[0m\u001b[0;34m]\u001b[0m\u001b[0;34m\u001b[0m\u001b[0;34m\u001b[0m\u001b[0m\n\u001b[1;32m      4\u001b[0m \u001b[0mX\u001b[0m\u001b[0;34m=\u001b[0m\u001b[0mdf\u001b[0m\u001b[0;34m[\u001b[0m\u001b[0mfeatures\u001b[0m\u001b[0;34m]\u001b[0m\u001b[0;34m\u001b[0m\u001b[0;34m\u001b[0m\u001b[0m\n\u001b[1;32m      5\u001b[0m \u001b[0;34m\u001b[0m\u001b[0m\n",
      "\u001b[0;31mNameError\u001b[0m: name 'time' is not defined"
     ]
    }
   ],
   "source": [
    "start_time = time.time()\n",
    "\n",
    "y=df['env_medium']\n",
    "X=df[features]\n",
    "\n",
    "###TODO: increase splits\n",
    "dtree=DecisionTreeClassifier(min_samples_split=20, random_state=9999)\n",
    "#df_trim = df.drop('env_medium', axis=1) \n",
    "dtree.fit(X,y)\n",
    "print('Decision Tree Classifer Created')\n",
    "\n",
    "exec_time = (time.time() - start_time)\n",
    "print('seconds ' + str(exec_time))"
   ]
  },
  {
   "cell_type": "code",
   "execution_count": null,
   "metadata": {},
   "outputs": [],
   "source": [
    "def visualize_tree(tree, feature_names):\n",
    "    \"\"\"Create tree png using graphviz.\n",
    "\n",
    "    Args\n",
    "    ----\n",
    "    tree -- scikit-learn DecsisionTree.\n",
    "    feature_names -- list of feature names.\n",
    "    \"\"\"\n",
    "    with open(\"dt.dot\", 'w') as f:\n",
    "        export_graphviz(tree, out_file=f,\n",
    "                        feature_names=feature_names)\n",
    "\n",
    "    command = [\"dot\", \"-Tpng\", \"dt.dot\", \"-o\", \"dt.png\"]\n",
    "    try:\n",
    "        subprocess.check_call(command)\n",
    "    except:\n",
    "        exit(\"Could not run dot, ie graphviz, to \"\n",
    "             \"produce visualization\")"
   ]
  },
  {
   "cell_type": "code",
   "execution_count": null,
   "metadata": {},
   "outputs": [],
   "source": [
    "visualize_tree(dt, features)"
   ]
  },
  {
   "cell_type": "code",
   "execution_count": null,
   "metadata": {},
   "outputs": [],
   "source": []
  },
  {
   "cell_type": "code",
   "execution_count": null,
   "metadata": {},
   "outputs": [],
   "source": [
    "start_time = time.time()\n",
    "\n",
    "dot_data = StringIO()\n",
    "export_graphviz(dtree, out_file=dot_data, feature_names=labels,  \n",
    "                filled=True, rounded=True,\n",
    "                special_characters=True)\n",
    "graph = pydotplus.graph_from_dot_data(dot_data.getvalue())  \n",
    "Image(graph.create_png())\n",
    "\n",
    "exec_time = (time.time() - start_time)\n",
    "print('seconds ' + str(exec_time))"
   ]
  }
 ],
 "metadata": {
  "kernelspec": {
   "display_name": "Python 3",
   "language": "python",
   "name": "python3"
  },
  "language_info": {
   "codemirror_mode": {
    "name": "ipython",
    "version": 3
   },
   "file_extension": ".py",
   "mimetype": "text/x-python",
   "name": "python",
   "nbconvert_exporter": "python",
   "pygments_lexer": "ipython3",
   "version": "3.7.2"
  }
 },
 "nbformat": 4,
 "nbformat_minor": 4
}
